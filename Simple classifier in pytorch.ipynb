{
 "cells": [
  {
   "cell_type": "markdown",
   "metadata": {},
   "source": [
    "# Todo"
   ]
  },
  {
   "cell_type": "markdown",
   "metadata": {},
   "source": [
    "* Make decent vanilla classifier\n",
    "     * ~~Resize instead of cropping~~\n",
    "     * ~~Stop using new_whale as class~~\n",
    "* Make siamese model\n",
    "* Optimize image size\n",
    "* Optimize dupilcate detector\n",
    "* Optimize augmentation\n",
    "* ~~Optimize tail detector and crop~~\n",
    "    * ~~Use ResNext50 as opposed to ResNet34~~\n",
    "    * ~~Add more data from other kaggle users~~\n",
    "    * ~~Fix my boxes~~\n",
    "    * Fix lisa's boxes"
   ]
  },
  {
   "cell_type": "markdown",
   "metadata": {},
   "source": [
    "# Imports"
   ]
  },
  {
   "cell_type": "code",
   "execution_count": 1,
   "metadata": {
    "ExecuteTime": {
     "end_time": "2018-07-16T14:24:21.305342Z",
     "start_time": "2018-07-16T14:24:21.013879Z"
    }
   },
   "outputs": [],
   "source": [
    "import os\n",
    "import pandas as pd\n",
    "import numpy as np"
   ]
  },
  {
   "cell_type": "code",
   "execution_count": 2,
   "metadata": {
    "ExecuteTime": {
     "end_time": "2018-07-16T14:24:22.166155Z",
     "start_time": "2018-07-16T14:24:21.307520Z"
    }
   },
   "outputs": [],
   "source": [
    "from fastai.imports import *"
   ]
  },
  {
   "cell_type": "code",
   "execution_count": 3,
   "metadata": {
    "ExecuteTime": {
     "end_time": "2018-07-16T14:24:22.653554Z",
     "start_time": "2018-07-16T14:24:22.168150Z"
    }
   },
   "outputs": [],
   "source": [
    "from fastai.transforms import *\n",
    "from fastai.conv_learner import *\n",
    "from fastai.model import *\n",
    "from fastai.dataset import *\n",
    "from fastai.sgdr import *\n",
    "from fastai.plots import *"
   ]
  },
  {
   "cell_type": "code",
   "execution_count": 4,
   "metadata": {
    "ExecuteTime": {
     "end_time": "2018-07-16T14:24:23.110471Z",
     "start_time": "2018-07-16T14:24:23.107027Z"
    }
   },
   "outputs": [],
   "source": [
    "from pathlib import Path"
   ]
  },
  {
   "cell_type": "markdown",
   "metadata": {
    "heading_collapsed": true
   },
   "source": [
    "# Make new_whale-less csv"
   ]
  },
  {
   "cell_type": "code",
   "execution_count": 11,
   "metadata": {
    "ExecuteTime": {
     "end_time": "2018-06-25T15:20:17.960527Z",
     "start_time": "2018-06-25T15:20:17.946623Z"
    },
    "hidden": true
   },
   "outputs": [],
   "source": [
    "class_df = pd.read_csv(PATH/'train.csv')"
   ]
  },
  {
   "cell_type": "code",
   "execution_count": 15,
   "metadata": {
    "ExecuteTime": {
     "end_time": "2018-06-25T15:21:22.369504Z",
     "start_time": "2018-06-25T15:21:22.361711Z"
    },
    "hidden": true
   },
   "outputs": [],
   "source": [
    "nonw_df = class_df.loc[class_df['Id'] != 'new_whale']"
   ]
  },
  {
   "cell_type": "code",
   "execution_count": 17,
   "metadata": {
    "ExecuteTime": {
     "end_time": "2018-06-25T15:23:11.512558Z",
     "start_time": "2018-06-25T15:23:11.495594Z"
    },
    "hidden": true
   },
   "outputs": [],
   "source": [
    "nonw_df.to_csv(PATH/'train_no-nw.csv',index=False)"
   ]
  },
  {
   "cell_type": "markdown",
   "metadata": {},
   "source": [
    "# Set up model"
   ]
  },
  {
   "cell_type": "markdown",
   "metadata": {},
   "source": [
    "## Make cross-validation work"
   ]
  },
  {
   "cell_type": "code",
   "execution_count": 5,
   "metadata": {
    "ExecuteTime": {
     "end_time": "2018-07-16T14:24:25.846300Z",
     "start_time": "2018-07-16T14:24:25.843400Z"
    }
   },
   "outputs": [],
   "source": [
    "#PATH= 'D:/msc/kaggle_data/whales/'\n",
    "PATH= Path('../../kaggle/whales')\n",
    "SUBM_PATH = PATH/'submissions'\n",
    "TRN_CSV_PATH = PATH/'train_no-nw.csv'"
   ]
  },
  {
   "cell_type": "code",
   "execution_count": 6,
   "metadata": {
    "ExecuteTime": {
     "end_time": "2018-07-16T14:24:26.633165Z",
     "start_time": "2018-07-16T14:24:26.611908Z"
    }
   },
   "outputs": [],
   "source": [
    "cls_df = pd.read_csv(TRN_CSV_PATH)"
   ]
  },
  {
   "cell_type": "code",
   "execution_count": 7,
   "metadata": {
    "ExecuteTime": {
     "end_time": "2018-07-16T14:24:27.467922Z",
     "start_time": "2018-07-16T14:24:27.460186Z"
    }
   },
   "outputs": [],
   "source": [
    "def get_cv_idxs_safe(cls_df, cv_idx = 0, val_pct=0.2, seed=42):\n",
    "    answer = np.array([])\n",
    "    clss = cls_df['Id'].drop_duplicates().values\n",
    "    for name in clss:\n",
    "        cls = cls_df.loc[cls_df['Id'] == name]\n",
    "        n = len(cls)\n",
    "        np.random.seed(seed)\n",
    "        n_val = int(val_pct*n)\n",
    "        idx_start = cv_idx*n_val\n",
    "        idxs = np.random.permutation(cls.index)\n",
    "        answer = np.concatenate([answer, idxs[idx_start:idx_start+n_val]])\n",
    "    return(answer.astype(np.int64))"
   ]
  },
  {
   "cell_type": "markdown",
   "metadata": {
    "heading_collapsed": true
   },
   "source": [
    "## Play with single model"
   ]
  },
  {
   "cell_type": "code",
   "execution_count": 8,
   "metadata": {
    "ExecuteTime": {
     "end_time": "2018-06-29T00:23:43.465962Z",
     "start_time": "2018-06-29T00:23:43.463313Z"
    },
    "hidden": true
   },
   "outputs": [],
   "source": [
    "model=resnet34\n",
    "bs=64\n",
    "sz=299"
   ]
  },
  {
   "cell_type": "code",
   "execution_count": 9,
   "metadata": {
    "ExecuteTime": {
     "end_time": "2018-06-29T00:23:49.060621Z",
     "start_time": "2018-06-29T00:23:44.184414Z"
    },
    "hidden": true
   },
   "outputs": [],
   "source": [
    "val_idx = get_cv_idxs_safe(cls_df,cv_idx=0, val_pct=1/3)"
   ]
  },
  {
   "cell_type": "code",
   "execution_count": 10,
   "metadata": {
    "ExecuteTime": {
     "end_time": "2018-06-29T00:23:49.065177Z",
     "start_time": "2018-06-29T00:23:49.062327Z"
    },
    "hidden": true
   },
   "outputs": [],
   "source": [
    "def get_data(sz):\n",
    "    tfms = tfms_from_model(model, sz, crop_type=CropType.NO, aug_tfms=transforms_side_on, max_zoom=1.05)\n",
    "    return ImageClassifierData.from_csv(PATH,'trn_val_crop', TRN_CSV_PATH, val_idxs=val_idx, bs=bs, tfms=tfms, test_name='test_crop')"
   ]
  },
  {
   "cell_type": "code",
   "execution_count": 11,
   "metadata": {
    "ExecuteTime": {
     "end_time": "2018-06-29T00:23:56.478369Z",
     "start_time": "2018-06-29T00:23:49.066695Z"
    },
    "hidden": true
   },
   "outputs": [],
   "source": [
    "data = get_data(sz)\n",
    "learn=ConvLearner.pretrained(model, data, ps=0.6)"
   ]
  },
  {
   "cell_type": "code",
   "execution_count": 164,
   "metadata": {
    "ExecuteTime": {
     "end_time": "2018-06-26T20:54:45.987860Z",
     "start_time": "2018-06-26T20:52:14.056862Z"
    },
    "hidden": true
   },
   "outputs": [
    {
     "data": {
      "application/vnd.jupyter.widget-view+json": {
       "model_id": "34b0e9f0371b45a3b80afd5cc89c77ab",
       "version_major": 2,
       "version_minor": 0
      },
      "text/plain": [
       "HBox(children=(IntProgress(value=0, description='Epoch', max=1), HTML(value='')))"
      ]
     },
     "metadata": {},
     "output_type": "display_data"
    },
    {
     "name": "stdout",
     "output_type": "stream",
     "text": [
      " 82%|████████▏ | 98/120 [02:30<00:33,  1.53s/it, loss=81.7]"
     ]
    }
   ],
   "source": [
    "learn.lr_find(start_lr=1e-4, end_lr=100)"
   ]
  },
  {
   "cell_type": "code",
   "execution_count": 165,
   "metadata": {
    "ExecuteTime": {
     "end_time": "2018-06-26T20:55:38.050698Z",
     "start_time": "2018-06-26T20:55:37.771448Z"
    },
    "hidden": true
   },
   "outputs": [
    {
     "data": {
      "image/png": "[encoded data removed]",
      "text/plain": [
       "<Figure size 432x288 with 1 Axes>"
      ]
     },
     "metadata": {},
     "output_type": "display_data"
    }
   ],
   "source": [
    "learn.sched.plot()"
   ]
  },
  {
   "cell_type": "code",
   "execution_count": 166,
   "metadata": {
    "ExecuteTime": {
     "end_time": "2018-06-26T21:17:02.923061Z",
     "start_time": "2018-06-26T20:55:59.257458Z"
    },
    "hidden": true
   },
   "outputs": [
    {
     "data": {
      "application/vnd.jupyter.widget-view+json": {
       "model_id": "85867b838d30406a8fb0aa017923ec5c",
       "version_major": 2,
       "version_minor": 0
      },
      "text/plain": [
       "HBox(children=(IntProgress(value=0, description='Epoch', max=7), HTML(value='')))"
      ]
     },
     "metadata": {},
     "output_type": "display_data"
    },
    {
     "name": "stdout",
     "output_type": "stream",
     "text": [
      "  0%|          | 0/120 [00:00<?, ?it/s]                    \n"
     ]
    },
    {
     "name": "stderr",
     "output_type": "stream",
     "text": [
      "Exception in thread Thread-106:\n",
      "Traceback (most recent call last):\n",
      "  File \"/home/paperspace/anaconda3/envs/fastai/lib/python3.6/threading.py\", line 916, in _bootstrap_inner\n",
      "    self.run()\n",
      "  File \"/home/paperspace/anaconda3/envs/fastai/lib/python3.6/site-packages/tqdm/_monitor.py\", line 62, in run\n",
      "    for instance in self.tqdm_cls._instances:\n",
      "  File \"/home/paperspace/anaconda3/envs/fastai/lib/python3.6/_weakrefset.py\", line 60, in __iter__\n",
      "    for itemref in self.data:\n",
      "RuntimeError: Set changed size during iteration\n",
      "\n"
     ]
    },
    {
     "name": "stdout",
     "output_type": "stream",
     "text": [
      "epoch      trn_loss   val_loss   accuracy                   \n",
      "    0      8.407587   7.796412   0.034975  \n",
      "    1      8.051213   7.024153   0.068522                   \n",
      "    2      7.254931   6.440346   0.09636                    \n",
      "    3      7.359231   6.277504   0.101356                   \n",
      "    4      6.602495   5.607602   0.162741                   \n",
      "    5      5.677825   5.269501   0.227695                   \n",
      "    6      4.917384   5.174141   0.226267                   \n",
      "\n"
     ]
    },
    {
     "data": {
      "text/plain": [
       "[array([5.17414]), 0.22626695196429464]"
      ]
     },
     "execution_count": 166,
     "metadata": {},
     "output_type": "execute_result"
    }
   ],
   "source": [
    "lr = 3e-1\n",
    "learn.fit(lr,3, cycle_len=1, cycle_mult=2)"
   ]
  },
  {
   "cell_type": "markdown",
   "metadata": {},
   "source": [
    "## Set up model"
   ]
  },
  {
   "cell_type": "code",
   "execution_count": 8,
   "metadata": {
    "ExecuteTime": {
     "end_time": "2018-07-16T14:24:37.702630Z",
     "start_time": "2018-07-16T14:24:37.699858Z"
    }
   },
   "outputs": [],
   "source": [
    "model=resnext50\n",
    "bs=64\n",
    "sz=299\n",
    "num_cv=5"
   ]
  },
  {
   "cell_type": "code",
   "execution_count": 9,
   "metadata": {
    "ExecuteTime": {
     "end_time": "2018-07-16T14:25:08.389754Z",
     "start_time": "2018-07-16T14:24:43.971128Z"
    }
   },
   "outputs": [],
   "source": [
    "val_idx = [get_cv_idxs_safe(cls_df,cv_idx=i, val_pct=1/num_cv) for i in range(num_cv)]"
   ]
  },
  {
   "cell_type": "code",
   "execution_count": 11,
   "metadata": {
    "ExecuteTime": {
     "end_time": "2018-07-16T14:28:57.429200Z",
     "start_time": "2018-07-16T14:28:57.426805Z"
    }
   },
   "outputs": [],
   "source": [
    "#augs = [RandomFlip(),\n",
    "#        RandomRotate(3),\n",
    "#        RandomLighting(0.1,0.1)]"
   ]
  },
  {
   "cell_type": "code",
   "execution_count": 12,
   "metadata": {
    "ExecuteTime": {
     "end_time": "2018-07-16T14:29:14.661998Z",
     "start_time": "2018-07-16T14:29:14.659044Z"
    },
    "code_folding": []
   },
   "outputs": [],
   "source": [
    "def get_data(sz,i):\n",
    "    tfms = tfms_from_model(model, sz, crop_type=CropType.NO, aug_tfms=transforms_side_on, max_zoom=1.05)\n",
    "    return ImageClassifierData.from_csv(PATH,'trn_val_crop', TRN_CSV_PATH, val_idxs=val_idx[i], bs=bs, tfms=tfms, test_name='test_crop')"
   ]
  },
  {
   "cell_type": "code",
   "execution_count": 13,
   "metadata": {
    "ExecuteTime": {
     "end_time": "2018-07-16T14:29:25.803344Z",
     "start_time": "2018-07-16T14:29:22.450621Z"
    }
   },
   "outputs": [],
   "source": [
    "data = [get_data(299, i) for i in range(num_cv)]"
   ]
  },
  {
   "cell_type": "code",
   "execution_count": 14,
   "metadata": {
    "ExecuteTime": {
     "end_time": "2018-07-16T14:29:32.556319Z",
     "start_time": "2018-07-16T14:29:28.194621Z"
    }
   },
   "outputs": [],
   "source": [
    "learn= [ConvLearner.pretrained(model, data[i]) for i in range(num_cv)]"
   ]
  },
  {
   "cell_type": "code",
   "execution_count": 15,
   "metadata": {
    "ExecuteTime": {
     "end_time": "2018-07-16T14:34:33.112883Z",
     "start_time": "2018-07-16T14:30:18.226560Z"
    }
   },
   "outputs": [
    {
     "data": {
      "application/vnd.jupyter.widget-view+json": {
       "model_id": "4a1bfce911aa43a99c96657152a7a679",
       "version_major": 2,
       "version_minor": 0
      },
      "text/plain": [
       "HBox(children=(IntProgress(value=0, description='Epoch', max=1), HTML(value='')))"
      ]
     },
     "metadata": {},
     "output_type": "display_data"
    },
    {
     "name": "stdout",
     "output_type": "stream",
     "text": [
      " 98%|█████████▊| 132/135 [04:13<00:05,  1.92s/it, loss=60]  "
     ]
    }
   ],
   "source": [
    "learn[0].lr_find()"
   ]
  },
  {
   "cell_type": "code",
   "execution_count": 16,
   "metadata": {
    "ExecuteTime": {
     "end_time": "2018-07-16T14:34:54.297425Z",
     "start_time": "2018-07-16T14:34:53.666485Z"
    }
   },
   "outputs": [
    {
     "data": {
      "image/png": "[encoded data removed]",
      "text/plain": [
       "<Figure size 432x288 with 1 Axes>"
      ]
     },
     "metadata": {},
     "output_type": "display_data"
    }
   ],
   "source": [
    "learn[0].sched.plot(n_skip_end=2)"
   ]
  },
  {
   "cell_type": "code",
   "execution_count": 18,
   "metadata": {
    "ExecuteTime": {
     "end_time": "2018-07-16T16:59:42.013888Z",
     "start_time": "2018-07-16T14:35:22.482528Z"
    },
    "scrolled": true
   },
   "outputs": [
    {
     "data": {
      "application/vnd.jupyter.widget-view+json": {
       "model_id": "d7dd9e7feecb40ce9decf0590a8ec656",
       "version_major": 2,
       "version_minor": 0
      },
      "text/plain": [
       "HBox(children=(IntProgress(value=0, description='Epoch', max=7), HTML(value='')))"
      ]
     },
     "metadata": {},
     "output_type": "display_data"
    },
    {
     "name": "stdout",
     "output_type": "stream",
     "text": [
      "  0%|          | 0/135 [00:00<?, ?it/s]                   \n"
     ]
    },
    {
     "name": "stderr",
     "output_type": "stream",
     "text": [
      "Exception in thread Thread-4:\n",
      "Traceback (most recent call last):\n",
      "  File \"/home/paperspace/anaconda3/envs/fastai/lib/python3.6/threading.py\", line 916, in _bootstrap_inner\n",
      "    self.run()\n",
      "  File \"/home/paperspace/anaconda3/envs/fastai/lib/python3.6/site-packages/tqdm/_monitor.py\", line 62, in run\n",
      "    for instance in self.tqdm_cls._instances:\n",
      "  File \"/home/paperspace/anaconda3/envs/fastai/lib/python3.6/_weakrefset.py\", line 60, in __iter__\n",
      "    for itemref in self.data:\n",
      "RuntimeError: Set changed size during iteration\n",
      "\n"
     ]
    },
    {
     "name": "stdout",
     "output_type": "stream",
     "text": [
      "epoch      trn_loss   val_loss   accuracy                   \n",
      "    0      8.135435   6.712172   0.109524  \n",
      "    1      7.049628   4.999312   0.283333                   \n",
      "    2      4.947934   4.288581   0.330952                   \n",
      "    3      5.337523   4.128665   0.311905                   \n",
      "    4      3.403409   3.843521   0.397619                   \n",
      "    5      1.69895    3.495926   0.457143                   \n",
      "    6      0.901495   3.459538   0.471429                    \n",
      "\n"
     ]
    },
    {
     "data": {
      "application/vnd.jupyter.widget-view+json": {
       "model_id": "b458db8acfae43af9cc58626217256e8",
       "version_major": 2,
       "version_minor": 0
      },
      "text/plain": [
       "HBox(children=(IntProgress(value=0, description='Epoch', max=7), HTML(value='')))"
      ]
     },
     "metadata": {},
     "output_type": "display_data"
    },
    {
     "name": "stdout",
     "output_type": "stream",
     "text": [
      "epoch      trn_loss   val_loss   accuracy                   \n",
      "    0      8.145467   6.765228   0.111905  \n",
      "    1      7.080168   5.149672   0.221429                   \n",
      "    2      5.024262   4.511986   0.307143                   \n",
      "    3      5.416097   4.469905   0.295238                   \n",
      "    4      3.474024   4.050566   0.37381                    \n",
      "    5      1.653043   3.83793    0.407143                   \n",
      "    6      0.923481   3.813409   0.428571                    \n",
      "\n"
     ]
    },
    {
     "data": {
      "application/vnd.jupyter.widget-view+json": {
       "model_id": "3a6e9111e8d44571a50f34651856aed6",
       "version_major": 2,
       "version_minor": 0
      },
      "text/plain": [
       "HBox(children=(IntProgress(value=0, description='Epoch', max=7), HTML(value='')))"
      ]
     },
     "metadata": {},
     "output_type": "display_data"
    },
    {
     "name": "stdout",
     "output_type": "stream",
     "text": [
      "epoch      trn_loss   val_loss   accuracy                   \n",
      "    0      8.164824   6.764733   0.097619  \n",
      "    1      7.066959   4.980431   0.245238                   \n",
      "    2      5.011984   4.291666   0.342857                   \n",
      "    3      5.381952   4.30529    0.32381                    \n",
      "    4      3.496695   3.98031    0.383333                   \n",
      "    5      1.680608   3.714512   0.435714                   \n",
      "    6      0.903312   3.630743   0.447619                    \n",
      "\n"
     ]
    },
    {
     "data": {
      "application/vnd.jupyter.widget-view+json": {
       "model_id": "16aeb7df7dc14879b8b1707d6d2750bb",
       "version_major": 2,
       "version_minor": 0
      },
      "text/plain": [
       "HBox(children=(IntProgress(value=0, description='Epoch', max=7), HTML(value='')))"
      ]
     },
     "metadata": {},
     "output_type": "display_data"
    },
    {
     "name": "stdout",
     "output_type": "stream",
     "text": [
      "epoch      trn_loss   val_loss   accuracy                   \n",
      "    0      8.142931   6.517281   0.140476  \n",
      "    1      7.016273   4.92329    0.266667                   \n",
      "    2      4.975589   4.184701   0.338095                   \n",
      "    3      5.379033   4.157607   0.340476                   \n",
      "    4      3.440231   3.883721   0.359524                   \n",
      "    5      1.711606   3.537029   0.414286                   \n",
      "    6      0.951457   3.532097   0.42381                     \n",
      "\n"
     ]
    },
    {
     "data": {
      "application/vnd.jupyter.widget-view+json": {
       "model_id": "34ed720dec954ad8a236b855fd1c5004",
       "version_major": 2,
       "version_minor": 0
      },
      "text/plain": [
       "HBox(children=(IntProgress(value=0, description='Epoch', max=7), HTML(value='')))"
      ]
     },
     "metadata": {},
     "output_type": "display_data"
    },
    {
     "name": "stdout",
     "output_type": "stream",
     "text": [
      "epoch      trn_loss   val_loss   accuracy                   \n",
      "    0      8.131402   6.652233   0.1       \n",
      "    1      7.06311    4.902285   0.252381                   \n",
      "    2      5.015458   4.177901   0.361905                   \n",
      "    3      5.386104   4.145993   0.340476                   \n",
      "    4      3.457558   3.585003   0.407143                   \n",
      "    5      1.671831   3.302972   0.45                       \n",
      "    6      0.916836   3.238597   0.457143                    \n",
      "\n"
     ]
    }
   ],
   "source": [
    "for i in range(num_cv):\n",
    "    learn[i].fit(lr,3, cycle_len=1, cycle_mult=2)"
   ]
  },
  {
   "cell_type": "code",
   "execution_count": 16,
   "metadata": {
    "ExecuteTime": {
     "end_time": "2018-06-29T03:23:27.128320Z",
     "start_time": "2018-06-29T03:23:26.597040Z"
    }
   },
   "outputs": [],
   "source": [
    "#for i in range(num_cv):\n",
    "#    learn[i].save('sz299_bs64_lr2en1_ll_smcrpv2_cv5_m'+str(i))\n",
    "\n",
    "for i in range(num_cv):\n",
    "    learn[i].load('sz299_bs64_lr2en1_ll_smcrpv2_cv5_m'+str(i))"
   ]
  },
  {
   "cell_type": "code",
   "execution_count": 43,
   "metadata": {
    "ExecuteTime": {
     "end_time": "2018-06-21T15:20:45.754718Z",
     "start_time": "2018-06-21T15:20:45.751726Z"
    }
   },
   "outputs": [],
   "source": [
    "#lrs = np.array([lr/9,lr/3,lr])"
   ]
  },
  {
   "cell_type": "code",
   "execution_count": 44,
   "metadata": {
    "ExecuteTime": {
     "end_time": "2018-06-21T16:22:35.603054Z",
     "start_time": "2018-06-21T15:20:46.793829Z"
    },
    "collapsed": true
   },
   "outputs": [
    {
     "data": {
      "application/vnd.jupyter.widget-view+json": {
       "model_id": "195c7e5c707a4ff9a3a58e0b6705e378",
       "version_major": 2,
       "version_minor": 0
      },
      "text/plain": [
       "HBox(children=(IntProgress(value=0, description='Epoch', max=7), HTML(value='')))"
      ]
     },
     "metadata": {},
     "output_type": "display_data"
    },
    {
     "name": "stdout",
     "output_type": "stream",
     "text": [
      "epoch      trn_loss   val_loss   accuracy                     \n",
      "    0      7.813095   7.323231   0.0       \n",
      "    1      7.56406    7.220661   0.0                          \n",
      "    2      7.415261   7.16514    0.0                          \n",
      "    3      7.385105   7.716219   0.0                          \n",
      "    4      7.020521   7.61884    0.0                          \n",
      "    5      6.975093   7.780831   0.0                          \n",
      "    6      7.044651   7.820276   0.0                          \n",
      "\n"
     ]
    },
    {
     "data": {
      "text/plain": [
       "[array([7.82028]), 0.0]"
      ]
     },
     "execution_count": 44,
     "metadata": {},
     "output_type": "execute_result"
    }
   ],
   "source": [
    "#learn.unfreeze()\n",
    "#learn.fit(lrs,3, cycle_len=1, cycle_mult=2)"
   ]
  },
  {
   "cell_type": "code",
   "execution_count": 45,
   "metadata": {
    "ExecuteTime": {
     "end_time": "2018-06-21T16:23:55.187356Z",
     "start_time": "2018-06-21T16:23:55.080662Z"
    }
   },
   "outputs": [],
   "source": [
    "#learn.save('sz299_bs4_lr3en3_full_smart_cropv2')\n",
    "#learn.load('299_full_nocrop')"
   ]
  },
  {
   "cell_type": "markdown",
   "metadata": {
    "heading_collapsed": true
   },
   "source": [
    "# Figure out when to insert new_whale label"
   ]
  },
  {
   "cell_type": "code",
   "execution_count": 53,
   "metadata": {
    "ExecuteTime": {
     "end_time": "2018-06-26T13:54:26.116020Z",
     "start_time": "2018-06-26T13:54:13.487742Z"
    },
    "hidden": true
   },
   "outputs": [],
   "source": [
    "log_probs_val_0 = learn[0].predict()"
   ]
  },
  {
   "cell_type": "code",
   "execution_count": 54,
   "metadata": {
    "ExecuteTime": {
     "end_time": "2018-06-26T13:54:26.129385Z",
     "start_time": "2018-06-26T13:54:26.117627Z"
    },
    "hidden": true
   },
   "outputs": [],
   "source": [
    "probs_val_0 = np.exp(log_probs_val_0)"
   ]
  },
  {
   "cell_type": "code",
   "execution_count": 55,
   "metadata": {
    "ExecuteTime": {
     "end_time": "2018-06-26T13:54:29.193594Z",
     "start_time": "2018-06-26T13:54:28.847523Z"
    },
    "hidden": true
   },
   "outputs": [],
   "source": [
    "best_pred_numbers_val_0 = np.argsort(-probs_val_0,1)[:,:5]"
   ]
  },
  {
   "cell_type": "code",
   "execution_count": 56,
   "metadata": {
    "ExecuteTime": {
     "end_time": "2018-06-26T13:54:42.908236Z",
     "start_time": "2018-06-26T13:54:42.560897Z"
    },
    "hidden": true
   },
   "outputs": [],
   "source": [
    "df_val_0 = pd.DataFrame(-(np.sort(-probs_val_0,1)[:,:5]))"
   ]
  },
  {
   "cell_type": "code",
   "execution_count": 57,
   "metadata": {
    "ExecuteTime": {
     "end_time": "2018-06-26T13:54:56.248952Z",
     "start_time": "2018-06-26T13:54:56.240232Z"
    },
    "hidden": true
   },
   "outputs": [
    {
     "name": "stdout",
     "output_type": "stream",
     "text": [
      "0.026637206 to 0.9999256\n",
      "6.114442e-06 to 0.36527985\n",
      "4.9020514e-06 to 0.1991553\n",
      "4.253537e-06 to 0.11820431\n",
      "3.6585136e-06 to 0.09883492\n"
     ]
    }
   ],
   "source": [
    "for i in range(5):\n",
    "    print(str(np.min(df_val_0[i])) + ' to ' + str(np.max(df_val_0[i])))\n"
   ]
  },
  {
   "cell_type": "code",
   "execution_count": 58,
   "metadata": {
    "ExecuteTime": {
     "end_time": "2018-06-26T13:55:15.249060Z",
     "start_time": "2018-06-26T13:55:15.103974Z"
    },
    "hidden": true
   },
   "outputs": [
    {
     "data": {
      "text/plain": [
       "<matplotlib.axes._subplots.AxesSubplot at 0x7f698ac742e8>"
      ]
     },
     "execution_count": 58,
     "metadata": {},
     "output_type": "execute_result"
    },
    {
     "data": {
      "image/png": "[encoded data removed]",
      "text/plain": [
       "<Figure size 432x288 with 1 Axes>"
      ]
     },
     "metadata": {},
     "output_type": "display_data"
    }
   ],
   "source": [
    "df_val_0[0].hist(bins=20)"
   ]
  },
  {
   "cell_type": "code",
   "execution_count": 60,
   "metadata": {
    "ExecuteTime": {
     "end_time": "2018-06-26T13:56:19.432545Z",
     "start_time": "2018-06-26T13:56:19.286005Z"
    },
    "hidden": true
   },
   "outputs": [
    {
     "data": {
      "text/plain": [
       "<matplotlib.axes._subplots.AxesSubplot at 0x7f698acd20f0>"
      ]
     },
     "execution_count": 60,
     "metadata": {},
     "output_type": "execute_result"
    },
    {
     "data": {
      "image/png": "[encoded data removed]",
      "text/plain": [
       "<Figure size 432x288 with 1 Axes>"
      ]
     },
     "metadata": {},
     "output_type": "display_data"
    }
   ],
   "source": [
    "(df_val_0.loc[learn[0].data.val_y != best_pred_numbers_val_0[:,0]])[0].hist(bins=20)"
   ]
  },
  {
   "cell_type": "code",
   "execution_count": 61,
   "metadata": {
    "ExecuteTime": {
     "end_time": "2018-06-26T13:56:55.730029Z",
     "start_time": "2018-06-26T13:56:55.586872Z"
    },
    "hidden": true
   },
   "outputs": [
    {
     "data": {
      "text/plain": [
       "<matplotlib.axes._subplots.AxesSubplot at 0x7f69775b7eb8>"
      ]
     },
     "execution_count": 61,
     "metadata": {},
     "output_type": "execute_result"
    },
    {
     "data": {
      "image/png": "[encoded data removed]",
      "text/plain": [
       "<Figure size 432x288 with 1 Axes>"
      ]
     },
     "metadata": {},
     "output_type": "display_data"
    }
   ],
   "source": [
    "df_val_0.loc[(learn[0].data.val_y == best_pred_numbers_val_0[:,0])][0].hist(bins=20)"
   ]
  },
  {
   "cell_type": "code",
   "execution_count": 90,
   "metadata": {
    "ExecuteTime": {
     "end_time": "2018-06-25T19:07:56.603849Z",
     "start_time": "2018-06-25T19:07:56.598093Z"
    },
    "hidden": true
   },
   "outputs": [
    {
     "data": {
      "text/plain": [
       "58"
      ]
     },
     "execution_count": 90,
     "metadata": {},
     "output_type": "execute_result"
    }
   ],
   "source": [
    "len(df_val.loc[(learn.data.val_y == best_pred_numbers_val[:,1])])"
   ]
  },
  {
   "cell_type": "markdown",
   "metadata": {},
   "source": [
    "# Submit"
   ]
  },
  {
   "cell_type": "markdown",
   "metadata": {},
   "source": [
    "## Run predictor"
   ]
  },
  {
   "cell_type": "code",
   "execution_count": 23,
   "metadata": {
    "ExecuteTime": {
     "end_time": "2018-07-16T18:09:45.650073Z",
     "start_time": "2018-07-16T18:09:45.643560Z"
    }
   },
   "outputs": [],
   "source": [
    "import bcolz\n",
    "\n",
    "def save_array(fname, arr): c=bcolz.carray(arr, rootdir=fname, mode='w'); c.flush()\n",
    "def load_array(fname): return bcolz.open(fname)[:]\n",
    "#save_array('log_probs_resnext50_sz299_bs4_lr1en2_ll_smcrpv2.bc', log_probs)"
   ]
  },
  {
   "cell_type": "code",
   "execution_count": 21,
   "metadata": {
    "ExecuteTime": {
     "end_time": "2018-07-16T18:00:54.010069Z",
     "start_time": "2018-07-16T17:03:09.753918Z"
    }
   },
   "outputs": [
    {
     "name": "stdout",
     "output_type": "stream",
     "text": [
      "                                              \r"
     ]
    }
   ],
   "source": [
    "log_probs_0,_ = learn[0].TTA(is_test=True)\n",
    "#log_probs_1,_ = learn[1].TTA(is_test=True)\n",
    "#log_probs_2,_ = learn[2].TTA(is_test=True)\n",
    "#log_probs_3,_ = learn[2].TTA(is_test=True)\n",
    "log_probs_4,_ = learn[2].TTA(is_test=True)"
   ]
  },
  {
   "cell_type": "code",
   "execution_count": 24,
   "metadata": {
    "ExecuteTime": {
     "end_time": "2018-07-16T18:09:50.492259Z",
     "start_time": "2018-07-16T18:09:46.892469Z"
    }
   },
   "outputs": [],
   "source": [
    "save_array('log_probs_sz299_bs64_lr2en1_ll_smcrpv2_cv5_tfmsv2_m0.bc', log_probs_0)\n",
    "#save_array('log_probs_sz299_bs64_lr2en1_ll_smcrpv2_cv5_m1.bc', log_probs_1)\n",
    "#save_array('log_probs_sz299_bs64_lr2en1_ll_smcrpv2_cv5_m2.bc', log_probs_2)\n",
    "#save_array('log_probs_sz299_bs64_lr2en1_ll_smcrpv2_cv5_m3.bc', log_probs_3)\n",
    "save_array('log_probs_sz299_bs64_lr2en1_ll_smcrpv2_cv5_tfmsv2_m4.bc', log_probs_4)\n",
    "#log_probs_0 = load_array('log_probs_sz299_bs64_lr2en1_ll_smcrpv2_cv5_m0.bc')\n",
    "#log_probs_1 = load_array('log_probs_sz299_bs64_lr2en1_ll_smcrpv2_cv5_m1.bc')\n",
    "#log_probs_2 = load_array('log_probs_sz299_bs64_lr2en1_ll_smcrpv2_cv5_m2.bc')\n",
    "#log_probs_3 = load_array('log_probs_sz299_bs64_lr2en1_ll_smcrpv2_cv5_m3.bc')\n",
    "#log_probs_4 = load_array('log_probs_sz299_bs64_lr2en1_ll_smcrpv2_cv5_m4.bc')"
   ]
  },
  {
   "cell_type": "code",
   "execution_count": 24,
   "metadata": {
    "ExecuteTime": {
     "end_time": "2018-06-26T00:21:49.319376Z",
     "start_time": "2018-06-26T00:21:48.219480Z"
    }
   },
   "outputs": [],
   "source": [
    "#log_probs = load_array('log_probs_resnext50_sz299_bs4_lr1en2_ll_smcrpv2.bc')"
   ]
  },
  {
   "cell_type": "code",
   "execution_count": 25,
   "metadata": {
    "ExecuteTime": {
     "end_time": "2018-07-16T18:10:03.743661Z",
     "start_time": "2018-07-16T18:10:00.444597Z"
    }
   },
   "outputs": [],
   "source": [
    "probs_0 = np.mean(np.exp(log_probs_0),0)\n",
    "#probs_1 = np.mean(np.exp(log_probs_1),0)\n",
    "#probs_2 = np.mean(np.exp(log_probs_2),0)\n",
    "#probs_3 = np.mean(np.exp(log_probs_3),0)\n",
    "probs_4 = np.mean(np.exp(log_probs_4),0)"
   ]
  },
  {
   "cell_type": "code",
   "execution_count": 26,
   "metadata": {
    "ExecuteTime": {
     "end_time": "2018-07-16T18:10:08.796983Z",
     "start_time": "2018-07-16T18:10:08.301730Z"
    }
   },
   "outputs": [],
   "source": [
    "probs_av = np.mean(np.stack([probs_0,probs_4]),0)"
   ]
  },
  {
   "cell_type": "code",
   "execution_count": 29,
   "metadata": {
    "ExecuteTime": {
     "end_time": "2018-07-16T18:10:35.908848Z",
     "start_time": "2018-07-16T18:10:31.788515Z"
    }
   },
   "outputs": [],
   "source": [
    "best_pred_numbers = np.argsort(-probs_av,1)[:,:5]"
   ]
  },
  {
   "cell_type": "code",
   "execution_count": 30,
   "metadata": {
    "ExecuteTime": {
     "end_time": "2018-07-16T18:10:41.628086Z",
     "start_time": "2018-07-16T18:10:41.580468Z"
    }
   },
   "outputs": [],
   "source": [
    "lookup_names = np.vectorize(lambda i: learn[0].data.classes[i])\n",
    "best_pred_names = lookup_names(best_pred_numbers)"
   ]
  },
  {
   "cell_type": "code",
   "execution_count": 31,
   "metadata": {
    "ExecuteTime": {
     "end_time": "2018-07-16T18:10:42.357381Z",
     "start_time": "2018-07-16T18:10:42.347697Z"
    }
   },
   "outputs": [],
   "source": [
    "filenames = np.array([fn[10:] for fn in learn[0].data.test_ds.fnames]).reshape(-1,1)"
   ]
  },
  {
   "cell_type": "markdown",
   "metadata": {},
   "source": [
    "## Add new whales"
   ]
  },
  {
   "cell_type": "markdown",
   "metadata": {},
   "source": [
    "* Policy 0: inlcude new_whale as class in training **0.44604** \n",
    "* ~~Policy 1: Do not add new_whale label at all~~ **BAD**\n",
    "* ~~Policy 2: If best probability < 0.1, insert new_whale at the front; otherwise insert it in fourth place~~ **0.44220**\n",
    "* ~~Policy 3: If best probability < 0.1, insert new_whale at the front; otherwise insert it in third place~~ **0.44549**\n",
    "* ~~Policy 4: If best probability < 0.1, insert new_whale at the front; otherwise insert it in second place~~ **0.45167**\n",
    "* ~~Policy 5: Insert new_whale in front **0.45846**~~\n",
    "* ~~Policy 6: If best probability < 0.6, insert new_whale at the front; otherwise insert it in second place~~\n",
    "* ~~Policy 7: If best probability < 0.5, insert new_whale at the front; otherwise insert it in second place~~\n",
    "* ~~Policy 8: If best probability < 0.4, insert new_whale at the front; otherwise insert it in second place~~\n",
    "* Policy 9: If best probability < 0.3, insert new_whale at the front; otherwise insert it in second place\n",
    "* ~~Policy 10: If best probability < 0.2, insert new_whale at the front; otherwise insert it in second place~~\n",
    "* Policy 11: If best probability < 0.3, insert new_whale at the front; otherwise, if probability of first two is >0.4 place it is second place; otherwise insert it in third place"
   ]
  },
  {
   "cell_type": "code",
   "execution_count": 148,
   "metadata": {
    "ExecuteTime": {
     "end_time": "2018-06-25T20:22:59.184089Z",
     "start_time": "2018-06-25T20:22:59.094922Z"
    },
    "code_folding": [
     0
    ]
   },
   "outputs": [],
   "source": [
    "# Policy 2\n",
    "confident = (np.max(probs, axis=1) >= 0.1)\n",
    "for i in range(len(probs)):\n",
    "    if(confident[i]):\n",
    "        best_pred_names[i,:] = np.concatenate([best_pred_names[i,:3], np.array(['new_whale']), best_pred_names[i,3:4]])\n",
    "    else:\n",
    "        best_pred_names[i,:] = np.concatenate([np.array(['new_whale']), best_pred_names[i,:4]])"
   ]
  },
  {
   "cell_type": "code",
   "execution_count": 167,
   "metadata": {
    "ExecuteTime": {
     "end_time": "2018-06-25T20:31:09.943700Z",
     "start_time": "2018-06-25T20:31:09.860856Z"
    },
    "code_folding": [
     0
    ]
   },
   "outputs": [],
   "source": [
    "# Policy 3\n",
    "confident = (np.max(probs, axis=1) >= 0.1)\n",
    "for i in range(len(probs)):\n",
    "    if(confident[i]):\n",
    "        best_pred_names[i,:] = np.concatenate([best_pred_names[i,:2], np.array(['new_whale']), best_pred_names[i,2:4]])\n",
    "    else:\n",
    "        best_pred_names[i,:] = np.concatenate([np.array(['new_whale']), best_pred_names[i,:4]])"
   ]
  },
  {
   "cell_type": "code",
   "execution_count": 177,
   "metadata": {
    "ExecuteTime": {
     "end_time": "2018-06-25T20:39:20.070652Z",
     "start_time": "2018-06-25T20:39:19.988915Z"
    },
    "code_folding": [
     0
    ]
   },
   "outputs": [],
   "source": [
    "# Policy 4\n",
    "confident = (np.max(probs, axis=1) >= 0.1)\n",
    "for i in range(len(probs)):\n",
    "    if(confident[i]):\n",
    "        best_pred_names[i,:] = np.concatenate([best_pred_names[i,:1], np.array(['new_whale']), best_pred_names[i,1:4]])\n",
    "    else:\n",
    "        best_pred_names[i,:] = np.concatenate([np.array(['new_whale']), best_pred_names[i,:4]])"
   ]
  },
  {
   "cell_type": "code",
   "execution_count": 48,
   "metadata": {
    "ExecuteTime": {
     "end_time": "2018-06-26T13:41:42.496425Z",
     "start_time": "2018-06-26T13:41:42.449506Z"
    },
    "code_folding": [
     0
    ]
   },
   "outputs": [],
   "source": [
    "# Policy 5\n",
    "for i in range(len(probs)):\n",
    "    best_pred_names[i,:] = np.concatenate([np.array(['new_whale']), best_pred_names[i,:4]])"
   ]
  },
  {
   "cell_type": "code",
   "execution_count": 84,
   "metadata": {
    "ExecuteTime": {
     "end_time": "2018-06-26T14:11:16.692063Z",
     "start_time": "2018-06-26T14:11:16.610905Z"
    },
    "code_folding": [
     0
    ]
   },
   "outputs": [],
   "source": [
    "# Policy 6\n",
    "confident = (np.max(probs_av, axis=1) >= 0.6)\n",
    "for i in range(len(probs)):\n",
    "    if(confident[i]):\n",
    "        best_pred_names[i,:] = np.concatenate([best_pred_names[i,:1], np.array(['new_whale']), best_pred_names[i,1:4]])\n",
    "    else:\n",
    "        best_pred_names[i,:] = np.concatenate([np.array(['new_whale']), best_pred_names[i,:4]])"
   ]
  },
  {
   "cell_type": "code",
   "execution_count": 187,
   "metadata": {
    "ExecuteTime": {
     "end_time": "2018-06-27T01:32:21.204172Z",
     "start_time": "2018-06-27T01:32:21.114028Z"
    },
    "code_folding": [
     0
    ]
   },
   "outputs": [],
   "source": [
    "# Policy 7\n",
    "confident = (np.max(probs_av, axis=1) >= 0.5)\n",
    "for i in range(len(probs)):\n",
    "    if(confident[i]):\n",
    "        best_pred_names[i,:] = np.concatenate([best_pred_names[i,:1], np.array(['new_whale']), best_pred_names[i,1:4]])\n",
    "    else:\n",
    "        best_pred_names[i,:] = np.concatenate([np.array(['new_whale']), best_pred_names[i,:4]])"
   ]
  },
  {
   "cell_type": "code",
   "execution_count": 198,
   "metadata": {
    "ExecuteTime": {
     "end_time": "2018-06-27T01:35:42.047768Z",
     "start_time": "2018-06-27T01:35:41.959620Z"
    },
    "code_folding": [
     0
    ]
   },
   "outputs": [],
   "source": [
    "# Policy 8\n",
    "confident = (np.max(probs_av, axis=1) >= 0.4)\n",
    "for i in range(len(probs)):\n",
    "    if(confident[i]):\n",
    "        best_pred_names[i,:] = np.concatenate([best_pred_names[i,:1], np.array(['new_whale']), best_pred_names[i,1:4]])\n",
    "    else:\n",
    "        best_pred_names[i,:] = np.concatenate([np.array(['new_whale']), best_pred_names[i,:4]])"
   ]
  },
  {
   "cell_type": "code",
   "execution_count": 32,
   "metadata": {
    "ExecuteTime": {
     "end_time": "2018-07-16T18:10:47.514314Z",
     "start_time": "2018-07-16T18:10:47.421138Z"
    }
   },
   "outputs": [],
   "source": [
    "# Policy 9\n",
    "confident = (np.max(probs_av, axis=1) >= 0.3)\n",
    "for i in range(len(probs_av)):\n",
    "    if(confident[i]):\n",
    "        best_pred_names[i,:] = np.concatenate([best_pred_names[i,:1], np.array(['new_whale']), best_pred_names[i,1:4]])\n",
    "    else:\n",
    "        best_pred_names[i,:] = np.concatenate([np.array(['new_whale']), best_pred_names[i,:4]])"
   ]
  },
  {
   "cell_type": "code",
   "execution_count": 27,
   "metadata": {
    "ExecuteTime": {
     "end_time": "2018-06-30T01:34:54.046919Z",
     "start_time": "2018-06-30T01:34:53.958509Z"
    },
    "code_folding": [
     0
    ]
   },
   "outputs": [],
   "source": [
    "# Policy 10\n",
    "confident = (np.max(probs_av, axis=1) >= 0.2)\n",
    "for i in range(len(probs_av)):\n",
    "    if(confident[i]):\n",
    "        best_pred_names[i,:] = np.concatenate([best_pred_names[i,:1], np.array(['new_whale']), best_pred_names[i,1:4]])\n",
    "    else:\n",
    "        best_pred_names[i,:] = np.concatenate([np.array(['new_whale']), best_pred_names[i,:4]])"
   ]
  },
  {
   "cell_type": "code",
   "execution_count": 44,
   "metadata": {
    "ExecuteTime": {
     "end_time": "2018-06-29T00:40:27.620503Z",
     "start_time": "2018-06-29T00:40:23.848305Z"
    },
    "code_folding": [
     0
    ]
   },
   "outputs": [],
   "source": [
    "# Policy 11\n",
    "confident = (np.max(probs_av, axis=1) >= 0.3)\n",
    "somewhat_confident = (np.sort(probs_av, axis=1)[:,-2:].sum(axis=1) >= 0.3)\n",
    "for i in range(len(probs_av)):\n",
    "    if(confident[i]):\n",
    "        best_pred_names[i,:] = np.concatenate([best_pred_names[i,:1], np.array(['new_whale']), best_pred_names[i,1:4]])\n",
    "    elif (somewhat_confident[i]):\n",
    "        best_pred_names[i,:] = np.concatenate([best_pred_names[i,:2], np.array(['new_whale']), best_pred_names[i,2:4]])\n",
    "    else:\n",
    "        best_pred_names[i,:] = np.concatenate([np.array(['new_whale']), best_pred_names[i,:4]])"
   ]
  },
  {
   "cell_type": "code",
   "execution_count": 53,
   "metadata": {
    "ExecuteTime": {
     "end_time": "2018-06-29T00:41:18.088253Z",
     "start_time": "2018-06-29T00:41:14.341014Z"
    },
    "code_folding": [
     0
    ]
   },
   "outputs": [],
   "source": [
    "# Policy 12\n",
    "confident = (np.max(probs_av, axis=1) >= 0.3)\n",
    "somewhat_confident = (np.sort(probs_av, axis=1)[:,-2:].sum(axis=1) >= 0.4)\n",
    "for i in range(len(probs_av)):\n",
    "    if(confident[i]):\n",
    "        best_pred_names[i,:] = np.concatenate([best_pred_names[i,:1], np.array(['new_whale']), best_pred_names[i,1:4]])\n",
    "    elif (somewhat_confident[i]):\n",
    "        best_pred_names[i,:] = np.concatenate([best_pred_names[i,:2], np.array(['new_whale']), best_pred_names[i,2:4]])\n",
    "    else:\n",
    "        best_pred_names[i,:] = np.concatenate([np.array(['new_whale']), best_pred_names[i,:4]])"
   ]
  },
  {
   "cell_type": "code",
   "execution_count": 63,
   "metadata": {
    "ExecuteTime": {
     "end_time": "2018-06-29T00:43:22.138580Z",
     "start_time": "2018-06-29T00:43:18.389071Z"
    },
    "code_folding": [
     0
    ]
   },
   "outputs": [],
   "source": [
    "# Policy 13\n",
    "confident = (np.max(probs_av, axis=1) >= 0.3)\n",
    "somewhat_confident = (np.sort(probs_av, axis=1)[:,-2:].sum(axis=1) >= 0.5)\n",
    "for i in range(len(probs_av)):\n",
    "    if(confident[i]):\n",
    "        best_pred_names[i,:] = np.concatenate([best_pred_names[i,:1], np.array(['new_whale']), best_pred_names[i,1:4]])\n",
    "    elif (somewhat_confident[i]):\n",
    "        best_pred_names[i,:] = np.concatenate([best_pred_names[i,:2], np.array(['new_whale']), best_pred_names[i,2:4]])\n",
    "    else:\n",
    "        best_pred_names[i,:] = np.concatenate([np.array(['new_whale']), best_pred_names[i,:4]])"
   ]
  },
  {
   "cell_type": "code",
   "execution_count": 73,
   "metadata": {
    "ExecuteTime": {
     "end_time": "2018-06-29T00:45:32.786190Z",
     "start_time": "2018-06-29T00:45:29.029695Z"
    },
    "code_folding": [
     0
    ]
   },
   "outputs": [],
   "source": [
    "# Policy 14\n",
    "confident = (np.max(probs_av, axis=1) >= 0.3)\n",
    "somewhat_confident = (np.sort(probs_av, axis=1)[:,-2:].sum(axis=1) >= 0.55)\n",
    "for i in range(len(probs_av)):\n",
    "    if(confident[i]):\n",
    "        best_pred_names[i,:] = np.concatenate([best_pred_names[i,:1], np.array(['new_whale']), best_pred_names[i,1:4]])\n",
    "    elif (somewhat_confident[i]):\n",
    "        best_pred_names[i,:] = np.concatenate([best_pred_names[i,:2], np.array(['new_whale']), best_pred_names[i,2:4]])\n",
    "    else:\n",
    "        best_pred_names[i,:] = np.concatenate([np.array(['new_whale']), best_pred_names[i,:4]])"
   ]
  },
  {
   "cell_type": "markdown",
   "metadata": {},
   "source": [
    "## Fix duplicates"
   ]
  },
  {
   "cell_type": "code",
   "execution_count": 34,
   "metadata": {
    "ExecuteTime": {
     "end_time": "2018-07-16T18:11:48.625325Z",
     "start_time": "2018-07-16T18:11:48.619110Z"
    }
   },
   "outputs": [],
   "source": [
    "duplicates_df = pd.read_csv('duplicates.csv')"
   ]
  },
  {
   "cell_type": "code",
   "execution_count": 35,
   "metadata": {
    "ExecuteTime": {
     "end_time": "2018-07-16T18:11:51.463373Z",
     "start_time": "2018-07-16T18:11:50.521561Z"
    }
   },
   "outputs": [],
   "source": [
    "for i in range(len(duplicates_df)):\n",
    "    findex = np.where(filenames == duplicates_df.iloc[i]['file'])[0][0]\n",
    "    best_pred_names[findex,:] = np.concatenate([np.array(list(eval(duplicates_df.iloc[i]['names']))), best_pred_names[findex,:]])[:5]"
   ]
  },
  {
   "cell_type": "code",
   "execution_count": 36,
   "metadata": {
    "ExecuteTime": {
     "end_time": "2018-07-16T18:11:51.679435Z",
     "start_time": "2018-07-16T18:11:51.675128Z"
    }
   },
   "outputs": [
    {
     "data": {
      "text/plain": [
       "array([['new_whale', 'w_01b2250', 'w_f87b77b', 'w_64f3545', 'w_4f38350'],\n",
       "       ['w_3694c7d', 'new_whale', 'w_3694c7d', 'w_09d654f', 'w_ead305f'],\n",
       "       ['w_c887c63', 'new_whale', 'w_fb4d1f1', 'w_66c1b54', 'w_43b50e5'],\n",
       "       ['new_whale', 'w_43be268', 'w_17136dc', 'w_a59905f', 'w_569c2c7'],\n",
       "       ['w_44f0fa2', 'w_44f0fa2', 'new_whale', 'w_e02fe7b', 'w_279b255'],\n",
       "       ['new_whale', 'w_293b5e4', 'w_af890ad', 'w_b5c9946', 'w_3da62f8'],\n",
       "       ['new_whale', 'w_d3ef4b2', 'w_4d528e4', 'w_e685c80', 'w_3cf3853'],\n",
       "       ['new_whale', 'w_f83b1f9', 'w_b7a832a', 'w_0e737d0', 'w_fe054f3'],\n",
       "       ['w_7852bd1', 'w_7852bd1', 'new_whale', 'w_e8a8d85', 'w_f0f0dbb'],\n",
       "       ['w_67de30b', 'w_67de30b', 'new_whale', 'w_b6c4efa', 'w_db2baec'],\n",
       "       ['w_0f84bf6', 'new_whale', 'w_61cf42e', 'w_f790728', 'w_064ab78'],\n",
       "       ['new_whale', 'new_whale', 'w_b8dff40', 'w_fba3bde', 'w_987a36f'],\n",
       "       ['new_whale', 'w_11f6df1', 'w_c27d036', 'w_656afeb', 'w_6c803bf'],\n",
       "       ['w_9dc6e7f', 'w_9dc6e7f', 'new_whale', 'w_49bbc79', 'w_33b9360'],\n",
       "       ['new_whale', 'w_fd07344', 'w_cd4b506', 'w_656afeb', 'w_cb9220b'],\n",
       "       ['new_whale', 'w_3461d6d', 'w_f0d8be1', 'w_89e159a', 'w_5ba417d'],\n",
       "       ['new_whale', 'w_e0f1df1', 'w_62c3998', 'w_92d55a6', 'w_7ed0d17'],\n",
       "       ['new_whale', 'w_91b7c58', 'w_93dcf76', 'w_a464d28', 'w_9e559ff'],\n",
       "       ['w_3de676c', 'w_3de676c', 'new_whale', 'w_e80641a', 'w_d1bbde9'],\n",
       "       ['w_eb0a6ed', 'w_eb0a6ed', 'new_whale', 'w_60c5e7e', 'w_a25caa9']], dtype='<U9')"
      ]
     },
     "execution_count": 36,
     "metadata": {},
     "output_type": "execute_result"
    }
   ],
   "source": [
    "best_pred_names[:20]"
   ]
  },
  {
   "cell_type": "markdown",
   "metadata": {
    "ExecuteTime": {
     "end_time": "2018-06-18T16:58:36.917885Z",
     "start_time": "2018-06-18T16:58:36.914859Z"
    }
   },
   "source": [
    "## Submit"
   ]
  },
  {
   "cell_type": "code",
   "execution_count": 37,
   "metadata": {
    "ExecuteTime": {
     "end_time": "2018-07-16T18:12:36.107591Z",
     "start_time": "2018-07-16T18:12:36.044867Z"
    }
   },
   "outputs": [],
   "source": [
    "subm = np.concatenate([filenames, best_pred_names], axis = 1)\n",
    "name = 'subm_resnext50_sz299_bs64_lr2en1_ll_smcrpv2_tfmsv2_2of5cv_nonwp9.csv'\n",
    "np.savetxt(name, subm, fmt = '%s, %s %s %s %s %s', header = 'Image,Id', comments = '')"
   ]
  },
  {
   "cell_type": "code",
   "execution_count": null,
   "metadata": {},
   "outputs": [],
   "source": []
  }
 ],
 "metadata": {
  "kernelspec": {
   "display_name": "Python 3",
   "language": "python",
   "name": "python3"
  },
  "language_info": {
   "codemirror_mode": {
    "name": "ipython",
    "version": 3
   },
   "file_extension": ".py",
   "mimetype": "text/x-python",
   "name": "python",
   "nbconvert_exporter": "python",
   "pygments_lexer": "ipython3",
   "version": "3.6.5"
  },
  "toc": {
   "base_numbering": 1,
   "nav_menu": {},
   "number_sections": true,
   "sideBar": true,
   "skip_h1_title": false,
   "title_cell": "Table of Contents",
   "title_sidebar": "Contents",
   "toc_cell": false,
   "toc_position": {},
   "toc_section_display": true,
   "toc_window_display": false
  }
 },
 "nbformat": 4,
 "nbformat_minor": 2
}
