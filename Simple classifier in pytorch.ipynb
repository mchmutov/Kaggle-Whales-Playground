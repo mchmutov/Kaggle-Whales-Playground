{
 "cells": [
  {
   "cell_type": "markdown",
   "metadata": {},
   "source": [
    "# Todo"
   ]
  },
  {
   "cell_type": "markdown",
   "metadata": {},
   "source": [
    "* Make decent vanilla classifier\n",
    "     * ~~Resize instead of cropping~~\n",
    "     * Stop using new_whale as class\n",
    "* Make siamese model\n",
    "* Optimize image size\n",
    "* Optimize dupilcate detector\n",
    "* Optimize augmentation\n",
    "* Optimize tail detector and crop\n",
    "    * Use ResNext50 as opposed to ResNet34\n",
    "    * Add more data from other kaggle users"
   ]
  },
  {
   "cell_type": "markdown",
   "metadata": {},
   "source": [
    "# Imports"
   ]
  },
  {
   "cell_type": "code",
   "execution_count": 1,
   "metadata": {
    "ExecuteTime": {
     "end_time": "2018-06-21T15:20:15.798399Z",
     "start_time": "2018-06-21T15:20:14.056990Z"
    }
   },
   "outputs": [],
   "source": [
    "import os\n",
    "import pandas as pd\n",
    "import numpy as np"
   ]
  },
  {
   "cell_type": "code",
   "execution_count": 2,
   "metadata": {
    "ExecuteTime": {
     "end_time": "2018-06-21T15:20:21.655342Z",
     "start_time": "2018-06-21T15:20:16.360028Z"
    }
   },
   "outputs": [],
   "source": [
    "from fastai.imports import *"
   ]
  },
  {
   "cell_type": "code",
   "execution_count": 3,
   "metadata": {
    "ExecuteTime": {
     "end_time": "2018-06-21T15:20:24.118658Z",
     "start_time": "2018-06-21T15:20:21.656310Z"
    }
   },
   "outputs": [],
   "source": [
    "from fastai.transforms import *\n",
    "from fastai.conv_learner import *\n",
    "from fastai.model import *\n",
    "from fastai.dataset import *\n",
    "from fastai.sgdr import *\n",
    "from fastai.plots import *"
   ]
  },
  {
   "cell_type": "markdown",
   "metadata": {},
   "source": [
    "# Set up model"
   ]
  },
  {
   "cell_type": "code",
   "execution_count": 4,
   "metadata": {
    "ExecuteTime": {
     "end_time": "2018-06-21T15:20:24.123632Z",
     "start_time": "2018-06-21T15:20:24.119644Z"
    }
   },
   "outputs": [],
   "source": [
    "PATH= 'D:/msc/kaggle_data/whales/'"
   ]
  },
  {
   "cell_type": "code",
   "execution_count": 5,
   "metadata": {
    "ExecuteTime": {
     "end_time": "2018-06-21T15:20:26.924413Z",
     "start_time": "2018-06-21T15:20:26.920425Z"
    }
   },
   "outputs": [],
   "source": [
    "model=resnext50\n",
    "bs=4\n",
    "sz=299"
   ]
  },
  {
   "cell_type": "code",
   "execution_count": 6,
   "metadata": {
    "ExecuteTime": {
     "end_time": "2018-06-21T15:20:28.426794Z",
     "start_time": "2018-06-21T15:20:28.423783Z"
    },
    "code_folding": []
   },
   "outputs": [],
   "source": [
    "def get_data(sz):\n",
    "    tfms = tfms_from_model(model, sz, crop_type=CropType.NO, aug_tfms=transforms_side_on, max_zoom=1.05)\n",
    "    return ImageClassifierData.from_paths(PATH, bs=bs, tfms=tfms, trn_name='train', val_name='validation', test_name= 'test')"
   ]
  },
  {
   "cell_type": "code",
   "execution_count": 7,
   "metadata": {
    "ExecuteTime": {
     "end_time": "2018-06-21T15:20:35.959288Z",
     "start_time": "2018-06-21T15:20:30.615711Z"
    }
   },
   "outputs": [],
   "source": [
    "learn = ConvLearner.pretrained(model, get_data(sz))"
   ]
  },
  {
   "cell_type": "code",
   "execution_count": 13,
   "metadata": {
    "ExecuteTime": {
     "end_time": "2018-06-20T20:49:43.768778Z",
     "start_time": "2018-06-20T20:42:04.322706Z"
    }
   },
   "outputs": [
    {
     "data": {
      "application/vnd.jupyter.widget-view+json": {
       "model_id": "70f8a6f29d7d494093525f3ea407cd85",
       "version_major": 2,
       "version_minor": 0
      },
      "text/plain": [
       "HBox(children=(IntProgress(value=0, description='Epoch', max=1), HTML(value='')))"
      ]
     },
     "metadata": {},
     "output_type": "display_data"
    },
    {
     "name": "stdout",
     "output_type": "stream",
     "text": [
      "  0%|▎                                                                     | 5/1119 [00:04<17:12,  1.08it/s, loss=8.83]\n",
      " 77%|████████████████████████████████████████████████████▍               | 863/1119 [07:39<02:16,  1.88it/s, loss=35.1]"
     ]
    }
   ],
   "source": [
    "learn.lr_find()"
   ]
  },
  {
   "cell_type": "code",
   "execution_count": 15,
   "metadata": {
    "ExecuteTime": {
     "end_time": "2018-06-20T20:50:05.272668Z",
     "start_time": "2018-06-20T20:50:05.005385Z"
    }
   },
   "outputs": [
    {
     "data": {
      "image/png": "[encoded data removed]",
      "text/plain": [
       "<Figure size 432x288 with 1 Axes>"
      ]
     },
     "metadata": {},
     "output_type": "display_data"
    }
   ],
   "source": [
    "learn.sched.plot(n_skip_end=30)"
   ]
  },
  {
   "cell_type": "code",
   "execution_count": 10,
   "metadata": {
    "ExecuteTime": {
     "end_time": "2018-06-21T15:20:42.922891Z",
     "start_time": "2018-06-21T15:20:42.919876Z"
    }
   },
   "outputs": [],
   "source": [
    "lr=2e-3"
   ]
  },
  {
   "cell_type": "code",
   "execution_count": 17,
   "metadata": {
    "ExecuteTime": {
     "end_time": "2018-06-20T22:05:12.813706Z",
     "start_time": "2018-06-20T20:50:13.644984Z"
    }
   },
   "outputs": [
    {
     "data": {
      "application/vnd.jupyter.widget-view+json": {
       "model_id": "047c8d4bf4d74a7c8d133a4bf5c0d5f5",
       "version_major": 2,
       "version_minor": 0
      },
      "text/plain": [
       "HBox(children=(IntProgress(value=0, description='Epoch', max=7), HTML(value='')))"
      ]
     },
     "metadata": {},
     "output_type": "display_data"
    },
    {
     "name": "stdout",
     "output_type": "stream",
     "text": [
      "  1%|▍                                                                      | 6/1119 [00:05<16:18,  1.14it/s, loss=9.1]\n",
      "epoch      trn_loss   val_loss   accuracy                                                                              \n",
      "    0      8.653954   7.487363   0.147124  \n",
      "    1      8.114615   6.587223   0.225664                                                                              \n",
      "    2      7.747072   6.495569   0.230088                                                                              \n",
      "    3      7.571154   6.11956    0.234513                                                                              \n",
      "    4      7.275803   5.798278   0.247788                                                                              \n",
      "    5      7.005576   5.698104   0.253319                                                                              \n",
      "    6      6.825414   5.682917   0.254425                                                                              \n",
      "\n"
     ]
    },
    {
     "data": {
      "text/plain": [
       "[5.682917052665643, 0.25442477876106195]"
      ]
     },
     "execution_count": 17,
     "metadata": {},
     "output_type": "execute_result"
    }
   ],
   "source": [
    "learn.fit(lr,3, cycle_len=1, cycle_mult=2)"
   ]
  },
  {
   "cell_type": "code",
   "execution_count": 8,
   "metadata": {
    "ExecuteTime": {
     "end_time": "2018-06-21T15:20:38.195180Z",
     "start_time": "2018-06-21T15:20:37.447146Z"
    }
   },
   "outputs": [],
   "source": [
    "#learn.save('299_last_layer_nocrop')\n",
    "learn.load('299_last_layer_nocrop')"
   ]
  },
  {
   "cell_type": "code",
   "execution_count": 11,
   "metadata": {
    "ExecuteTime": {
     "end_time": "2018-06-21T15:20:45.754718Z",
     "start_time": "2018-06-21T15:20:45.751726Z"
    }
   },
   "outputs": [],
   "source": [
    "lrs = np.array([lr/9,lr/3,lr])"
   ]
  },
  {
   "cell_type": "code",
   "execution_count": 12,
   "metadata": {
    "ExecuteTime": {
     "end_time": "2018-06-21T16:22:35.603054Z",
     "start_time": "2018-06-21T15:20:46.793829Z"
    }
   },
   "outputs": [
    {
     "data": {
      "application/vnd.jupyter.widget-view+json": {
       "model_id": "20a2f5bf3db94493b88c7d0d0f17917f",
       "version_major": 2,
       "version_minor": 0
      },
      "text/plain": [
       "HBox(children=(IntProgress(value=0, description='Epoch', max=7), HTML(value='')))"
      ]
     },
     "metadata": {},
     "output_type": "display_data"
    },
    {
     "name": "stdout",
     "output_type": "stream",
     "text": [
      "epoch      trn_loss   val_loss   accuracy                                                                              \n",
      "    0      7.874274   6.331018   0.221239  \n",
      "    1      7.740196   5.982207   0.22677                                                                               \n",
      "    2      7.633639   5.883034   0.224558                                                                              \n",
      "    3      7.592475   5.718005   0.228982                                                                              \n",
      "    4      7.519968   5.48413    0.234513                                                                              \n",
      "    5      7.227295   5.401085   0.22677                                                                               \n",
      "    6      7.435877   5.36484    0.230088                                                                              \n",
      "\n"
     ]
    },
    {
     "data": {
      "text/plain": [
       "[5.364840196297232, 0.23008849557522124]"
      ]
     },
     "execution_count": 12,
     "metadata": {},
     "output_type": "execute_result"
    }
   ],
   "source": [
    "learn.unfreeze()\n",
    "learn.fit(lrs,3, cycle_len=1, cycle_mult=2)"
   ]
  },
  {
   "cell_type": "code",
   "execution_count": 14,
   "metadata": {
    "ExecuteTime": {
     "end_time": "2018-06-21T16:23:55.187356Z",
     "start_time": "2018-06-21T16:23:55.080662Z"
    }
   },
   "outputs": [],
   "source": [
    "#learn.save('299_full_nocrop')\n",
    "learn.load('299_full_nocrop')"
   ]
  },
  {
   "cell_type": "markdown",
   "metadata": {},
   "source": [
    "# Submit"
   ]
  },
  {
   "cell_type": "markdown",
   "metadata": {},
   "source": [
    "## Run predictor"
   ]
  },
  {
   "cell_type": "code",
   "execution_count": 15,
   "metadata": {
    "ExecuteTime": {
     "end_time": "2018-06-21T16:48:35.049001Z",
     "start_time": "2018-06-21T16:24:04.952348Z"
    }
   },
   "outputs": [
    {
     "name": "stdout",
     "output_type": "stream",
     "text": [
      "                                                                                                                       \r"
     ]
    }
   ],
   "source": [
    "log_preds = learn.TTA(is_test=True)"
   ]
  },
  {
   "cell_type": "code",
   "execution_count": 16,
   "metadata": {
    "ExecuteTime": {
     "end_time": "2018-06-21T16:51:35.356958Z",
     "start_time": "2018-06-21T16:51:35.353966Z"
    }
   },
   "outputs": [],
   "source": [
    "log_probs = log_preds[0]"
   ]
  },
  {
   "cell_type": "code",
   "execution_count": 17,
   "metadata": {
    "ExecuteTime": {
     "end_time": "2018-06-21T16:51:37.149467Z",
     "start_time": "2018-06-21T16:51:36.537078Z"
    }
   },
   "outputs": [],
   "source": [
    "probs = np.mean(np.exp(log_probs),0)"
   ]
  },
  {
   "cell_type": "code",
   "execution_count": 18,
   "metadata": {
    "ExecuteTime": {
     "end_time": "2018-06-21T16:51:44.363438Z",
     "start_time": "2018-06-21T16:51:41.129111Z"
    }
   },
   "outputs": [],
   "source": [
    "best_pred_numbers = np.argsort(-probs,1)[:,:5]"
   ]
  },
  {
   "cell_type": "code",
   "execution_count": 19,
   "metadata": {
    "ExecuteTime": {
     "end_time": "2018-06-21T16:51:44.441355Z",
     "start_time": "2018-06-21T16:51:44.364440Z"
    }
   },
   "outputs": [],
   "source": [
    "lookup_names = np.vectorize(lambda i: learn.data.classes[i])\n",
    "best_pred_names = lookup_names(best_pred_numbers)"
   ]
  },
  {
   "cell_type": "code",
   "execution_count": 20,
   "metadata": {
    "ExecuteTime": {
     "end_time": "2018-06-21T16:51:44.448225Z",
     "start_time": "2018-06-21T16:51:44.442229Z"
    }
   },
   "outputs": [],
   "source": [
    "filenames = np.array([fn[5:] for fn in learn.data.test_ds.fnames]).reshape(-1,1)"
   ]
  },
  {
   "cell_type": "markdown",
   "metadata": {},
   "source": [
    "## Fix duplicates"
   ]
  },
  {
   "cell_type": "code",
   "execution_count": 21,
   "metadata": {
    "ExecuteTime": {
     "end_time": "2018-06-21T16:52:01.042001Z",
     "start_time": "2018-06-21T16:52:01.000983Z"
    }
   },
   "outputs": [],
   "source": [
    "duplicates_df = pd.read_csv('duplicates.csv')"
   ]
  },
  {
   "cell_type": "code",
   "execution_count": 22,
   "metadata": {
    "ExecuteTime": {
     "end_time": "2018-06-21T16:52:03.243677Z",
     "start_time": "2018-06-21T16:52:02.408784Z"
    }
   },
   "outputs": [],
   "source": [
    "for i in range(len(duplicates_df)):\n",
    "    findex = np.where(filenames == duplicates_df.iloc[i]['file'])[0][0]\n",
    "    best_pred_names[findex,:] = np.concatenate([np.array(list(eval(duplicates_df.iloc[i]['names']))), best_pred_names[findex,:]])[:5]"
   ]
  },
  {
   "cell_type": "code",
   "execution_count": 23,
   "metadata": {
    "ExecuteTime": {
     "end_time": "2018-06-21T16:52:03.247554Z",
     "start_time": "2018-06-21T16:52:03.244549Z"
    }
   },
   "outputs": [
    {
     "data": {
      "text/plain": [
       "array([['new_whale', 'w_7875b79', 'w_73d5489', 'w_1da7080', 'w_b9e00eb'],\n",
       "       ['new_whale', 'w_d88328d', 'w_ee17a08', 'w_2d99a0c', 'w_9ca943b'],\n",
       "       ['new_whale', 'w_6c803bf', 'w_18eee6e', 'w_43be268', 'w_d2be6cc'],\n",
       "       ['new_whale', 'w_dbda0d6', 'w_f19faeb', 'w_cae7677', 'w_0e737d0'],\n",
       "       ['new_whale', 'w_18eee6e', 'w_43be268', 'w_d2be6cc', 'w_0e737d0'],\n",
       "       ['new_whale', 'w_ab4cae2', 'w_7554f44', 'w_b074cdf', 'w_693c9ee'],\n",
       "       ['w_3d66298', 'new_whale', 'w_95874a5', 'w_9b401eb', 'w_17ee910']], dtype='<U9')"
      ]
     },
     "execution_count": 23,
     "metadata": {},
     "output_type": "execute_result"
    }
   ],
   "source": [
    "best_pred_names[:7]"
   ]
  },
  {
   "cell_type": "markdown",
   "metadata": {
    "ExecuteTime": {
     "end_time": "2018-06-18T16:58:36.917885Z",
     "start_time": "2018-06-18T16:58:36.914859Z"
    }
   },
   "source": [
    "## Submit"
   ]
  },
  {
   "cell_type": "code",
   "execution_count": 24,
   "metadata": {
    "ExecuteTime": {
     "end_time": "2018-06-21T16:52:18.743335Z",
     "start_time": "2018-06-21T16:52:18.665515Z"
    }
   },
   "outputs": [],
   "source": [
    "subm = np.concatenate([filenames, best_pred_names], axis = 1)\n",
    "name = 'subm_fastai_base_duplicates_nocrop_full.csv'\n",
    "np.savetxt(name, subm, fmt = '%s, %s %s %s %s %s', header = 'Image,Id', comments = '')"
   ]
  },
  {
   "cell_type": "code",
   "execution_count": null,
   "metadata": {},
   "outputs": [],
   "source": []
  }
 ],
 "metadata": {
  "kernelspec": {
   "display_name": "Python 3",
   "language": "python",
   "name": "python3"
  },
  "language_info": {
   "codemirror_mode": {
    "name": "ipython",
    "version": 3
   },
   "file_extension": ".py",
   "mimetype": "text/x-python",
   "name": "python",
   "nbconvert_exporter": "python",
   "pygments_lexer": "ipython3",
   "version": "3.6.5"
  },
  "toc": {
   "base_numbering": 1,
   "nav_menu": {},
   "number_sections": true,
   "sideBar": true,
   "skip_h1_title": false,
   "title_cell": "Table of Contents",
   "title_sidebar": "Contents",
   "toc_cell": false,
   "toc_position": {},
   "toc_section_display": true,
   "toc_window_display": false
  }
 },
 "nbformat": 4,
 "nbformat_minor": 2
}
