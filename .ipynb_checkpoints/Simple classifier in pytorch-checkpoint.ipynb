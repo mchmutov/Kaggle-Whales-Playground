{
 "cells": [
  {
   "cell_type": "markdown",
   "metadata": {},
   "source": [
    "# Todo"
   ]
  },
  {
   "cell_type": "markdown",
   "metadata": {},
   "source": [
    "* Make decent vanilla classifier\n",
    "* Add duplicates to vanilla classifier\n",
    "* Make siamese model\n",
    "* Optimize dupilcate detector\n",
    "* Make tail detector and crop out water\n",
    "* Optimize augmentation"
   ]
  },
  {
   "cell_type": "markdown",
   "metadata": {
    "heading_collapsed": true
   },
   "source": [
    "# Imports"
   ]
  },
  {
   "cell_type": "code",
   "execution_count": 1,
   "metadata": {
    "ExecuteTime": {
     "end_time": "2018-06-18T02:43:43.800105Z",
     "start_time": "2018-06-18T02:43:42.241028Z"
    },
    "hidden": true
   },
   "outputs": [],
   "source": [
    "import os\n",
    "import pandas as pd\n",
    "import numpy as np"
   ]
  },
  {
   "cell_type": "code",
   "execution_count": 3,
   "metadata": {
    "ExecuteTime": {
     "end_time": "2018-06-18T03:00:39.320106Z",
     "start_time": "2018-06-18T03:00:33.394466Z"
    },
    "hidden": true
   },
   "outputs": [],
   "source": [
    "from fastai.imports import *"
   ]
  },
  {
   "cell_type": "code",
   "execution_count": 4,
   "metadata": {
    "ExecuteTime": {
     "end_time": "2018-06-18T03:00:49.475698Z",
     "start_time": "2018-06-18T03:00:47.184866Z"
    },
    "hidden": true
   },
   "outputs": [],
   "source": [
    "from fastai.transforms import *\n",
    "from fastai.conv_learner import *\n",
    "from fastai.model import *\n",
    "from fastai.dataset import *\n",
    "from fastai.sgdr import *\n",
    "from fastai.plots import *"
   ]
  },
  {
   "cell_type": "markdown",
   "metadata": {
    "heading_collapsed": true
   },
   "source": [
    "# Set up model"
   ]
  },
  {
   "cell_type": "code",
   "execution_count": 5,
   "metadata": {
    "ExecuteTime": {
     "end_time": "2018-06-18T03:01:19.571587Z",
     "start_time": "2018-06-18T03:01:19.569573Z"
    },
    "hidden": true
   },
   "outputs": [],
   "source": [
    "PATH= 'D:/msc/kaggle_data/whales/'"
   ]
  },
  {
   "cell_type": "code",
   "execution_count": 10,
   "metadata": {
    "ExecuteTime": {
     "end_time": "2018-06-18T13:26:53.226179Z",
     "start_time": "2018-06-18T13:26:53.223164Z"
    },
    "hidden": true
   },
   "outputs": [],
   "source": [
    "model=resnext50\n",
    "bs=4\n",
    "sz=299"
   ]
  },
  {
   "cell_type": "code",
   "execution_count": 12,
   "metadata": {
    "ExecuteTime": {
     "end_time": "2018-06-18T13:26:58.442775Z",
     "start_time": "2018-06-18T13:26:58.438786Z"
    },
    "code_folding": [],
    "hidden": true
   },
   "outputs": [],
   "source": [
    "def get_data(sz):\n",
    "    tfms = tfms_from_model(model, sz, aug_tfms=transforms_side_on, max_zoom=1.05)\n",
    "    return ImageClassifierData.from_paths(PATH, bs=bs, tfms=tfms, trn_name='train', val_name='validation', test_name= 'test')\n",
    "# Below was for cross-validation\n",
    "#def get_data(sz, i):\n",
    "#    tfms = tfms_from_model(model, sz, aug_tfms=transforms_side_on, max_zoom=1.05)\n",
    "#    return ImageClassifierData.from_csv(PATH, 'train', labels_csv, bs=bs, tfms=tfms,\n",
    "#                                           suffix='.jpg', val_idxs = val_idx[i], test_name= 'test')"
   ]
  },
  {
   "cell_type": "code",
   "execution_count": 26,
   "metadata": {
    "ExecuteTime": {
     "end_time": "2018-06-18T13:56:32.104835Z",
     "start_time": "2018-06-18T13:56:31.141898Z"
    },
    "hidden": true
   },
   "outputs": [
    {
     "name": "stderr",
     "output_type": "stream",
     "text": [
      "C:\\Users\\msc12\\Dropbox\\msc\\industry_job_prep\\ml\\kaggle\\whales\\fastai\\initializers.py:6: UserWarning: nn.init.kaiming_normal is now deprecated in favor of nn.init.kaiming_normal_.\n",
      "  if hasattr(m, 'weight'): init_fn(m.weight)\n"
     ]
    }
   ],
   "source": [
    "learn = ConvLearner.pretrained(model, get_data(sz))"
   ]
  },
  {
   "cell_type": "code",
   "execution_count": 16,
   "metadata": {
    "ExecuteTime": {
     "end_time": "2018-06-18T13:33:07.974825Z",
     "start_time": "2018-06-18T13:30:55.510020Z"
    },
    "hidden": true
   },
   "outputs": [
    {
     "data": {
      "application/vnd.jupyter.widget-view+json": {
       "model_id": "549e8373d5744a93ab16ba57aa01e873",
       "version_major": 2,
       "version_minor": 0
      },
      "text/plain": [
       "HBox(children=(IntProgress(value=0, description='Epoch', max=1), HTML(value='')))"
      ]
     },
     "metadata": {},
     "output_type": "display_data"
    },
    {
     "name": "stdout",
     "output_type": "stream",
     "text": [
      " 71%|███████████████████████████████████████████████▍                   | 1584/2237 [02:30<01:01, 10.56it/s, loss=35.5]"
     ]
    }
   ],
   "source": [
    "learn.lr_find()"
   ]
  },
  {
   "cell_type": "code",
   "execution_count": 22,
   "metadata": {
    "ExecuteTime": {
     "end_time": "2018-06-18T13:36:19.512134Z",
     "start_time": "2018-06-18T13:36:19.285742Z"
    },
    "hidden": true
   },
   "outputs": [
    {
     "data": {
      "image/png": "[encoded data removed]",
      "text/plain": [
       "<Figure size 432x288 with 1 Axes>"
      ]
     },
     "metadata": {},
     "output_type": "display_data"
    }
   ],
   "source": [
    "learn.sched.plot(n_skip_end=60)"
   ]
  },
  {
   "cell_type": "code",
   "execution_count": 27,
   "metadata": {
    "ExecuteTime": {
     "end_time": "2018-06-18T13:56:41.657281Z",
     "start_time": "2018-06-18T13:56:41.653292Z"
    },
    "hidden": true
   },
   "outputs": [],
   "source": [
    "lr=1e-3"
   ]
  },
  {
   "cell_type": "code",
   "execution_count": 28,
   "metadata": {
    "ExecuteTime": {
     "end_time": "2018-06-18T14:21:15.714864Z",
     "start_time": "2018-06-18T13:56:44.551281Z"
    },
    "hidden": true
   },
   "outputs": [
    {
     "data": {
      "application/vnd.jupyter.widget-view+json": {
       "model_id": "130eb25cd8554b88868d25af005471d3",
       "version_major": 2,
       "version_minor": 0
      },
      "text/plain": [
       "HBox(children=(IntProgress(value=0, description='Epoch', max=7), HTML(value='')))"
      ]
     },
     "metadata": {},
     "output_type": "display_data"
    },
    {
     "name": "stdout",
     "output_type": "stream",
     "text": [
      "epoch      trn_loss   val_loss   accuracy                                                                              \n",
      "    0      8.579405   7.739381   0.138274  \n",
      "    1      8.392427   7.009582   0.224558                                                                              \n",
      "    2      7.955901   6.920304   0.223451                                                                              \n",
      "    3      8.071943   6.605067   0.22677                                                                               \n",
      "    4      7.858774   6.465871   0.225664                                                                              \n",
      "    5      7.825517   6.405645   0.230088                                                                              \n",
      "    6      7.712069   6.322583   0.230088                                                                              \n",
      "\n"
     ]
    },
    {
     "data": {
      "text/plain": [
       "[6.322583052964337, 0.23008849557522124]"
      ]
     },
     "execution_count": 28,
     "metadata": {},
     "output_type": "execute_result"
    }
   ],
   "source": [
    "learn.fit(lr,3, cycle_len=1, cycle_mult=2)"
   ]
  },
  {
   "cell_type": "code",
   "execution_count": 29,
   "metadata": {
    "ExecuteTime": {
     "end_time": "2018-06-18T14:22:27.021074Z",
     "start_time": "2018-06-18T14:22:26.309713Z"
    },
    "hidden": true
   },
   "outputs": [],
   "source": [
    "#learn.save('299_last_layer')\n",
    "learn.load('299_last_layer')"
   ]
  },
  {
   "cell_type": "code",
   "execution_count": 30,
   "metadata": {
    "ExecuteTime": {
     "end_time": "2018-06-18T14:23:23.656327Z",
     "start_time": "2018-06-18T14:23:23.653304Z"
    },
    "hidden": true
   },
   "outputs": [],
   "source": [
    "lrs = np.array([lr/9,lr/3,lr])"
   ]
  },
  {
   "cell_type": "code",
   "execution_count": 31,
   "metadata": {
    "ExecuteTime": {
     "end_time": "2018-06-18T15:26:39.102965Z",
     "start_time": "2018-06-18T14:23:58.358145Z"
    },
    "hidden": true
   },
   "outputs": [
    {
     "data": {
      "application/vnd.jupyter.widget-view+json": {
       "model_id": "5046ee284ee64a30a44f514d07067128",
       "version_major": 2,
       "version_minor": 0
      },
      "text/plain": [
       "HBox(children=(IntProgress(value=0, description='Epoch', max=7), HTML(value='')))"
      ]
     },
     "metadata": {},
     "output_type": "display_data"
    },
    {
     "name": "stdout",
     "output_type": "stream",
     "text": [
      "epoch      trn_loss   val_loss   accuracy                                                                              \n",
      "    0      8.043909   6.572647   0.223451  \n",
      "    1      7.729885   6.389688   0.222345                                                                              \n",
      "    2      7.739919   6.279389   0.223451                                                                              \n",
      "    3      7.927754   6.150789   0.231195                                                                              \n",
      "    4      7.66333    6.022548   0.227876                                                                              \n",
      "    5      7.651578   5.950828   0.230088                                                                              \n",
      "    6      7.610981   5.930348   0.232301                                                                              \n",
      "\n"
     ]
    },
    {
     "data": {
      "text/plain": [
       "[5.930347794980074, 0.2323008849557522]"
      ]
     },
     "execution_count": 31,
     "metadata": {},
     "output_type": "execute_result"
    }
   ],
   "source": [
    "learn.unfreeze()\n",
    "learn.fit(lrs,3, cycle_len=1, cycle_mult=2)"
   ]
  },
  {
   "cell_type": "code",
   "execution_count": 32,
   "metadata": {
    "ExecuteTime": {
     "end_time": "2018-06-18T15:30:51.234950Z",
     "start_time": "2018-06-18T15:30:50.533161Z"
    },
    "hidden": true
   },
   "outputs": [],
   "source": [
    "#learn.save('299_full')\n",
    "learn.load('299_full')"
   ]
  },
  {
   "cell_type": "markdown",
   "metadata": {},
   "source": [
    "# Submit"
   ]
  },
  {
   "cell_type": "code",
   "execution_count": null,
   "metadata": {
    "ExecuteTime": {
     "start_time": "2018-06-18T15:31:50.933Z"
    }
   },
   "outputs": [
    {
     "name": "stdout",
     "output_type": "stream",
     "text": [
      "\r",
      "  0%|                                                                                            | 0/4 [00:00<?, ?it/s]"
     ]
    }
   ],
   "source": [
    "log_preds = learn.TTA(is_test=True)"
   ]
  },
  {
   "cell_type": "code",
   "execution_count": null,
   "metadata": {
    "ExecuteTime": {
     "start_time": "2018-06-18T15:32:34.274Z"
    }
   },
   "outputs": [],
   "source": [
    "log_probs = log_preds"
   ]
  },
  {
   "cell_type": "code",
   "execution_count": null,
   "metadata": {
    "ExecuteTime": {
     "start_time": "2018-06-18T15:34:07.956Z"
    }
   },
   "outputs": [],
   "source": [
    "probs = np.mean(np.exp(log_probs),0)"
   ]
  },
  {
   "cell_type": "code",
   "execution_count": null,
   "metadata": {},
   "outputs": [],
   "source": []
  }
 ],
 "metadata": {
  "kernelspec": {
   "display_name": "Python 3",
   "language": "python",
   "name": "python3"
  },
  "language_info": {
   "codemirror_mode": {
    "name": "ipython",
    "version": 3
   },
   "file_extension": ".py",
   "mimetype": "text/x-python",
   "name": "python",
   "nbconvert_exporter": "python",
   "pygments_lexer": "ipython3",
   "version": "3.6.5"
  },
  "toc": {
   "base_numbering": 1,
   "nav_menu": {},
   "number_sections": true,
   "sideBar": true,
   "skip_h1_title": false,
   "title_cell": "Table of Contents",
   "title_sidebar": "Contents",
   "toc_cell": false,
   "toc_position": {},
   "toc_section_display": true,
   "toc_window_display": false
  }
 },
 "nbformat": 4,
 "nbformat_minor": 2
}
