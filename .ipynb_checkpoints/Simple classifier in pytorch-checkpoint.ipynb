{
 "cells": [
  {
   "cell_type": "markdown",
   "metadata": {},
   "source": [
    "# Todo"
   ]
  },
  {
   "cell_type": "markdown",
   "metadata": {},
   "source": [
    "* Make decent vanilla classifier\n",
    "     * ~~Resize instead of cropping~~\n",
    "     * Stop using new_whale as class\n",
    "* Make siamese model\n",
    "* Optimize image size\n",
    "* Optimize dupilcate detector\n",
    "* Optimize augmentation\n",
    "* ~~Optimize tail detector and crop~~\n",
    "    * ~~Use ResNext50 as opposed to ResNet34~~\n",
    "    * ~~Add more data from other kaggle users~~"
   ]
  },
  {
   "cell_type": "markdown",
   "metadata": {},
   "source": [
    "# Imports"
   ]
  },
  {
   "cell_type": "code",
   "execution_count": 1,
   "metadata": {
    "ExecuteTime": {
     "end_time": "2018-06-21T15:20:15.798399Z",
     "start_time": "2018-06-21T15:20:14.056990Z"
    }
   },
   "outputs": [],
   "source": [
    "import os\n",
    "import pandas as pd\n",
    "import numpy as np"
   ]
  },
  {
   "cell_type": "code",
   "execution_count": 2,
   "metadata": {
    "ExecuteTime": {
     "end_time": "2018-06-21T15:20:21.655342Z",
     "start_time": "2018-06-21T15:20:16.360028Z"
    }
   },
   "outputs": [],
   "source": [
    "from fastai.imports import *"
   ]
  },
  {
   "cell_type": "code",
   "execution_count": 3,
   "metadata": {
    "ExecuteTime": {
     "end_time": "2018-06-21T15:20:24.118658Z",
     "start_time": "2018-06-21T15:20:21.656310Z"
    }
   },
   "outputs": [],
   "source": [
    "from fastai.transforms import *\n",
    "from fastai.conv_learner import *\n",
    "from fastai.model import *\n",
    "from fastai.dataset import *\n",
    "from fastai.sgdr import *\n",
    "from fastai.plots import *"
   ]
  },
  {
   "cell_type": "code",
   "execution_count": 4,
   "metadata": {},
   "outputs": [],
   "source": [
    "from pathlib import Path"
   ]
  },
  {
   "cell_type": "markdown",
   "metadata": {},
   "source": [
    "# Set up model"
   ]
  },
  {
   "cell_type": "code",
   "execution_count": 12,
   "metadata": {},
   "outputs": [
    {
     "name": "stdout",
     "output_type": "stream",
     "text": [
      "base2_submission.csv  Hashing.ipynb\t\t\t  vgg16bn.py\r\n",
      "base_submission.csv   lr_utils\t\t\t\t  vgg16.py\r\n",
      "CVxTz.ipynb\t      __pycache__\t\t\t  whales.ipynb\r\n",
      "duplicates.csv\t      Simple classifier in pytorch.ipynb\r\n",
      "fastai\t\t      Tail Cropping.ipynb\r\n"
     ]
    }
   ],
   "source": [
    "!ls"
   ]
  },
  {
   "cell_type": "code",
   "execution_count": 5,
   "metadata": {
    "ExecuteTime": {
     "end_time": "2018-06-21T15:20:24.123632Z",
     "start_time": "2018-06-21T15:20:24.119644Z"
    }
   },
   "outputs": [],
   "source": [
    "#PATH= 'D:/msc/kaggle_data/whales/'\n",
    "PATH= Path('../../kaggle/whales')\n",
    "SUBM_PATH = PATH/'submissions'"
   ]
  },
  {
   "cell_type": "code",
   "execution_count": 6,
   "metadata": {
    "ExecuteTime": {
     "end_time": "2018-06-21T15:20:26.924413Z",
     "start_time": "2018-06-21T15:20:26.920425Z"
    }
   },
   "outputs": [],
   "source": [
    "model=resnext50\n",
    "bs=64\n",
    "sz=299"
   ]
  },
  {
   "cell_type": "code",
   "execution_count": 13,
   "metadata": {
    "ExecuteTime": {
     "end_time": "2018-06-21T15:20:28.426794Z",
     "start_time": "2018-06-21T15:20:28.423783Z"
    },
    "code_folding": []
   },
   "outputs": [],
   "source": [
    "def get_data(sz):\n",
    "    tfms = tfms_from_model(model, sz, crop_type=CropType.NO, aug_tfms=transforms_side_on, max_zoom=1.05)\n",
    "    return ImageClassifierData.from_csv(PATH,'trn_val_cropped', PATH/'train.csv', bs=bs, tfms=tfms, test_name='test')"
   ]
  },
  {
   "cell_type": "code",
   "execution_count": 14,
   "metadata": {
    "ExecuteTime": {
     "end_time": "2018-06-21T15:20:35.959288Z",
     "start_time": "2018-06-21T15:20:30.615711Z"
    }
   },
   "outputs": [],
   "source": [
    "learn = ConvLearner.pretrained(model, get_data(sz))"
   ]
  },
  {
   "cell_type": "code",
   "execution_count": 9,
   "metadata": {
    "ExecuteTime": {
     "end_time": "2018-06-20T20:49:43.768778Z",
     "start_time": "2018-06-20T20:42:04.322706Z"
    }
   },
   "outputs": [
    {
     "data": {
      "application/vnd.jupyter.widget-view+json": {
       "model_id": "9aa80a1e3f464fb9b01aa026c6cb6a84",
       "version_major": 2,
       "version_minor": 0
      },
      "text/plain": [
       "HBox(children=(IntProgress(value=0, description='Epoch', max=1), HTML(value='')))"
      ]
     },
     "metadata": {},
     "output_type": "display_data"
    },
    {
     "name": "stdout",
     "output_type": "stream",
     "text": [
      " 95%|█████████▌| 133/140 [03:10<00:10,  1.43s/it, loss=66]  "
     ]
    }
   ],
   "source": [
    "learn.lr_find()"
   ]
  },
  {
   "cell_type": "code",
   "execution_count": 10,
   "metadata": {
    "ExecuteTime": {
     "end_time": "2018-06-20T20:50:05.272668Z",
     "start_time": "2018-06-20T20:50:05.005385Z"
    }
   },
   "outputs": [
    {
     "data": {
      "image/png": "[encoded data removed]",
      "text/plain": [
       "<Figure size 432x288 with 1 Axes>"
      ]
     },
     "metadata": {},
     "output_type": "display_data"
    }
   ],
   "source": [
    "learn.sched.plot(n_skip_end=2)"
   ]
  },
  {
   "cell_type": "code",
   "execution_count": 11,
   "metadata": {
    "ExecuteTime": {
     "end_time": "2018-06-21T15:20:42.922891Z",
     "start_time": "2018-06-21T15:20:42.919876Z"
    }
   },
   "outputs": [],
   "source": [
    "lr=2e-1"
   ]
  },
  {
   "cell_type": "code",
   "execution_count": 12,
   "metadata": {
    "ExecuteTime": {
     "end_time": "2018-06-20T22:05:12.813706Z",
     "start_time": "2018-06-20T20:50:13.644984Z"
    },
    "scrolled": true
   },
   "outputs": [
    {
     "data": {
      "application/vnd.jupyter.widget-view+json": {
       "model_id": "9f2349a889824b91bfe27f475087b1cc",
       "version_major": 2,
       "version_minor": 0
      },
      "text/plain": [
       "HBox(children=(IntProgress(value=0, description='Epoch', max=7), HTML(value='')))"
      ]
     },
     "metadata": {},
     "output_type": "display_data"
    },
    {
     "name": "stdout",
     "output_type": "stream",
     "text": [
      "  0%|          | 0/140 [00:00<?, ?it/s]                   \n"
     ]
    },
    {
     "name": "stderr",
     "output_type": "stream",
     "text": [
      "Exception in thread Thread-4:\n",
      "Traceback (most recent call last):\n",
      "  File \"/home/paperspace/anaconda3/envs/fastai/lib/python3.6/threading.py\", line 916, in _bootstrap_inner\n",
      "    self.run()\n",
      "  File \"/home/paperspace/anaconda3/envs/fastai/lib/python3.6/site-packages/tqdm/_monitor.py\", line 62, in run\n",
      "    for instance in self.tqdm_cls._instances:\n",
      "  File \"/home/paperspace/anaconda3/envs/fastai/lib/python3.6/_weakrefset.py\", line 60, in __iter__\n",
      "    for itemref in self.data:\n",
      "RuntimeError: Set changed size during iteration\n",
      "\n"
     ]
    },
    {
     "name": "stdout",
     "output_type": "stream",
     "text": [
      "epoch      trn_loss   val_loss   accuracy                   \n",
      "    0      7.98365    6.33151    0.225664  \n",
      "    1      7.246152   5.406034   0.24115                    \n",
      "    2      5.76022    4.75439    0.279867                   \n",
      "    3      6.159894   5.106066   0.21792                    \n",
      "    4      4.7506     4.8023     0.279867                   \n",
      "    5      3.108228   4.161307   0.341814                   \n",
      "    6      2.131477   4.007778   0.35177                    \n",
      "\n"
     ]
    },
    {
     "data": {
      "text/plain": [
       "[array([4.00778]), 0.35176991150442477]"
      ]
     },
     "execution_count": 12,
     "metadata": {},
     "output_type": "execute_result"
    }
   ],
   "source": [
    "learn.fit(lr,3, cycle_len=1, cycle_mult=2)"
   ]
  },
  {
   "cell_type": "code",
   "execution_count": 13,
   "metadata": {
    "ExecuteTime": {
     "end_time": "2018-06-21T15:20:38.195180Z",
     "start_time": "2018-06-21T15:20:37.447146Z"
    }
   },
   "outputs": [],
   "source": [
    "learn.save('sz299_bs128_lr2en1_ll_nocrop_updlib')\n",
    "#learn.load('sz299_bs64_lr01_ll_nocrop')"
   ]
  },
  {
   "cell_type": "code",
   "execution_count": 11,
   "metadata": {
    "ExecuteTime": {
     "end_time": "2018-06-21T15:20:45.754718Z",
     "start_time": "2018-06-21T15:20:45.751726Z"
    }
   },
   "outputs": [],
   "source": [
    "lrs = np.array([lr/9,lr/3,lr])"
   ]
  },
  {
   "cell_type": "code",
   "execution_count": 12,
   "metadata": {
    "ExecuteTime": {
     "end_time": "2018-06-21T16:22:35.603054Z",
     "start_time": "2018-06-21T15:20:46.793829Z"
    }
   },
   "outputs": [
    {
     "data": {
      "application/vnd.jupyter.widget-view+json": {
       "model_id": "20a2f5bf3db94493b88c7d0d0f17917f",
       "version_major": 2,
       "version_minor": 0
      },
      "text/plain": [
       "HBox(children=(IntProgress(value=0, description='Epoch', max=7), HTML(value='')))"
      ]
     },
     "metadata": {},
     "output_type": "display_data"
    },
    {
     "name": "stdout",
     "output_type": "stream",
     "text": [
      "epoch      trn_loss   val_loss   accuracy                                                                              \n",
      "    0      7.874274   6.331018   0.221239  \n",
      "    1      7.740196   5.982207   0.22677                                                                               \n",
      "    2      7.633639   5.883034   0.224558                                                                              \n",
      "    3      7.592475   5.718005   0.228982                                                                              \n",
      "    4      7.519968   5.48413    0.234513                                                                              \n",
      "    5      7.227295   5.401085   0.22677                                                                               \n",
      "    6      7.435877   5.36484    0.230088                                                                              \n",
      "\n"
     ]
    },
    {
     "data": {
      "text/plain": [
       "[5.364840196297232, 0.23008849557522124]"
      ]
     },
     "execution_count": 12,
     "metadata": {},
     "output_type": "execute_result"
    }
   ],
   "source": [
    "learn.unfreeze()\n",
    "learn.fit(lrs,3, cycle_len=1, cycle_mult=2)"
   ]
  },
  {
   "cell_type": "code",
   "execution_count": 14,
   "metadata": {
    "ExecuteTime": {
     "end_time": "2018-06-21T16:23:55.187356Z",
     "start_time": "2018-06-21T16:23:55.080662Z"
    }
   },
   "outputs": [],
   "source": [
    "#learn.save('299_full_nocrop')\n",
    "learn.load('299_full_nocrop')"
   ]
  },
  {
   "cell_type": "markdown",
   "metadata": {},
   "source": [
    "# Submit"
   ]
  },
  {
   "cell_type": "markdown",
   "metadata": {},
   "source": [
    "## Run predictor"
   ]
  },
  {
   "cell_type": "code",
   "execution_count": 30,
   "metadata": {
    "ExecuteTime": {
     "end_time": "2018-06-21T16:48:35.049001Z",
     "start_time": "2018-06-21T16:24:04.952348Z"
    }
   },
   "outputs": [
    {
     "name": "stdout",
     "output_type": "stream",
     "text": [
      "                                              \r"
     ]
    }
   ],
   "source": [
    "log_probs,_ = learn.TTA(is_test=True)"
   ]
  },
  {
   "cell_type": "code",
   "execution_count": 32,
   "metadata": {
    "ExecuteTime": {
     "end_time": "2018-06-21T16:51:37.149467Z",
     "start_time": "2018-06-21T16:51:36.537078Z"
    }
   },
   "outputs": [],
   "source": [
    "probs = np.mean(np.exp(log_probs),0)"
   ]
  },
  {
   "cell_type": "code",
   "execution_count": 33,
   "metadata": {
    "ExecuteTime": {
     "end_time": "2018-06-21T16:51:44.363438Z",
     "start_time": "2018-06-21T16:51:41.129111Z"
    }
   },
   "outputs": [],
   "source": [
    "best_pred_numbers = np.argsort(-probs,1)[:,:5]"
   ]
  },
  {
   "cell_type": "code",
   "execution_count": 34,
   "metadata": {
    "ExecuteTime": {
     "end_time": "2018-06-21T16:51:44.441355Z",
     "start_time": "2018-06-21T16:51:44.364440Z"
    }
   },
   "outputs": [],
   "source": [
    "lookup_names = np.vectorize(lambda i: learn.data.classes[i])\n",
    "best_pred_names = lookup_names(best_pred_numbers)"
   ]
  },
  {
   "cell_type": "code",
   "execution_count": 35,
   "metadata": {
    "ExecuteTime": {
     "end_time": "2018-06-21T16:51:44.448225Z",
     "start_time": "2018-06-21T16:51:44.442229Z"
    }
   },
   "outputs": [],
   "source": [
    "filenames = np.array([fn[5:] for fn in learn.data.test_ds.fnames]).reshape(-1,1)"
   ]
  },
  {
   "cell_type": "markdown",
   "metadata": {},
   "source": [
    "## Fix duplicates"
   ]
  },
  {
   "cell_type": "code",
   "execution_count": 36,
   "metadata": {
    "ExecuteTime": {
     "end_time": "2018-06-21T16:52:01.042001Z",
     "start_time": "2018-06-21T16:52:01.000983Z"
    }
   },
   "outputs": [],
   "source": [
    "duplicates_df = pd.read_csv('duplicates.csv')"
   ]
  },
  {
   "cell_type": "code",
   "execution_count": 37,
   "metadata": {
    "ExecuteTime": {
     "end_time": "2018-06-21T16:52:03.243677Z",
     "start_time": "2018-06-21T16:52:02.408784Z"
    }
   },
   "outputs": [],
   "source": [
    "for i in range(len(duplicates_df)):\n",
    "    findex = np.where(filenames == duplicates_df.iloc[i]['file'])[0][0]\n",
    "    best_pred_names[findex,:] = np.concatenate([np.array(list(eval(duplicates_df.iloc[i]['names']))), best_pred_names[findex,:]])[:5]"
   ]
  },
  {
   "cell_type": "code",
   "execution_count": 38,
   "metadata": {
    "ExecuteTime": {
     "end_time": "2018-06-21T16:52:03.247554Z",
     "start_time": "2018-06-21T16:52:03.244549Z"
    }
   },
   "outputs": [
    {
     "data": {
      "text/plain": [
       "array([['w_01b2250', 'w_fd1cb9d', 'new_whale', 'w_4f38350', 'w_64f3545'],\n",
       "       ['w_3694c7d', 'new_whale', 'w_5a2075e', 'w_3694c7d', 'w_aef3680'],\n",
       "       ['new_whale', 'w_71e6583', 'w_6dbb861', 'w_e3c119c', 'w_48a5b86'],\n",
       "       ['w_a59905f', 'new_whale', 'w_4855bd3', 'w_a22f338', 'w_43be268'],\n",
       "       ['w_44f0fa2', 'w_44f0fa2', 'w_6c803bf', 'w_8d83172', 'w_e02fe7b'],\n",
       "       ['new_whale', 'w_2cca6a1', 'w_ee948c6', 'w_af890ad', 'w_8a3449f'],\n",
       "       ['new_whale', 'w_e685c80', 'w_4e52a49', 'w_711aaa1', 'w_8d46cef']], dtype='<U9')"
      ]
     },
     "execution_count": 38,
     "metadata": {},
     "output_type": "execute_result"
    }
   ],
   "source": [
    "best_pred_names[:7]"
   ]
  },
  {
   "cell_type": "markdown",
   "metadata": {
    "ExecuteTime": {
     "end_time": "2018-06-18T16:58:36.917885Z",
     "start_time": "2018-06-18T16:58:36.914859Z"
    }
   },
   "source": [
    "## Submit"
   ]
  },
  {
   "cell_type": "code",
   "execution_count": 39,
   "metadata": {
    "ExecuteTime": {
     "end_time": "2018-06-21T16:52:18.743335Z",
     "start_time": "2018-06-21T16:52:18.665515Z"
    }
   },
   "outputs": [],
   "source": [
    "subm = np.concatenate([filenames, best_pred_names], axis = 1)\n",
    "name = 'subm_resnext50_sz299_bs64_lr01_ll_nocrop.csv'\n",
    "np.savetxt(name, subm, fmt = '%s, %s %s %s %s %s', header = 'Image,Id', comments = '')"
   ]
  },
  {
   "cell_type": "code",
   "execution_count": null,
   "metadata": {},
   "outputs": [],
   "source": []
  }
 ],
 "metadata": {
  "kernelspec": {
   "display_name": "Python 3",
   "language": "python",
   "name": "python3"
  },
  "language_info": {
   "codemirror_mode": {
    "name": "ipython",
    "version": 3
   },
   "file_extension": ".py",
   "mimetype": "text/x-python",
   "name": "python",
   "nbconvert_exporter": "python",
   "pygments_lexer": "ipython3",
   "version": "3.6.5"
  },
  "toc": {
   "base_numbering": 1,
   "nav_menu": {},
   "number_sections": true,
   "sideBar": true,
   "skip_h1_title": false,
   "title_cell": "Table of Contents",
   "title_sidebar": "Contents",
   "toc_cell": false,
   "toc_position": {},
   "toc_section_display": true,
   "toc_window_display": false
  }
 },
 "nbformat": 4,
 "nbformat_minor": 2
}
