{
 "cells": [
  {
   "cell_type": "code",
   "execution_count": 1,
   "metadata": {
    "ExecuteTime": {
     "end_time": "2018-04-17T20:08:32.140392Z",
     "start_time": "2018-04-17T20:08:30.362432Z"
    }
   },
   "outputs": [
    {
     "name": "stderr",
     "output_type": "stream",
     "text": [
      "C:\\Users\\msc12\\Anaconda3\\envs\\tensorflow\\lib\\site-packages\\h5py\\__init__.py:36: FutureWarning: Conversion of the second argument of issubdtype from `float` to `np.floating` is deprecated. In future, it will be treated as `np.float64 == np.dtype(float).type`.\n",
      "  from ._conv import register_converters as _register_converters\n",
      "Using TensorFlow backend.\n"
     ]
    }
   ],
   "source": [
    "import os\n",
    "import pandas as pd\n",
    "import numpy as np\n",
    "import matplotlib.pyplot as plt\n",
    "%matplotlib inline\n",
    "\n",
    "import keras\n",
    "from keras.preprocessing import image\n",
    "from keras.layers import Input, Subtract, Lambda, BatchNormalization, Dense, Flatten, Conv2D, MaxPooling2D, GlobalMaxPooling2D, Dropout\n",
    "from keras.callbacks import ModelCheckpoint\n",
    "from keras.optimizers import Adam\n",
    "from keras import Model, Sequential\n",
    "\n",
    "from keras.applications.resnet50 import ResNet50\n",
    "\n",
    "from sklearn.neighbors import KNeighborsClassifier\n",
    "\n",
    "import cv2\n",
    "\n",
    "import itertools\n",
    "\n",
    "import bcolz\n",
    "\n",
    "import pdb"
   ]
  },
  {
   "cell_type": "code",
   "execution_count": 2,
   "metadata": {
    "ExecuteTime": {
     "end_time": "2018-04-17T20:08:32.143401Z",
     "start_time": "2018-04-17T20:08:32.141395Z"
    }
   },
   "outputs": [],
   "source": [
    "path = 'D:/msc/kaggle_data/whales/'\n",
    "train_path = path + 'train/'\n",
    "test_path = path+'test/'\n",
    "validation_path = path+'validation/'"
   ]
  },
  {
   "cell_type": "code",
   "execution_count": 3,
   "metadata": {
    "ExecuteTime": {
     "end_time": "2018-04-17T20:08:32.745010Z",
     "start_time": "2018-04-17T20:08:32.729961Z"
    }
   },
   "outputs": [],
   "source": [
    "labels = pd.read_csv(path+'train.csv')"
   ]
  },
  {
   "cell_type": "markdown",
   "metadata": {
    "heading_collapsed": true
   },
   "source": [
    "# Compute loss"
   ]
  },
  {
   "cell_type": "code",
   "execution_count": null,
   "metadata": {
    "ExecuteTime": {
     "end_time": "2018-02-20T17:09:08.921827Z",
     "start_time": "2018-02-20T17:09:08.917815Z"
    },
    "hidden": true
   },
   "outputs": [],
   "source": [
    "#Assume there are 5 preditions all of which are different\n",
    "def map_loss(y_true, preds):\n",
    "    ps = np.zeros(len(y_true))\n",
    "    for i in range(5):\n",
    "        ps += ((y_true == preds[:,i]).astype(np.int64))/(i+1)\n",
    "    return ps.mean()"
   ]
  },
  {
   "cell_type": "markdown",
   "metadata": {
    "heading_collapsed": true
   },
   "source": [
    "# Make the correct directory structure"
   ]
  },
  {
   "cell_type": "code",
   "execution_count": null,
   "metadata": {
    "ExecuteTime": {
     "end_time": "2018-03-20T17:12:10.021811Z",
     "start_time": "2018-03-20T17:12:10.013763Z"
    },
    "hidden": true
   },
   "outputs": [],
   "source": [
    "folders = list(labels['Id'].unique())"
   ]
  },
  {
   "cell_type": "code",
   "execution_count": null,
   "metadata": {
    "ExecuteTime": {
     "end_time": "2018-02-08T21:22:12.132235Z",
     "start_time": "2018-02-08T21:22:12.125216Z"
    },
    "hidden": true
   },
   "outputs": [],
   "source": [
    "%cd $train_path"
   ]
  },
  {
   "cell_type": "code",
   "execution_count": null,
   "metadata": {
    "ExecuteTime": {
     "end_time": "2018-02-08T21:24:37.015550Z",
     "start_time": "2018-02-08T21:23:47.553348Z"
    },
    "hidden": true
   },
   "outputs": [],
   "source": [
    "for fd in folders:\n",
    "    %mkdir $fd"
   ]
  },
  {
   "cell_type": "code",
   "execution_count": null,
   "metadata": {
    "ExecuteTime": {
     "end_time": "2018-02-08T21:35:57.272223Z",
     "start_time": "2018-02-08T21:35:53.819867Z"
    },
    "hidden": true
   },
   "outputs": [],
   "source": [
    "for i in range(len(labels)):\n",
    "    os.rename(labels['Image'][i], labels['Id'][i]+'/'+labels['Image'][i])"
   ]
  },
  {
   "cell_type": "code",
   "execution_count": null,
   "metadata": {
    "ExecuteTime": {
     "end_time": "2018-02-13T21:27:24.431095Z",
     "start_time": "2018-02-13T21:27:24.425052Z"
    },
    "hidden": true
   },
   "outputs": [],
   "source": [
    "%cd $test_path"
   ]
  },
  {
   "cell_type": "code",
   "execution_count": null,
   "metadata": {
    "ExecuteTime": {
     "end_time": "2018-02-13T21:28:25.481264Z",
     "start_time": "2018-02-13T21:27:33.401302Z"
    },
    "hidden": true
   },
   "outputs": [],
   "source": [
    "for fd in folders:\n",
    "    %mkdir $fd"
   ]
  },
  {
   "cell_type": "markdown",
   "metadata": {
    "heading_collapsed": true,
    "hidden": true
   },
   "source": [
    "## Validation"
   ]
  },
  {
   "cell_type": "code",
   "execution_count": null,
   "metadata": {
    "ExecuteTime": {
     "end_time": "2018-03-20T17:11:08.054694Z",
     "start_time": "2018-03-20T17:11:08.046675Z"
    },
    "hidden": true
   },
   "outputs": [],
   "source": [
    "%cd $path"
   ]
  },
  {
   "cell_type": "code",
   "execution_count": null,
   "metadata": {
    "ExecuteTime": {
     "end_time": "2018-03-20T17:11:19.424043Z",
     "start_time": "2018-03-20T17:11:19.410034Z"
    },
    "hidden": true
   },
   "outputs": [],
   "source": [
    "%mkdir validation"
   ]
  },
  {
   "cell_type": "code",
   "execution_count": null,
   "metadata": {
    "ExecuteTime": {
     "end_time": "2018-03-20T17:37:30.657882Z",
     "start_time": "2018-03-20T17:37:30.654880Z"
    },
    "hidden": true
   },
   "outputs": [],
   "source": [
    "%cd $train_path"
   ]
  },
  {
   "cell_type": "code",
   "execution_count": null,
   "metadata": {
    "ExecuteTime": {
     "end_time": "2018-03-20T17:40:43.199606Z",
     "start_time": "2018-03-20T17:40:06.479512Z"
    },
    "hidden": true
   },
   "outputs": [],
   "source": [
    "from glob import glob\n",
    "for fd in folders:\n",
    "    %cd $fd\n",
    "    fls = glob('*.jpg')\n",
    "    shuf = np.random.permutation(fls)\n",
    "    for i in range(len(fls)//4): os.rename(shuf[i], validation_path+fd+shuf[i])\n",
    "    %cd $train_path"
   ]
  },
  {
   "cell_type": "code",
   "execution_count": null,
   "metadata": {
    "ExecuteTime": {
     "end_time": "2018-03-20T17:42:27.273077Z",
     "start_time": "2018-03-20T17:42:27.265083Z"
    },
    "hidden": true
   },
   "outputs": [],
   "source": [
    "%cd $validation_path"
   ]
  },
  {
   "cell_type": "code",
   "execution_count": null,
   "metadata": {
    "ExecuteTime": {
     "end_time": "2018-03-20T17:43:29.860767Z",
     "start_time": "2018-03-20T17:43:29.856753Z"
    },
    "hidden": true
   },
   "outputs": [],
   "source": [
    "fls = glob('*.jpg')"
   ]
  },
  {
   "cell_type": "code",
   "execution_count": null,
   "metadata": {
    "ExecuteTime": {
     "end_time": "2018-03-20T17:56:41.771091Z",
     "start_time": "2018-03-20T17:56:02.673576Z"
    },
    "hidden": true
   },
   "outputs": [],
   "source": [
    "for fd in folders:\n",
    "    %mkdir $fd"
   ]
  },
  {
   "cell_type": "code",
   "execution_count": null,
   "metadata": {
    "ExecuteTime": {
     "end_time": "2018-03-20T17:56:48.713450Z",
     "start_time": "2018-03-20T17:56:48.609183Z"
    },
    "hidden": true
   },
   "outputs": [],
   "source": [
    "for f in fls:\n",
    "    os.rename(f, f[:9] + \"/\" + f[9:])"
   ]
  },
  {
   "cell_type": "code",
   "execution_count": null,
   "metadata": {
    "ExecuteTime": {
     "end_time": "2018-03-20T17:50:42.150507Z",
     "start_time": "2018-03-20T17:50:42.146497Z"
    },
    "hidden": true
   },
   "outputs": [],
   "source": [
    "%pwd"
   ]
  },
  {
   "cell_type": "code",
   "execution_count": null,
   "metadata": {
    "ExecuteTime": {
     "end_time": "2018-03-20T17:53:06.644939Z",
     "start_time": "2018-03-20T17:53:06.641931Z"
    },
    "hidden": true
   },
   "outputs": [],
   "source": [
    "os.rename('new_whale007c3603.jpg', '007c3603.jpg')"
   ]
  },
  {
   "cell_type": "markdown",
   "metadata": {
    "heading_collapsed": true
   },
   "source": [
    "# Base model"
   ]
  },
  {
   "cell_type": "code",
   "execution_count": null,
   "metadata": {
    "ExecuteTime": {
     "end_time": "2018-02-20T16:32:42.258777Z",
     "start_time": "2018-02-20T16:32:42.244739Z"
    },
    "hidden": true
   },
   "outputs": [],
   "source": [
    "labels['Id'].value_counts()[:5]"
   ]
  },
  {
   "cell_type": "code",
   "execution_count": null,
   "metadata": {
    "ExecuteTime": {
     "end_time": "2018-02-20T16:32:42.902915Z",
     "start_time": "2018-02-20T16:32:42.899907Z"
    },
    "hidden": true
   },
   "outputs": [],
   "source": [
    "commons = np.array(['new_whale', 'w_1287fbc', 'w_98baff9', 'w_7554f44', 'w_1eafe46']).reshape(1,-1)"
   ]
  },
  {
   "cell_type": "code",
   "execution_count": null,
   "metadata": {
    "ExecuteTime": {
     "end_time": "2018-02-20T16:34:00.119654Z",
     "start_time": "2018-02-20T16:34:00.116620Z"
    },
    "hidden": true
   },
   "outputs": [],
   "source": [
    "base_preds = np.repeat(commons, len(labels), axis=0)"
   ]
  },
  {
   "cell_type": "code",
   "execution_count": null,
   "metadata": {
    "ExecuteTime": {
     "end_time": "2018-02-13T17:34:54.371607Z",
     "start_time": "2018-02-13T17:34:54.367571Z"
    },
    "hidden": true
   },
   "outputs": [],
   "source": [
    "base_subm = np.concatenate([ids.reshape(-1,1), base_preds],axis=1)"
   ]
  },
  {
   "cell_type": "code",
   "execution_count": null,
   "metadata": {
    "ExecuteTime": {
     "end_time": "2018-02-13T17:35:40.081059Z",
     "start_time": "2018-02-13T17:35:39.999842Z"
    },
    "hidden": true
   },
   "outputs": [],
   "source": [
    "np.savetxt('base_submission.csv', base_subm, fmt = '%s, %s %s %s %s %s', header = 'Image,Id', comments = '')"
   ]
  },
  {
   "cell_type": "markdown",
   "metadata": {
    "hidden": true
   },
   "source": [
    "## Just new whale"
   ]
  },
  {
   "cell_type": "code",
   "execution_count": null,
   "metadata": {
    "ExecuteTime": {
     "end_time": "2018-03-14T22:03:21.825612Z",
     "start_time": "2018-03-14T22:03:21.822603Z"
    },
    "hidden": true
   },
   "outputs": [],
   "source": [
    "commons2 = np.array(['new_whale']).reshape(1,-1)"
   ]
  },
  {
   "cell_type": "code",
   "execution_count": null,
   "metadata": {
    "ExecuteTime": {
     "end_time": "2018-03-14T22:05:22.881010Z",
     "start_time": "2018-03-14T22:05:22.878000Z"
    },
    "hidden": true
   },
   "outputs": [],
   "source": [
    "base2_preds = np.repeat(commons2, len(ids), axis=0)"
   ]
  },
  {
   "cell_type": "code",
   "execution_count": null,
   "metadata": {
    "ExecuteTime": {
     "end_time": "2018-03-14T22:05:23.408819Z",
     "start_time": "2018-03-14T22:05:23.405810Z"
    },
    "hidden": true
   },
   "outputs": [],
   "source": [
    "base2_preds.shape"
   ]
  },
  {
   "cell_type": "code",
   "execution_count": null,
   "metadata": {
    "ExecuteTime": {
     "end_time": "2018-03-14T22:05:27.937256Z",
     "start_time": "2018-03-14T22:05:27.934220Z"
    },
    "hidden": true
   },
   "outputs": [],
   "source": [
    "ids.shape"
   ]
  },
  {
   "cell_type": "code",
   "execution_count": null,
   "metadata": {
    "ExecuteTime": {
     "end_time": "2018-03-14T22:05:29.201164Z",
     "start_time": "2018-03-14T22:05:29.198183Z"
    },
    "hidden": true
   },
   "outputs": [],
   "source": [
    "base2_subm = np.concatenate([ids.reshape(-1,1), base2_preds],axis=1)"
   ]
  },
  {
   "cell_type": "code",
   "execution_count": null,
   "metadata": {
    "ExecuteTime": {
     "end_time": "2018-03-14T22:06:06.536062Z",
     "start_time": "2018-03-14T22:06:06.478909Z"
    },
    "hidden": true
   },
   "outputs": [],
   "source": [
    "np.savetxt('base2_submission.csv', base2_subm, fmt = '%s, %s', header = 'Image,Id', comments = '')"
   ]
  },
  {
   "cell_type": "markdown",
   "metadata": {
    "heading_collapsed": true
   },
   "source": [
    "# Look at data"
   ]
  },
  {
   "cell_type": "code",
   "execution_count": null,
   "metadata": {
    "ExecuteTime": {
     "end_time": "2018-02-13T15:18:28.099182Z",
     "start_time": "2018-02-13T15:18:27.990158Z"
    },
    "hidden": true,
    "scrolled": true
   },
   "outputs": [],
   "source": [
    "labels['Id'].value_counts()[:4].plot(kind='bar')"
   ]
  },
  {
   "cell_type": "code",
   "execution_count": null,
   "metadata": {
    "ExecuteTime": {
     "end_time": "2018-02-13T15:18:28.652833Z",
     "start_time": "2018-02-13T15:18:28.644811Z"
    },
    "hidden": true
   },
   "outputs": [],
   "source": [
    "img=cv2.imread(train_path+labels['Image'][17], cv2.IMREAD_GRAYSCALE)"
   ]
  },
  {
   "cell_type": "code",
   "execution_count": null,
   "metadata": {
    "ExecuteTime": {
     "end_time": "2018-02-13T15:19:07.160598Z",
     "start_time": "2018-02-13T15:19:07.157566Z"
    },
    "hidden": true
   },
   "outputs": [],
   "source": [
    "train_path"
   ]
  },
  {
   "cell_type": "code",
   "execution_count": null,
   "metadata": {
    "ExecuteTime": {
     "end_time": "2018-02-13T15:18:29.372866Z",
     "start_time": "2018-02-13T15:18:29.141557Z"
    },
    "hidden": true
   },
   "outputs": [],
   "source": [
    "plt.imshow(img,cmap='gray')"
   ]
  },
  {
   "cell_type": "code",
   "execution_count": null,
   "metadata": {
    "ExecuteTime": {
     "end_time": "2018-02-08T22:54:18.588026Z",
     "start_time": "2018-02-08T22:54:18.581508Z"
    },
    "hidden": true
   },
   "outputs": [],
   "source": [
    "labels['Id'].value_counts()[0]/len(labels)"
   ]
  },
  {
   "cell_type": "markdown",
   "metadata": {
    "heading_collapsed": true
   },
   "source": [
    "# Augmented Data Generator"
   ]
  },
  {
   "cell_type": "code",
   "execution_count": null,
   "metadata": {
    "ExecuteTime": {
     "end_time": "2018-02-20T15:03:11.669315Z",
     "start_time": "2018-02-20T15:03:11.666305Z"
    },
    "hidden": true
   },
   "outputs": [],
   "source": [
    "batch_size = 10"
   ]
  },
  {
   "cell_type": "code",
   "execution_count": null,
   "metadata": {
    "ExecuteTime": {
     "end_time": "2018-02-20T15:03:12.453671Z",
     "start_time": "2018-02-20T15:03:12.450663Z"
    },
    "hidden": true
   },
   "outputs": [],
   "source": [
    "gen = image.ImageDataGenerator(rotation_range=10, width_shift_range=0.1, \n",
    "       height_shift_range=0.1, shear_range=0.15, zoom_range=0.1, horizontal_flip=True)"
   ]
  },
  {
   "cell_type": "code",
   "execution_count": null,
   "metadata": {
    "ExecuteTime": {
     "end_time": "2018-02-20T15:03:14.185708Z",
     "start_time": "2018-02-20T15:03:12.978733Z"
    },
    "hidden": true
   },
   "outputs": [],
   "source": [
    "aug_img_iter = gen.flow_from_directory(train_path, target_size = (128,128), batch_size = batch_size, color_mode = 'grayscale')"
   ]
  },
  {
   "cell_type": "markdown",
   "metadata": {
    "heading_collapsed": true
   },
   "source": [
    "# Create a simple CNN"
   ]
  },
  {
   "cell_type": "code",
   "execution_count": null,
   "metadata": {
    "ExecuteTime": {
     "end_time": "2018-03-08T15:47:16.821656Z",
     "start_time": "2018-03-08T15:47:16.818648Z"
    },
    "hidden": true
   },
   "outputs": [],
   "source": [
    "from keras.models import Sequential\n",
    "from keras.layers import Conv2D, MaxPooling2D, Dense, Dropout, Flatten, BatchNormalization\n",
    "from keras.optimizers import Adam"
   ]
  },
  {
   "cell_type": "markdown",
   "metadata": {
    "heading_collapsed": true,
    "hidden": true
   },
   "source": [
    "## Set up the architecture"
   ]
  },
  {
   "cell_type": "code",
   "execution_count": null,
   "metadata": {
    "ExecuteTime": {
     "end_time": "2018-02-20T15:03:17.689834Z",
     "start_time": "2018-02-20T15:03:17.682816Z"
    },
    "hidden": true
   },
   "outputs": [],
   "source": [
    "num_ids = len(labels['Id'].unique())"
   ]
  },
  {
   "cell_type": "code",
   "execution_count": null,
   "metadata": {
    "ExecuteTime": {
     "end_time": "2018-02-20T15:03:18.796260Z",
     "start_time": "2018-02-20T15:03:18.418750Z"
    },
    "hidden": true
   },
   "outputs": [],
   "source": [
    "model = Sequential()\n",
    "\n",
    "model.add(BatchNormalization(axis=1,input_shape = (128,128,1)))\n",
    "\n",
    "#L1\n",
    "model.add(Conv2D(64, kernel_size = (3,3), activation= 'relu',padding='same'))\n",
    "model.add(BatchNormalization(axis=1))\n",
    "model.add(MaxPooling2D())\n",
    "#model.add(Dropout(0.2))\n",
    "\n",
    "#L2\n",
    "model.add(Conv2D(128, kernel_size = (3,3), activation= 'relu',padding='same'))\n",
    "model.add(BatchNormalization())\n",
    "model.add(MaxPooling2D())\n",
    "#model.add(Dropout(0.2))\n",
    "\n",
    "#L3\n",
    "model.add(Conv2D(128, kernel_size = (3,3), activation= 'relu',padding='same'))\n",
    "model.add(BatchNormalization())\n",
    "model.add(MaxPooling2D())\n",
    "#model.add(Dropout(0.2))\n",
    "\n",
    "#L4\n",
    "model.add(Conv2D(64, kernel_size = (3,3), activation= 'relu',padding='same'))\n",
    "model.add(BatchNormalization())\n",
    "model.add(MaxPooling2D())\n",
    "#model.add(Dropout(0.2))\n",
    "\n",
    "model.add(Flatten())\n",
    "\n",
    "#L5\n",
    "model.add(Dense(128, activation = 'relu'))\n",
    "model.add(BatchNormalization())\n",
    "#model.add(Dropout(0.2))\n",
    "\n",
    "#L6\n",
    "model.add(Dense(num_ids, activation = 'softmax'))\n"
   ]
  },
  {
   "cell_type": "code",
   "execution_count": null,
   "metadata": {
    "ExecuteTime": {
     "end_time": "2018-02-20T15:03:19.209877Z",
     "start_time": "2018-02-20T15:03:19.170766Z"
    },
    "hidden": true
   },
   "outputs": [],
   "source": [
    "model.compile(loss='categorical_crossentropy',optimizer=Adam(),metrics=['accuracy'])"
   ]
  },
  {
   "cell_type": "code",
   "execution_count": null,
   "metadata": {
    "ExecuteTime": {
     "end_time": "2018-02-20T15:03:19.846778Z",
     "start_time": "2018-02-20T15:03:19.842790Z"
    },
    "hidden": true
   },
   "outputs": [],
   "source": [
    "model.summary()"
   ]
  },
  {
   "cell_type": "markdown",
   "metadata": {
    "heading_collapsed": true,
    "hidden": true
   },
   "source": [
    "## Fit model"
   ]
  },
  {
   "cell_type": "code",
   "execution_count": null,
   "metadata": {
    "ExecuteTime": {
     "end_time": "2018-02-20T15:12:30.309565Z",
     "start_time": "2018-02-20T15:12:30.307528Z"
    },
    "hidden": true
   },
   "outputs": [],
   "source": [
    "model.optimizer.lr = .01"
   ]
  },
  {
   "cell_type": "code",
   "execution_count": null,
   "metadata": {
    "ExecuteTime": {
     "end_time": "2018-02-20T15:14:25.884735Z",
     "start_time": "2018-02-20T15:12:31.218454Z"
    },
    "hidden": true
   },
   "outputs": [],
   "source": [
    "model.fit_generator(aug_img_iter, steps_per_epoch=aug_img_iter.n/batch_size, epochs=2)"
   ]
  },
  {
   "cell_type": "markdown",
   "metadata": {
    "heading_collapsed": true,
    "hidden": true
   },
   "source": [
    "## Add pseudo-labeling"
   ]
  },
  {
   "cell_type": "code",
   "execution_count": null,
   "metadata": {
    "ExecuteTime": {
     "end_time": "2018-03-12T19:05:13.449622Z",
     "start_time": "2018-03-12T19:05:13.433580Z"
    },
    "code_folding": [],
    "hidden": true
   },
   "outputs": [],
   "source": [
    "class MixIterator(object):\n",
    "    def __init__(self, iters):\n",
    "        self.iters = iters\n",
    "        self.multi = type(iters) is list\n",
    "        if self.multi:\n",
    "            self.n = sum([it.n for it in self.iters])\n",
    "        else:\n",
    "            self.n = it.n\n",
    "\n",
    "    def reset(self):\n",
    "        for it in self.iters: it.reset()\n",
    "    def __iter__(self):\n",
    "        return self\n",
    "    def __next__(self):\n",
    "        nexts = [next(it) for it in self.iters]\n",
    "        n0 = np.concatenate([n[0] for n in nexts])\n",
    "        n1 = np.concatenate([n[1] for n in nexts])\n",
    "        return (n0, n1)"
   ]
  },
  {
   "cell_type": "code",
   "execution_count": null,
   "metadata": {
    "ExecuteTime": {
     "end_time": "2018-03-12T19:04:54.467547Z",
     "start_time": "2018-03-12T19:04:54.457520Z"
    },
    "hidden": true
   },
   "outputs": [],
   "source": [
    "pl_gen = image.ImageDataGenerator()\n",
    "pl_iter = pl_gen.flow_from_directory(test_path, target_size = (128,128), batch_size = batch_size//3, color_mode = 'grayscale')"
   ]
  },
  {
   "cell_type": "code",
   "execution_count": null,
   "metadata": {
    "ExecuteTime": {
     "end_time": "2018-03-12T19:05:16.769203Z",
     "start_time": "2018-03-12T19:05:16.761183Z"
    },
    "hidden": true
   },
   "outputs": [],
   "source": [
    "combined_iter = MixIterator([aug_img_iter, pl_iter])"
   ]
  },
  {
   "cell_type": "code",
   "execution_count": null,
   "metadata": {
    "ExecuteTime": {
     "end_time": "2018-03-12T19:05:20.883019Z",
     "start_time": "2018-03-12T19:05:20.872994Z"
    },
    "hidden": true
   },
   "outputs": [],
   "source": [
    "model.fit_generator(combined_iter, steps_per_epoch=combined_iter.n/batch_size, epochs=2)"
   ]
  },
  {
   "cell_type": "markdown",
   "metadata": {},
   "source": [
    "# Train embedding as in \"Learning a Similarity Metric Discriminatively, with Application to Face Verification\""
   ]
  },
  {
   "cell_type": "markdown",
   "metadata": {},
   "source": [
    "## Make generator which gives pairs of images"
   ]
  },
  {
   "cell_type": "markdown",
   "metadata": {},
   "source": [
    "### Make dictionaries for (filename <-> idx file), (idx file -> whale id); known whales come after new ones "
   ]
  },
  {
   "cell_type": "code",
   "execution_count": 4,
   "metadata": {
    "ExecuteTime": {
     "end_time": "2018-04-17T20:08:36.890305Z",
     "start_time": "2018-04-17T20:08:36.778013Z"
    }
   },
   "outputs": [],
   "source": [
    "dirs = sorted(os.listdir(train_path))\n",
    "\n",
    "#First index of known whale\n",
    "first_kw_idx = len(os.listdir(train_path + dirs[0]))\n",
    "\n",
    "start_index = 0\n",
    "fn2ind = dict()\n",
    "ind2fn = dict()\n",
    "ind2dir = dict()\n",
    "\n",
    "for dr in dirs:\n",
    "    files = os.listdir(train_path + dr)\n",
    "    fn2ind.update(dict(zip(files, range(start_index, start_index + len(files)))))\n",
    "    ind2dir.update(dict(zip(range(start_index, start_index + len(files)), [dr]*len(files))))\n",
    "    start_index+=len(files)\n",
    "\n",
    "ind2fn = {b : a for a,b in fn2ind.items()}\n",
    "\n",
    "num_whales = len(ind2fn)"
   ]
  },
  {
   "cell_type": "markdown",
   "metadata": {},
   "source": [
    "### Make three sets of pairs of indices; one same-whale pairs, one different whale pairs, one new-whale/some-whale pair"
   ]
  },
  {
   "cell_type": "code",
   "execution_count": 5,
   "metadata": {
    "ExecuteTime": {
     "end_time": "2018-04-17T20:09:01.797375Z",
     "start_time": "2018-04-17T20:08:37.737585Z"
    }
   },
   "outputs": [],
   "source": [
    "nw_kw_pairs = itertools.product(range(first_kw_idx), range(first_kw_idx, num_whales))\n",
    "nw_kw_list = list(nw_kw_pairs)\n",
    "\n",
    "kw_kw_pairs = itertools.product(range(first_kw_idx, num_whales), range(first_kw_idx, num_whales))\n",
    "\n",
    "kw_kw_list = list(kw_kw_pairs)\n",
    "\n",
    "kw_kw_gen, kw_kw_imp = [], []\n",
    "for s in kw_kw_list:  \n",
    "    (kw_kw_gen if (ind2dir[s[0]] == ind2dir[s[1]]) else kw_kw_imp).append(s)"
   ]
  },
  {
   "cell_type": "markdown",
   "metadata": {},
   "source": [
    "### Do the above for validation"
   ]
  },
  {
   "cell_type": "code",
   "execution_count": 6,
   "metadata": {
    "ExecuteTime": {
     "end_time": "2018-04-17T20:09:01.962252Z",
     "start_time": "2018-04-17T20:09:01.798955Z"
    }
   },
   "outputs": [],
   "source": [
    "val_dirs = sorted(os.listdir(validation_path))\n",
    "val_first_kw_idx = len(os.listdir(validation_path + val_dirs[0]))\n",
    "val_start_index = 0\n",
    "val_fn2ind = dict()\n",
    "val_ind2fn = dict()\n",
    "val_ind2dir = dict()\n",
    "for dr in dirs:\n",
    "    files = os.listdir(validation_path + dr)\n",
    "    val_fn2ind.update(dict(zip(files, range(val_start_index, val_start_index + len(files)))))\n",
    "    val_ind2dir.update(dict(zip(range(val_start_index, val_start_index + len(files)), [dr]*len(files))))\n",
    "    val_start_index+=len(files)\n",
    "val_ind2fn = {b : a for a,b in val_fn2ind.items()}\n",
    "val_num_whales = len(val_ind2fn)"
   ]
  },
  {
   "cell_type": "code",
   "execution_count": 7,
   "metadata": {
    "ExecuteTime": {
     "end_time": "2018-04-17T20:09:03.323752Z",
     "start_time": "2018-04-17T20:09:01.963263Z"
    }
   },
   "outputs": [],
   "source": [
    "val_nw_kw_pairs = itertools.product(range(val_first_kw_idx), range(val_first_kw_idx, val_num_whales))\n",
    "val_nw_kw_list = list(val_nw_kw_pairs)\n",
    "val_kw_kw_pairs = itertools.product(range(val_first_kw_idx, val_num_whales), range(val_first_kw_idx, val_num_whales))\n",
    "val_kw_kw_list = list(val_kw_kw_pairs)\n",
    "val_kw_kw_gen, val_kw_kw_imp = [], []\n",
    "for s in val_kw_kw_list:  \n",
    "    (val_kw_kw_gen if (val_ind2dir[s[0]] == val_ind2dir[s[1]]) else val_kw_kw_imp).append(s)"
   ]
  },
  {
   "cell_type": "markdown",
   "metadata": {},
   "source": [
    "### Make a generator which takes a filename array and list of index pairs and produces batches"
   ]
  },
  {
   "cell_type": "code",
   "execution_count": 8,
   "metadata": {
    "ExecuteTime": {
     "end_time": "2018-04-17T20:09:03.339764Z",
     "start_time": "2018-04-17T20:09:03.324716Z"
    },
    "code_folding": [
     2
    ]
   },
   "outputs": [],
   "source": [
    "from tensorflow.python.keras._impl.keras.utils.data_utils import Sequence\n",
    "from tensorflow.python.keras._impl.keras.preprocessing.image import *\n",
    "class PairsIterator(Iterator):\n",
    "    def __init__(self, \n",
    "                 image_data_generator, # data augmentation\n",
    "                 pairs, #Set of pairs of indices\n",
    "                 path, # Path to where class folders are located\n",
    "                 ind2dir, # dictionary of directories corresponding to indices \n",
    "                 ind2fn, # dictionary of filenames corresponding to indices\n",
    "                 label, # Label to attach: 0 for same entity, 1 for different entities \n",
    "                 batch_size = 16,\n",
    "                 target_size=(256, 256),\n",
    "                 shuffle = True,\n",
    "                 seed=None,\n",
    "                 data_format=None,\n",
    "                 color_mode='grayscale',\n",
    "                 interpolation='nearest',\n",
    "                 images=None):\n",
    "        self.image_data_generator = image_data_generator\n",
    "        self.target_size = tuple(target_size)\n",
    "        self.pairs=pairs\n",
    "        self.path=path\n",
    "        self.ind2dir = ind2dir\n",
    "        self.ind2fn = ind2fn\n",
    "        self.label = label\n",
    "        self.interpolation = interpolation\n",
    "        if data_format is None:\n",
    "            data_format = K.image_data_format()\n",
    "        self.data_format = data_format\n",
    "        if self.data_format == 'channels_last':\n",
    "            if(color_mode=='grayscale'):\n",
    "                self.image_shape = self.target_size + (1,)\n",
    "            else:\n",
    "                self.image_shape = self.target_size + (3,)\n",
    "        else:\n",
    "            if(color_mode=='grayscale'):\n",
    "                self.image_shape = (1,) + self.target_size\n",
    "            else:\n",
    "                self.image_shape = (3,) + self.target_size\n",
    "        if(images is None):\n",
    "            self.images = np.zeros( (len(self.ind2dir),) + self.image_shape)\n",
    "            for ind in list(ind2dir.keys()):\n",
    "                img = load_img(os.path.join(self.path, self.ind2dir[ind], self.ind2fn[ind]),\n",
    "                             grayscale=False,\n",
    "                             target_size=self.target_size)\n",
    "                x = img_to_array(img, data_format=self.data_format)\n",
    "                self.images[ind,:,:,:] = x\n",
    "        else:\n",
    "            self.images = images\n",
    "        super(PairsIterator, self).__init__(len(self.pairs), batch_size, shuffle,seed)\n",
    "    def reset(self):\n",
    "        self.current_index = 0\n",
    "    def __iter__(self):\n",
    "        return self\n",
    "    def _get_batches_of_transformed_samples(self, index_array):\n",
    "        batch_x0 = np.zeros((len(index_array[0]),) + self.image_shape, dtype=K.floatx())\n",
    "        batch_x1 = np.zeros((len(index_array[0]),) + self.image_shape, dtype=K.floatx())\n",
    "        # build batch of image data\n",
    "        for i, j in enumerate(index_array[0]):\n",
    "            ind0, ind1 = self.pairs[j]           \n",
    "            batch_x0[i] = self.image_data_generator.standardize(self.image_data_generator.random_transform(self.images[ind0,:,:,:]))\n",
    "            batch_x1[i] = self.image_data_generator.standardize(self.image_data_generator.random_transform(self.images[ind1,:,:,:]))\n",
    "        #if len(batch_x1) != self.batch_size:\n",
    "        #    pdb.set_trace()\n",
    "        # build batch of labels\n",
    "        batch_y = np.repeat(self.label, len(batch_x1), axis=0)\n",
    "        return [batch_x0, batch_x1], batch_y\n",
    "\n",
    "    def __next__(self):\n",
    "        with self.lock:\n",
    "            index_array = next(self.index_generator)\n",
    "        # The transformation of images is not under thread lock\n",
    "        # so it can be done in parallel\n",
    "        return self._get_batches_of_transformed_samples(index_array)"
   ]
  },
  {
   "cell_type": "code",
   "execution_count": 9,
   "metadata": {
    "ExecuteTime": {
     "end_time": "2018-04-17T20:09:03.353825Z",
     "start_time": "2018-04-17T20:09:03.340760Z"
    },
    "code_folding": [
     2
    ]
   },
   "outputs": [],
   "source": [
    "from tensorflow.python.keras._impl.keras.utils.data_utils import Sequence\n",
    "from tensorflow.python.keras._impl.keras.preprocessing.image import *\n",
    "class PairsIteratorFromArray(Iterator):\n",
    "    def __init__(self, \n",
    "                 pairs, #Set of pairs of indices\n",
    "                 arr, # Path to where class folders are located\n",
    "                 label, # Label to attach: 0 for same entity, 1 for different entities \n",
    "                 batch_size = 16,\n",
    "                 shuffle = True,\n",
    "                 seed=None,\n",
    "                 interpolation='nearest'\n",
    "                ):\n",
    "        self.pairs=pairs\n",
    "        self.arr=arr\n",
    "        self.label = label\n",
    "        self.interpolation = interpolation\n",
    "        super(PairsIteratorFromArray, self).__init__(len(self.pairs), batch_size, shuffle,seed)\n",
    "    def reset(self):\n",
    "        self.current_index = 0\n",
    "    def __iter__(self):\n",
    "        return self\n",
    "    def _get_batches_of_transformed_samples(self, index_array):\n",
    "        batch_x0 = np.zeros((len(index_array[0]),) + self.arr.shape[1:])\n",
    "        batch_x1 = np.zeros((len(index_array[0]),) + self.arr.shape[1:])\n",
    "        # build batch of data\n",
    "        for i, j in enumerate(index_array[0]):\n",
    "            ind0, ind1 = self.pairs[j]           \n",
    "            batch_x0[i] = self.arr[ind0]\n",
    "            batch_x1[i] = self.arr[ind1]\n",
    "        # build batch of labels\n",
    "        batch_y = np.repeat(self.label, len(batch_x1), axis=0)\n",
    "        return [batch_x0, batch_x1], batch_y\n",
    "\n",
    "    def __next__(self):\n",
    "        with self.lock:\n",
    "            index_array = next(self.index_generator)\n",
    "        # The transformation of images is not under thread lock\n",
    "        # so it can be done in parallel\n",
    "        return self._get_batches_of_transformed_samples(index_array)"
   ]
  },
  {
   "cell_type": "code",
   "execution_count": 10,
   "metadata": {
    "ExecuteTime": {
     "end_time": "2018-04-17T20:09:03.361815Z",
     "start_time": "2018-04-17T20:09:03.354798Z"
    },
    "code_folding": [
     0
    ]
   },
   "outputs": [],
   "source": [
    "class MixIterator(object):\n",
    "    def __init__(self, iters):\n",
    "        self.iters = iters\n",
    "        self.multi = type(iters) is list\n",
    "        if self.multi:\n",
    "            self.n = sum([it.n for it in self.iters])\n",
    "        else:\n",
    "            self.n = it.n\n",
    "\n",
    "    def reset(self):\n",
    "        for it in self.iters: it.reset()\n",
    "    def __iter__(self):\n",
    "        return self\n",
    "    def __next__(self):\n",
    "        nexts = [next(it) for it in self.iters]\n",
    "        n0 = [np.concatenate([n[0][0] for n in nexts]), np.concatenate([n[0][1] for n in nexts])]\n",
    "        n1 = np.concatenate([n[1] for n in nexts])\n",
    "        return n0, n1"
   ]
  },
  {
   "cell_type": "markdown",
   "metadata": {},
   "source": [
    "## Make model"
   ]
  },
  {
   "cell_type": "markdown",
   "metadata": {},
   "source": [
    "### Mix the final generator in appropriate proportions"
   ]
  },
  {
   "cell_type": "code",
   "execution_count": 11,
   "metadata": {
    "ExecuteTime": {
     "end_time": "2018-04-17T20:09:03.369836Z",
     "start_time": "2018-04-17T20:09:03.363819Z"
    }
   },
   "outputs": [],
   "source": [
    "target_size = (128,128)\n",
    "batch_size = 1\n",
    "data_format=\"channels_last\"\n",
    "embedding_size=128"
   ]
  },
  {
   "cell_type": "code",
   "execution_count": 12,
   "metadata": {
    "ExecuteTime": {
     "end_time": "2018-04-17T20:09:41.305002Z",
     "start_time": "2018-04-17T20:09:03.371841Z"
    },
    "code_folding": []
   },
   "outputs": [],
   "source": [
    "#Make a numpy array with all the training images\n",
    "\n",
    "if(data_format == \"channels_first\"):\n",
    "    images = np.zeros( (len(ind2dir),) + (3,) + target_size)\n",
    "else:\n",
    "    images = np.zeros( (len(ind2dir),) + target_size + (3,))\n",
    "for ind in ind2dir.keys():\n",
    "    img = load_img(os.path.join(train_path, ind2dir[ind], ind2fn[ind]),\n",
    "                 grayscale=False,\n",
    "                 target_size=target_size)\n",
    "    x = img_to_array(img, data_format=data_format)\n",
    "    images[ind,:,:,:] = x"
   ]
  },
  {
   "cell_type": "code",
   "execution_count": 13,
   "metadata": {
    "ExecuteTime": {
     "end_time": "2018-04-17T20:09:41.310044Z",
     "start_time": "2018-04-17T20:09:41.306005Z"
    },
    "code_folding": []
   },
   "outputs": [],
   "source": [
    "gen2 = ImageDataGenerator()\n",
    "genuine_pairs_iterator = PairsIterator(gen2, kw_kw_gen, train_path, ind2dir, ind2fn, 0,target_size=target_size, batch_size = batch_size//2, color_mode=\"rgb\", data_format=data_format, images=images)\n",
    "k_impostor_pairs_iterator = PairsIterator(gen2, kw_kw_imp, train_path, ind2dir, ind2fn, 1,target_size=target_size, batch_size = batch_size//4, color_mode=\"rgb\", data_format=data_format, images=images)\n",
    "n_impostor_pairs_iterator = PairsIterator(gen2, nw_kw_list, train_path, ind2dir, ind2fn, 1,target_size=target_size, batch_size = batch_size//4, color_mode=\"rgb\", data_format=data_format, images=images)"
   ]
  },
  {
   "cell_type": "code",
   "execution_count": 14,
   "metadata": {
    "ExecuteTime": {
     "end_time": "2018-04-17T20:09:41.322048Z",
     "start_time": "2018-04-17T20:09:41.311019Z"
    }
   },
   "outputs": [],
   "source": [
    "combined_iter = MixIterator([genuine_pairs_iterator, k_impostor_pairs_iterator, n_impostor_pairs_iterator])"
   ]
  },
  {
   "cell_type": "markdown",
   "metadata": {},
   "source": [
    "#### Validation"
   ]
  },
  {
   "cell_type": "code",
   "execution_count": 15,
   "metadata": {
    "ExecuteTime": {
     "end_time": "2018-04-17T20:09:45.299778Z",
     "start_time": "2018-04-17T20:09:41.323050Z"
    }
   },
   "outputs": [],
   "source": [
    "#Make a numpy array with all the validation images\n",
    "\n",
    "if(data_format == \"channels_first\"):\n",
    "    val_images = np.zeros( (len(val_ind2dir),) + (3,) + target_size)\n",
    "else:\n",
    "    val_images = np.zeros( (len(val_ind2dir),) + target_size + (3,))\n",
    "for ind in val_ind2dir.keys():\n",
    "    img = load_img(os.path.join(validation_path, val_ind2dir[ind], val_ind2fn[ind]),\n",
    "                 grayscale=False,\n",
    "                 target_size=target_size)\n",
    "    x = img_to_array(img, data_format=data_format)\n",
    "    val_images[ind,:,:,:] = x"
   ]
  },
  {
   "cell_type": "code",
   "execution_count": 16,
   "metadata": {
    "ExecuteTime": {
     "end_time": "2018-04-17T20:09:45.304821Z",
     "start_time": "2018-04-17T20:09:45.300787Z"
    }
   },
   "outputs": [],
   "source": [
    "val_gen2 = ImageDataGenerator()\n",
    "\n",
    "val_genuine_pairs_iterator = PairsIterator(val_gen2, val_kw_kw_gen, validation_path, val_ind2dir, val_ind2fn, 0,target_size=target_size, batch_size = batch_size//2, color_mode=\"rgb\", data_format=data_format, images=val_images)\n",
    "val_k_impostor_pairs_iterator = PairsIterator(val_gen2, val_kw_kw_imp, validation_path, val_ind2dir, val_ind2fn, 1,target_size=target_size, batch_size = batch_size//4, color_mode=\"rgb\", data_format=data_format, images=val_images)\n",
    "val_n_impostor_pairs_iterator = PairsIterator(val_gen2, val_nw_kw_list, validation_path, val_ind2dir, val_ind2fn, 1,target_size=target_size, batch_size = batch_size//4, color_mode=\"rgb\", data_format=data_format, images=val_images)"
   ]
  },
  {
   "cell_type": "code",
   "execution_count": 17,
   "metadata": {
    "ExecuteTime": {
     "end_time": "2018-04-17T20:09:45.316843Z",
     "start_time": "2018-04-17T20:09:45.305798Z"
    }
   },
   "outputs": [],
   "source": [
    "val_combined_iter = MixIterator([val_genuine_pairs_iterator, val_k_impostor_pairs_iterator, val_n_impostor_pairs_iterator])"
   ]
  },
  {
   "cell_type": "markdown",
   "metadata": {},
   "source": [
    "### Make the Embedding model"
   ]
  },
  {
   "cell_type": "markdown",
   "metadata": {
    "heading_collapsed": true
   },
   "source": [
    "#### Basic"
   ]
  },
  {
   "cell_type": "code",
   "execution_count": 18,
   "metadata": {
    "ExecuteTime": {
     "end_time": "2018-04-17T20:09:45.325849Z",
     "start_time": "2018-04-17T20:09:45.317827Z"
    },
    "code_folding": [
     0
    ],
    "hidden": true
   },
   "outputs": [],
   "source": [
    "def get_emedding_model(input_shape = (128,128,1), embedding_size = 128):\n",
    "    model = Sequential()\n",
    "    \n",
    "    model.add(BatchNormalization(axis=1,input_shape = input_shape))\n",
    "\n",
    "    #L1\n",
    "    model.add(Conv2D(64, kernel_size = (3,3), activation= 'relu',padding='same'))\n",
    "    model.add(BatchNormalization(axis=1))\n",
    "    model.add(MaxPooling2D())\n",
    "    #model.add(Dropout(0.2))\n",
    "\n",
    "    #L2\n",
    "    model.add(Conv2D(128, kernel_size = (3,3), activation= 'relu',padding='same'))\n",
    "    model.add(BatchNormalization())\n",
    "    model.add(MaxPooling2D())\n",
    "    #model.add(Dropout(0.2))\n",
    "\n",
    "    #L3\n",
    "    model.add(Conv2D(128, kernel_size = (3,3), activation= 'relu',padding='same'))\n",
    "    model.add(BatchNormalization())\n",
    "    model.add(MaxPooling2D())\n",
    "    #model.add(Dropout(0.2))\n",
    "\n",
    "    #L4\n",
    "    model.add(Conv2D(64, kernel_size = (3,3), activation= 'relu',padding='same'))\n",
    "    model.add(BatchNormalization())\n",
    "    model.add(MaxPooling2D())\n",
    "    #model.add(Dropout(0.2))\n",
    "\n",
    "    model.add(Flatten())\n",
    "\n",
    "    #L5\n",
    "    model.add(Dense(128, activation = 'relu'))\n",
    "    model.add(BatchNormalization())\n",
    "    #model.add(Dropout(0.2))\n",
    "\n",
    "    #L6\n",
    "    model.add(Dense(embedding_size, activation = 'relu'))\n",
    "    \n",
    "    return(model)"
   ]
  },
  {
   "cell_type": "code",
   "execution_count": null,
   "metadata": {
    "ExecuteTime": {
     "end_time": "2018-03-15T01:06:23.440290Z",
     "start_time": "2018-03-15T01:06:21.539479Z"
    },
    "hidden": true
   },
   "outputs": [],
   "source": [
    "model = get_emedding_model(input_shape = target_size+(1,))"
   ]
  },
  {
   "cell_type": "markdown",
   "metadata": {
    "heading_collapsed": true
   },
   "source": [
    "#### VGG16-based"
   ]
  },
  {
   "cell_type": "code",
   "execution_count": null,
   "metadata": {
    "ExecuteTime": {
     "end_time": "2018-04-17T16:06:16.493055Z",
     "start_time": "2018-04-17T16:06:16.485035Z"
    },
    "hidden": true
   },
   "outputs": [],
   "source": [
    "import importlib\n",
    "import vgg16bn; importlib.reload(vgg16bn)\n",
    "from vgg16bn import Vgg16BN"
   ]
  },
  {
   "cell_type": "code",
   "execution_count": null,
   "metadata": {
    "ExecuteTime": {
     "end_time": "2018-04-17T16:06:16.501105Z",
     "start_time": "2018-04-17T16:06:16.495061Z"
    },
    "hidden": true
   },
   "outputs": [],
   "source": [
    "def get_vgg_emedding_model(input_shape = (128,128), embedding_size = embedding_size):\n",
    "    model = Vgg16BN(input_shape).model\n",
    "    for layer in model.layers: layer.trainable=False\n",
    "    model.add(Flatten())\n",
    "    model.add(Dense(1024, activation='relu'))\n",
    "    model.add(BatchNormalization())\n",
    "    model.add(Dropout(0.7))\n",
    "    model.add(Dense(1024, activation='relu'))\n",
    "    model.add(BatchNormalization())\n",
    "    model.add(Dropout(0.7))\n",
    "    model.add(Dense(embedding_size, activation='relu'))\n",
    "    return(model)"
   ]
  },
  {
   "cell_type": "code",
   "execution_count": null,
   "metadata": {
    "ExecuteTime": {
     "end_time": "2018-04-17T16:06:19.237048Z",
     "start_time": "2018-04-17T16:06:16.502080Z"
    },
    "hidden": true
   },
   "outputs": [],
   "source": [
    "model = get_vgg_emedding_model(input_shape = target_size)"
   ]
  },
  {
   "cell_type": "markdown",
   "metadata": {},
   "source": [
    "#### Resnet50 based"
   ]
  },
  {
   "cell_type": "code",
   "execution_count": 19,
   "metadata": {
    "ExecuteTime": {
     "end_time": "2018-04-17T20:09:58.014029Z",
     "start_time": "2018-04-17T20:09:58.011049Z"
    }
   },
   "outputs": [],
   "source": [
    "def get_resnet50_emedding_model(input_shape = (128,128), embedding_size = embedding_size):\n",
    "    model = ResNet50(include_top=False)\n",
    "    for layer in model.layers:\n",
    "         layer.trainable = False\n",
    "    x = model.output\n",
    "    x = GlobalMaxPooling2D()(x)\n",
    "    x = Dropout(0.5)(x)\n",
    "    x = Dense(embedding_size)(x)\n",
    "    model = Model(model.input, x)\n",
    "    return(model)"
   ]
  },
  {
   "cell_type": "code",
   "execution_count": 20,
   "metadata": {
    "ExecuteTime": {
     "end_time": "2018-04-17T20:10:16.733567Z",
     "start_time": "2018-04-17T20:09:58.810337Z"
    }
   },
   "outputs": [],
   "source": [
    "model_resnet = get_resnet50_emedding_model(input_shape=target_size)"
   ]
  },
  {
   "cell_type": "markdown",
   "metadata": {
    "heading_collapsed": true
   },
   "source": [
    "#### Split VGG16 model after convolution"
   ]
  },
  {
   "cell_type": "code",
   "execution_count": null,
   "metadata": {
    "ExecuteTime": {
     "end_time": "2018-04-10T19:35:11.715728Z",
     "start_time": "2018-04-10T19:35:11.712720Z"
    },
    "hidden": true
   },
   "outputs": [],
   "source": [
    "layers = model.layers\n",
    "last_conv_idx = [index for index,layer in enumerate(layers) \n",
    "                     if type(layer) is Conv2D][-1]"
   ]
  },
  {
   "cell_type": "code",
   "execution_count": null,
   "metadata": {
    "ExecuteTime": {
     "end_time": "2018-04-10T19:35:23.065942Z",
     "start_time": "2018-04-10T19:35:22.959659Z"
    },
    "hidden": true
   },
   "outputs": [],
   "source": [
    "conv_layers = layers[:last_conv_idx+1]\n",
    "conv_model = Sequential(conv_layers)\n",
    "# Dense layers - also known as fully connected or 'FC' layers\n",
    "fc_layers = layers[last_conv_idx+1:]"
   ]
  },
  {
   "cell_type": "code",
   "execution_count": null,
   "metadata": {
    "ExecuteTime": {
     "end_time": "2018-04-10T19:38:15.411434Z",
     "start_time": "2018-04-10T19:35:50.161573Z"
    },
    "hidden": true
   },
   "outputs": [],
   "source": [
    "trn_gen = image.ImageDataGenerator(data_format=\"channels_first\")\n",
    "trn_iter = trn_gen.flow_from_directory(train_path, target_size = target_size, batch_size = batch_size, color_mode=\"rgb\")\n",
    "conv_features = conv_model.predict_generator(trn_iter)\n",
    "\n",
    "c = bcolz.carray(conv_features, rootdir=path+\"train_conv_layer_features.bc\", mode='w')\n",
    "c.flush()"
   ]
  },
  {
   "cell_type": "code",
   "execution_count": null,
   "metadata": {
    "ExecuteTime": {
     "end_time": "2018-04-10T19:39:26.173762Z",
     "start_time": "2018-04-10T19:39:18.881666Z"
    },
    "hidden": true
   },
   "outputs": [],
   "source": [
    "val_gen = image.ImageDataGenerator(data_format=\"channels_first\")\n",
    "val_iter = val_gen.flow_from_directory(validation_path, target_size = target_size, batch_size = batch_size, color_mode=\"rgb\")\n",
    "conv_features_val = conv_model.predict_generator(val_iter)\n",
    "c = bcolz.carray(conv_features_val, rootdir=path+\"val_conv_layer_features.bc\", mode='w')\n",
    "c.flush()"
   ]
  },
  {
   "cell_type": "code",
   "execution_count": null,
   "metadata": {
    "ExecuteTime": {
     "end_time": "2018-04-10T19:39:26.181783Z",
     "start_time": "2018-04-10T19:39:26.174765Z"
    },
    "code_folding": [],
    "hidden": true
   },
   "outputs": [],
   "source": [
    "def get_fc_model():\n",
    "    model2 = Sequential([\n",
    "        MaxPooling2D(input_shape=conv_layers[-1].output_shape[1:]),\n",
    "        Flatten(),\n",
    "        Dense(1024, activation='relu'),\n",
    "        BatchNormalization(),\n",
    "        Dropout(0.8),\n",
    "        Dense(1024, activation='relu'),\n",
    "        BatchNormalization(),\n",
    "        Dropout(0.8),\n",
    "        Dense(embedding_size, activation='relu')\n",
    "        ])\n",
    "    \n",
    "    for l1,l2 in zip(model2.layers, fc_layers): l1.set_weights(l2.get_weights())\n",
    "    return model2"
   ]
  },
  {
   "cell_type": "code",
   "execution_count": null,
   "metadata": {
    "ExecuteTime": {
     "end_time": "2018-04-10T19:39:32.256527Z",
     "start_time": "2018-04-10T19:39:30.417610Z"
    },
    "hidden": true
   },
   "outputs": [],
   "source": [
    "fc_model = get_fc_model()"
   ]
  },
  {
   "cell_type": "markdown",
   "metadata": {
    "heading_collapsed": true
   },
   "source": [
    "#### Mix new generators"
   ]
  },
  {
   "cell_type": "code",
   "execution_count": null,
   "metadata": {
    "ExecuteTime": {
     "end_time": "2018-04-10T21:08:09.654608Z",
     "start_time": "2018-04-10T21:08:09.522232Z"
    },
    "hidden": true
   },
   "outputs": [],
   "source": [
    "genuine_pairs_iterator_pcc = PairsIteratorFromArray(kw_kw_gen, conv_features, 0, batch_size = batch_size//2)\n",
    "k_impostor_pairs_iterator_pcc = PairsIteratorFromArray(kw_kw_imp, conv_features, 1, batch_size = batch_size//4)\n",
    "n_impostor_pairs_iterator_pcc = PairsIteratorFromArray(nw_kw_list, conv_features, 1, batch_size = batch_size//4)\n",
    "\n",
    "combined_iter_pcc = MixIterator([genuine_pairs_iterator_pcc, k_impostor_pairs_iterator_pcc, n_impostor_pairs_iterator_pcc])"
   ]
  },
  {
   "cell_type": "code",
   "execution_count": null,
   "metadata": {
    "ExecuteTime": {
     "end_time": "2018-04-10T21:08:09.654608Z",
     "start_time": "2018-04-10T21:07:45.228Z"
    },
    "hidden": true
   },
   "outputs": [],
   "source": [
    "val_genuine_pairs_iterator_pcc = PairsIteratorFromArray(val_kw_kw_gen, conv_features_val, 0, batch_size = batch_size//2)\n",
    "val_k_impostor_pairs_iterator_pcc = PairsIteratorFromArray(val_kw_kw_imp, conv_features_val, 1, batch_size = batch_size//4)\n",
    "val_n_impostor_pairs_iterator_pcc = PairsIteratorFromArray(val_nw_kw_list, conv_features_val, 1, batch_size = batch_size//4)\n",
    "\n",
    "val_combined_iter_pcc = MixIterator([val_genuine_pairs_iterator_pcc, val_k_impostor_pairs_iterator_pcc, val_n_impostor_pairs_iterator_pcc])"
   ]
  },
  {
   "cell_type": "markdown",
   "metadata": {},
   "source": [
    "### Make the Siamese model which outputs energy"
   ]
  },
  {
   "cell_type": "code",
   "execution_count": 21,
   "metadata": {
    "ExecuteTime": {
     "end_time": "2018-04-17T20:10:16.738450Z",
     "start_time": "2018-04-17T20:10:16.734439Z"
    },
    "code_folding": []
   },
   "outputs": [],
   "source": [
    "def make_siamese_model(embedding_model):\n",
    "    input1 = Input(shape=embedding_model.layers[0].input_shape[1:])\n",
    "    input2 = Input(shape=embedding_model.layers[0].input_shape[1:])\n",
    "    g1 = embedding_model(input1)\n",
    "    g2 = embedding_model(input2)\n",
    "    subtr = Subtract()([g1,g2])\n",
    "    E = Lambda(lambda x: K.sum(K.abs(x), axis=1, keepdims=True))(subtr)\n",
    "    #merge two encoded inputs with the l1 distance between them\n",
    "    #L1_distance = lambda x: K.abs(x[0]-x[1])\n",
    "    #E = Merge([g1,g2], mode = L1_distance, output_shape=lambda x: x[0])\n",
    "    siamese_model = Model(inputs = [input1, input2], outputs=E)\n",
    "    return(siamese_model)"
   ]
  },
  {
   "cell_type": "code",
   "execution_count": 22,
   "metadata": {
    "ExecuteTime": {
     "end_time": "2018-04-17T20:10:16.750482Z",
     "start_time": "2018-04-17T20:10:16.740455Z"
    }
   },
   "outputs": [],
   "source": [
    "#s_model = make_siamese_model(model)"
   ]
  },
  {
   "cell_type": "code",
   "execution_count": 23,
   "metadata": {
    "ExecuteTime": {
     "end_time": "2018-04-17T20:10:28.277159Z",
     "start_time": "2018-04-17T20:10:16.752491Z"
    }
   },
   "outputs": [],
   "source": [
    "s_model_rn = make_siamese_model(model_resnet)"
   ]
  },
  {
   "cell_type": "code",
   "execution_count": null,
   "metadata": {
    "ExecuteTime": {
     "end_time": "2018-04-17T20:07:09.389222Z",
     "start_time": "2018-04-17T20:07:09.387216Z"
    }
   },
   "outputs": [],
   "source": [
    "#s_model_pcc = make_siamese_model(fc_model)"
   ]
  },
  {
   "cell_type": "markdown",
   "metadata": {},
   "source": [
    "### Define loss function for Siamese model & compile"
   ]
  },
  {
   "cell_type": "code",
   "execution_count": 24,
   "metadata": {
    "ExecuteTime": {
     "end_time": "2018-04-17T20:10:28.281132Z",
     "start_time": "2018-04-17T20:10:28.278123Z"
    },
    "code_folding": []
   },
   "outputs": [],
   "source": [
    "Q = 10 # I don't really understand what Q is...\n",
    "def chopra_loss(y_true, y_pred):\n",
    "    lss = K.mean((1.0-y_true)*2/Q*K.square(y_pred) + y_true*2*Q*K.exp(-2.77/Q*y_pred) )\n",
    "    #lss.set_shape((1,))\n",
    "    return(lss)\n",
    "\n",
    "#Copied this out of an example to play with it.\n",
    "def contrastive_loss(y, d):\n",
    "    \"\"\" Contrastive loss from Hadsell-et-al.'06\n",
    "        http://yann.lecun.com/exdb/publis/pdf/hadsell-chopra-lecun-06.pdf\n",
    "    \"\"\"\n",
    "    margin = 10\n",
    "    return K.mean(y * K.square(d) + (1 - y) * K.square(K.maximum(margin - d, 0)))"
   ]
  },
  {
   "cell_type": "code",
   "execution_count": 25,
   "metadata": {
    "ExecuteTime": {
     "end_time": "2018-04-17T20:10:28.292161Z",
     "start_time": "2018-04-17T20:10:28.283137Z"
    }
   },
   "outputs": [],
   "source": [
    "#s_model.compile(optimizer = 'Adam', loss = chopra_loss)"
   ]
  },
  {
   "cell_type": "code",
   "execution_count": 26,
   "metadata": {
    "ExecuteTime": {
     "end_time": "2018-04-17T20:10:28.336310Z",
     "start_time": "2018-04-17T20:10:28.293164Z"
    }
   },
   "outputs": [],
   "source": [
    "s_model_rn.compile(optimizer = 'Adam', loss = chopra_loss)"
   ]
  },
  {
   "cell_type": "code",
   "execution_count": null,
   "metadata": {
    "ExecuteTime": {
     "end_time": "2018-04-17T20:07:09.454395Z",
     "start_time": "2018-04-17T20:07:09.452400Z"
    }
   },
   "outputs": [],
   "source": [
    "#s_model_pcc.compile(optimizer = 'Adam', loss = chopra_loss)"
   ]
  },
  {
   "cell_type": "markdown",
   "metadata": {},
   "source": [
    "### Train Siamese model"
   ]
  },
  {
   "cell_type": "code",
   "execution_count": null,
   "metadata": {
    "ExecuteTime": {
     "end_time": "2018-04-17T16:06:21.009632Z",
     "start_time": "2018-04-17T16:06:21.004620Z"
    }
   },
   "outputs": [],
   "source": [
    "from keras.callbacks import Callback\n",
    "from lr_utils.keras_lr_finder import LRFinder\n",
    "from lr_utils.keras_SGDR import SGDRScheduler\n",
    "from lr_utils.keras_CLR import CyclicLR"
   ]
  },
  {
   "cell_type": "code",
   "execution_count": null,
   "metadata": {
    "ExecuteTime": {
     "end_time": "2018-04-17T16:06:21.015648Z",
     "start_time": "2018-04-17T16:06:21.010637Z"
    }
   },
   "outputs": [],
   "source": [
    "lr_finder = LRFinder(min_lr=1e-3, max_lr=3e-1, steps_per_epoch=np.ceil(2*genuine_pairs_iterator.n//batch_size), epochs=1)"
   ]
  },
  {
   "cell_type": "markdown",
   "metadata": {
    "heading_collapsed": true
   },
   "source": [
    "#### Full Model"
   ]
  },
  {
   "cell_type": "code",
   "execution_count": null,
   "metadata": {
    "ExecuteTime": {
     "end_time": "2018-04-12T23:27:12.265049Z",
     "start_time": "2018-04-12T23:27:10.546325Z"
    },
    "hidden": true
   },
   "outputs": [],
   "source": [
    "# K.set_value(s_model.optimizer.lr,0.001)"
   ]
  },
  {
   "cell_type": "code",
   "execution_count": null,
   "metadata": {
    "ExecuteTime": {
     "end_time": "2018-04-13T03:37:07.298749Z",
     "start_time": "2018-04-13T03:37:07.292743Z"
    },
    "hidden": true
   },
   "outputs": [],
   "source": [
    "#s_model.optimizer.lr=K.variable(1e-1)"
   ]
  },
  {
   "cell_type": "code",
   "execution_count": null,
   "metadata": {
    "ExecuteTime": {
     "end_time": "2018-04-17T16:12:53.602534Z",
     "start_time": "2018-04-17T16:06:25.786960Z"
    },
    "hidden": true
   },
   "outputs": [],
   "source": [
    "#,callbacks=[ModelCheckpoint('ft_vgg_model_weights.hdf5', bsave_best_only=True)]\n",
    "s_model.fit_generator(combined_iter, steps_per_epoch=np.ceil(2*genuine_pairs_iterator.n//batch_size),\n",
    "                      validation_data=val_combined_iter, validation_steps=np.ceil(2*val_genuine_pairs_iterator.n//batch_size),\n",
    "                      epochs=1,\n",
    "                      callbacks=[lr_finder])"
   ]
  },
  {
   "cell_type": "code",
   "execution_count": null,
   "metadata": {
    "ExecuteTime": {
     "end_time": "2018-04-17T16:13:06.276332Z",
     "start_time": "2018-04-17T16:13:05.964502Z"
    },
    "hidden": true
   },
   "outputs": [],
   "source": [
    "lr_finder.plot_loss()"
   ]
  },
  {
   "cell_type": "code",
   "execution_count": null,
   "metadata": {
    "ExecuteTime": {
     "end_time": "2018-04-17T16:30:43.934708Z",
     "start_time": "2018-04-17T16:30:43.931696Z"
    },
    "hidden": true
   },
   "outputs": [],
   "source": [
    "clr_triangular = CyclicLR(mode='triangular', step_size=np.ceil(2*genuine_pairs_iterator.n//batch_size),base_lr=1e-3, max_lr=1e-2)"
   ]
  },
  {
   "cell_type": "code",
   "execution_count": null,
   "metadata": {
    "ExecuteTime": {
     "end_time": "2018-04-17T18:43:49.574473Z",
     "start_time": "2018-04-17T18:37:04.018110Z"
    },
    "hidden": true
   },
   "outputs": [],
   "source": [
    "s_model.fit_generator(combined_iter, steps_per_epoch=np.ceil(2*genuine_pairs_iterator.n//batch_size),\n",
    "                      validation_data=val_combined_iter, validation_steps=np.ceil(2*val_genuine_pairs_iterator.n//batch_size),\n",
    "                      epochs=1,\n",
    "                      callbacks=[clr_triangular, ModelCheckpoint(path+'ft_vgg_model_best_weights.hdf5', save_best_only=True)])"
   ]
  },
  {
   "cell_type": "code",
   "execution_count": null,
   "metadata": {
    "ExecuteTime": {
     "end_time": "2018-04-17T19:09:23.773541Z",
     "start_time": "2018-04-17T18:48:43.665749Z"
    },
    "hidden": true
   },
   "outputs": [],
   "source": [
    "s_model.fit_generator(combined_iter, steps_per_epoch=np.ceil(2*genuine_pairs_iterator.n//batch_size),\n",
    "                      validation_data=val_combined_iter, validation_steps=np.ceil(2*val_genuine_pairs_iterator.n//batch_size),\n",
    "                      epochs=3,\n",
    "                      callbacks=[clr_triangular, ModelCheckpoint(path+'ft_vgg_model_best_weights.hdf5', save_best_only=True)])"
   ]
  },
  {
   "cell_type": "markdown",
   "metadata": {},
   "source": [
    "#### ResNet model"
   ]
  },
  {
   "cell_type": "code",
   "execution_count": null,
   "metadata": {
    "ExecuteTime": {
     "end_time": "2018-04-17T19:34:00.818118Z",
     "start_time": "2018-04-17T19:33:53.884499Z"
    }
   },
   "outputs": [],
   "source": [
    "#K.set_value(s_model_rn.optimizer.lr,1e-3)"
   ]
  },
  {
   "cell_type": "code",
   "execution_count": null,
   "metadata": {},
   "outputs": [],
   "source": [
    "#s_model_rn.optimizer.lr=K.variable(1e-3)"
   ]
  },
  {
   "cell_type": "code",
   "execution_count": null,
   "metadata": {
    "ExecuteTime": {
     "start_time": "2018-04-17T20:10:12.600Z"
    }
   },
   "outputs": [
    {
     "name": "stdout",
     "output_type": "stream",
     "text": [
      "Epoch 1/1\n"
     ]
    }
   ],
   "source": [
    "s_model_rn.fit_generator(combined_iter, steps_per_epoch=np.ceil(2*genuine_pairs_iterator.n//batch_size), epochs=1)\n"
   ]
  },
  {
   "cell_type": "code",
   "execution_count": null,
   "metadata": {
    "ExecuteTime": {
     "start_time": "2018-04-17T20:06:06.887Z"
    }
   },
   "outputs": [],
   "source": [
    "s_model_rn.fit_generator(combined_iter, steps_per_epoch=np.ceil(2*genuine_pairs_iterator.n//batch_size),\n",
    "                      validation_data=val_combined_iter, validation_steps=np.ceil(2*val_genuine_pairs_iterator.n//batch_size),\n",
    "                      epochs=1,\n",
    "                      callbacks=[ModelCheckpoint(path+'ft_resnet_model_best_weights.hdf5', save_best_only=True)])"
   ]
  },
  {
   "cell_type": "markdown",
   "metadata": {
    "heading_collapsed": true
   },
   "source": [
    "#### Convolution precomputed model"
   ]
  },
  {
   "cell_type": "code",
   "execution_count": null,
   "metadata": {
    "ExecuteTime": {
     "end_time": "2018-04-10T20:54:20.486372Z",
     "start_time": "2018-04-10T20:51:13.342599Z"
    },
    "hidden": true
   },
   "outputs": [],
   "source": [
    "s_model_pcc.optimizer.lr=1e-1\n",
    "s_model_pcc.fit_generator(combined_iter_pcc, steps_per_epoch=2*genuine_pairs_iterator_pcc.n//batch_size, epochs=3, validation_data=val_combined_iter_pcc, \n",
    "                      validation_steps=2*val_genuine_pairs_iterator_pcc.n//batch_size)"
   ]
  },
  {
   "cell_type": "code",
   "execution_count": null,
   "metadata": {
    "ExecuteTime": {
     "end_time": "2018-04-10T20:50:31.312723Z",
     "start_time": "2018-04-10T20:47:24.590341Z"
    },
    "hidden": true
   },
   "outputs": [],
   "source": [
    "s_model_pcc.optimizer.lr=1e-3\n",
    "s_model_pcc.fit_generator(combined_iter_pcc, steps_per_epoch=2*genuine_pairs_iterator_pcc.n//batch_size, epochs=3, validation_data=val_combined_iter_pcc, \n",
    "                      validation_steps=2*val_genuine_pairs_iterator_pcc.n//batch_size)"
   ]
  },
  {
   "cell_type": "markdown",
   "metadata": {
    "heading_collapsed": true
   },
   "source": [
    "### Save weights"
   ]
  },
  {
   "cell_type": "code",
   "execution_count": null,
   "metadata": {
    "ExecuteTime": {
     "end_time": "2018-04-05T21:18:28.675257Z",
     "start_time": "2018-04-05T21:18:28.433037Z"
    },
    "hidden": true
   },
   "outputs": [],
   "source": [
    "model.save_weights(path+'ft_vgg_model_weights.hdf5')"
   ]
  },
  {
   "cell_type": "markdown",
   "metadata": {},
   "source": [
    "### Load weights"
   ]
  },
  {
   "cell_type": "code",
   "execution_count": null,
   "metadata": {
    "ExecuteTime": {
     "end_time": "2018-04-17T18:16:45.800287Z",
     "start_time": "2018-04-17T18:16:44.154192Z"
    }
   },
   "outputs": [],
   "source": [
    "model.load_weights(path+'ft_vgg_model_weights.hdf5')"
   ]
  },
  {
   "cell_type": "markdown",
   "metadata": {},
   "source": [
    "### How good is VGG16 model?"
   ]
  },
  {
   "cell_type": "markdown",
   "metadata": {
    "heading_collapsed": true
   },
   "source": [
    "#### Make KNN for classifier for known whales"
   ]
  },
  {
   "cell_type": "markdown",
   "metadata": {
    "hidden": true
   },
   "source": [
    "Something must be going wrong with KNN since it seems to be unhelpful despite val_loss being reasonably low and well behaved. Should I try to go through an example by hand? Draw plots? Instead of KNN, choose a representative of each whale?"
   ]
  },
  {
   "cell_type": "code",
   "execution_count": null,
   "metadata": {
    "ExecuteTime": {
     "end_time": "2018-04-05T15:36:26.616657Z",
     "start_time": "2018-04-05T15:35:27.624922Z"
    },
    "hidden": true
   },
   "outputs": [],
   "source": [
    "def a(idx):\n",
    "    return img_to_array(load_img(os.path.join(train_path, ind2dir[idx], ind2fn[idx]),grayscale=False,target_size=target_size), data_format=\"channels_first\")\n",
    "arr = np.stack([a(idx) for idx in range(first_kw_idx,num_whales)])"
   ]
  },
  {
   "cell_type": "code",
   "execution_count": null,
   "metadata": {
    "ExecuteTime": {
     "end_time": "2018-04-05T16:34:46.540240Z",
     "start_time": "2018-04-05T16:34:17.868927Z"
    },
    "hidden": true
   },
   "outputs": [],
   "source": [
    "X = model.predict(arr)"
   ]
  },
  {
   "cell_type": "code",
   "execution_count": null,
   "metadata": {
    "ExecuteTime": {
     "end_time": "2018-04-05T16:34:46.547233Z",
     "start_time": "2018-04-05T16:34:46.541217Z"
    },
    "hidden": true
   },
   "outputs": [],
   "source": [
    "y = np.array([ind2dir[idx] for idx in range(first_kw_idx,num_whales)])"
   ]
  },
  {
   "cell_type": "code",
   "execution_count": null,
   "metadata": {
    "ExecuteTime": {
     "end_time": "2018-04-05T16:34:46.561293Z",
     "start_time": "2018-04-05T16:34:46.548235Z"
    },
    "hidden": true
   },
   "outputs": [],
   "source": []
  },
  {
   "cell_type": "code",
   "execution_count": null,
   "metadata": {
    "ExecuteTime": {
     "end_time": "2018-04-05T16:34:46.571296Z",
     "start_time": "2018-04-05T16:34:46.562273Z"
    },
    "hidden": true
   },
   "outputs": [],
   "source": [
    "neigh = KNeighborsClassifier(n_neighbors=5, metric='manhattan')"
   ]
  },
  {
   "cell_type": "code",
   "execution_count": null,
   "metadata": {
    "ExecuteTime": {
     "end_time": "2018-04-05T16:34:46.641482Z",
     "start_time": "2018-04-05T16:34:46.573302Z"
    },
    "hidden": true
   },
   "outputs": [],
   "source": [
    "neigh.fit(X,y)"
   ]
  },
  {
   "cell_type": "markdown",
   "metadata": {
    "heading_collapsed": true
   },
   "source": [
    "#### Make means type classifier for known whales"
   ]
  },
  {
   "cell_type": "code",
   "execution_count": null,
   "metadata": {
    "ExecuteTime": {
     "end_time": "2018-04-05T14:15:25.836304Z",
     "start_time": "2018-04-05T14:14:22.356087Z"
    },
    "hidden": true
   },
   "outputs": [],
   "source": [
    "def a(idx):\n",
    "    return img_to_array(load_img(os.path.join(train_path, ind2dir[idx], ind2fn[idx]),grayscale=False,target_size=target_size), data_format=\"channels_first\")\n",
    "arr = np.stack([a(idx) for idx in range(first_kw_idx,num_whales)])\n",
    "X = model.predict(arr)"
   ]
  },
  {
   "cell_type": "code",
   "execution_count": null,
   "metadata": {
    "ExecuteTime": {
     "end_time": "2018-04-05T16:35:09.534147Z",
     "start_time": "2018-04-05T16:35:09.325593Z"
    },
    "hidden": true
   },
   "outputs": [],
   "source": [
    "dir2av_vec = {}\n",
    "for dr in dirs[1:]:\n",
    "    dir2av_vec[dr] = np.mean(X[[fn2ind[x]-first_kw_idx for x in os.listdir(train_path+dr)],:],axis=0)\n",
    "def whale_dist(emb_vec):\n",
    "    return([np.sum(np.abs(dir2av_vec[dr] - emb_vec)) for dr in dirs[1:]])"
   ]
  },
  {
   "cell_type": "code",
   "execution_count": null,
   "metadata": {
    "ExecuteTime": {
     "end_time": "2018-04-05T16:35:11.131424Z",
     "start_time": "2018-04-05T16:35:11.102347Z"
    },
    "hidden": true
   },
   "outputs": [],
   "source": [
    "whale_dist(X[2,:])"
   ]
  },
  {
   "cell_type": "code",
   "execution_count": null,
   "metadata": {
    "ExecuteTime": {
     "end_time": "2018-04-05T16:35:20.656099Z",
     "start_time": "2018-04-05T16:35:20.638078Z"
    },
    "hidden": true
   },
   "outputs": [],
   "source": [
    "(np.array(whale_dist(X[2,:])) < 2.09).sum()"
   ]
  },
  {
   "cell_type": "code",
   "execution_count": null,
   "metadata": {
    "hidden": true
   },
   "outputs": [],
   "source": []
  },
  {
   "cell_type": "markdown",
   "metadata": {
    "heading_collapsed": true
   },
   "source": [
    "#### Validation performance"
   ]
  },
  {
   "cell_type": "code",
   "execution_count": null,
   "metadata": {
    "ExecuteTime": {
     "end_time": "2018-04-05T16:34:51.653228Z",
     "start_time": "2018-04-05T16:34:46.642485Z"
    },
    "hidden": true
   },
   "outputs": [],
   "source": [
    "val_gen = image.ImageDataGenerator(data_format=\"channels_first\")\n",
    "val_iter = val_gen.flow_from_directory(validation_path, target_size = target_size, batch_size = batch_size, color_mode=\"rgb\")\n",
    "preds = model.predict_generator(val_iter)\n",
    "sorted_names = np.sort(np.unique(y))"
   ]
  },
  {
   "cell_type": "code",
   "execution_count": null,
   "metadata": {
    "ExecuteTime": {
     "end_time": "2018-04-05T16:34:51.974939Z",
     "start_time": "2018-04-05T16:34:51.655061Z"
    },
    "hidden": true
   },
   "outputs": [],
   "source": [
    "def get_preds(emb):\n",
    "    probs = neigh.predict_proba(emb.reshape(1,-1)).reshape((-1,))\n",
    "    idx = np.flip(np.argsort(probs)[-5:],axis=0)\n",
    "    return(sorted_names[idx])\n",
    "pred_names = np.apply_along_axis(get_preds,1,preds)\n",
    "getname = np.vectorize(lambda x: ind2dir[x])\n",
    "rating = 0\n",
    "for i in range(5):\n",
    "    rating += 1/(i+1)*(pred_names[:,i] == getname(val_iter.classes)).astype(int)\n",
    "rating.sum()/val_iter.n"
   ]
  },
  {
   "cell_type": "code",
   "execution_count": null,
   "metadata": {
    "ExecuteTime": {
     "end_time": "2018-03-27T21:18:29.537162Z",
     "start_time": "2018-03-27T21:18:29.534153Z"
    },
    "hidden": true
   },
   "outputs": [],
   "source": [
    "0.0022123893805309734\n",
    "0.002433628318584071"
   ]
  },
  {
   "cell_type": "code",
   "execution_count": null,
   "metadata": {
    "ExecuteTime": {
     "end_time": "2018-03-22T21:08:04.827531Z",
     "start_time": "2018-03-22T21:08:04.823521Z"
    },
    "hidden": true
   },
   "outputs": [],
   "source": [
    "(val_iter.classes>0).sum()/val_iter.n"
   ]
  },
  {
   "cell_type": "code",
   "execution_count": null,
   "metadata": {
    "ExecuteTime": {
     "end_time": "2018-03-22T23:35:11.225293Z",
     "start_time": "2018-03-22T23:35:11.222259Z"
    },
    "hidden": true
   },
   "outputs": [],
   "source": [
    "2*(1/1)/val_iter.n"
   ]
  },
  {
   "cell_type": "markdown",
   "metadata": {
    "hidden": true
   },
   "source": [
    "##### Base"
   ]
  },
  {
   "cell_type": "code",
   "execution_count": null,
   "metadata": {
    "ExecuteTime": {
     "end_time": "2018-03-20T20:50:40.997246Z",
     "start_time": "2018-03-20T20:50:40.990231Z"
    },
    "hidden": true
   },
   "outputs": [],
   "source": [
    "base_preds = np.repeat(np.array(['new_whale', 'w_1287fbc', 'w_98baff9', 'w_7554f44', 'w_1eafe46']).reshape(1,-1), val_iter.n, axis=0)\n",
    "for i in range(5):\n",
    "    rating += 1/(i+1)*(base_preds[:,i] == getname(val_iter.classes)).astype(int)\n",
    "rating.sum()/val_iter.n"
   ]
  },
  {
   "cell_type": "markdown",
   "metadata": {},
   "source": [
    "### How good it VGG16_pcc model?"
   ]
  },
  {
   "cell_type": "code",
   "execution_count": null,
   "metadata": {
    "ExecuteTime": {
     "end_time": "2018-04-10T20:50:39.071020Z",
     "start_time": "2018-04-10T20:50:37.532927Z"
    }
   },
   "outputs": [],
   "source": [
    "X = fc_model.predict(conv_features[first_kw_idx:])\n",
    "y = np.array([ind2dir[idx] for idx in range(first_kw_idx,num_whales)])\n",
    "neigh = KNeighborsClassifier(n_neighbors=5, metric='manhattan')\n",
    "neigh.fit(X,y)"
   ]
  },
  {
   "cell_type": "code",
   "execution_count": null,
   "metadata": {
    "ExecuteTime": {
     "end_time": "2018-04-10T20:50:40.660242Z",
     "start_time": "2018-04-10T20:50:39.072028Z"
    }
   },
   "outputs": [],
   "source": [
    "preds = fc_model.predict(conv_features_val)\n",
    "sorted_names = np.sort(np.unique(y))\n",
    "def get_preds(emb):\n",
    "    probs = neigh.predict_proba(emb.reshape(1,-1)).reshape((-1,))\n",
    "    idx = np.flip(np.argsort(probs)[-5:],axis=0)\n",
    "    return(sorted_names[idx])\n",
    "pred_names = np.apply_along_axis(get_preds,1,preds)\n",
    "getname = np.vectorize(lambda x: ind2dir[x])\n",
    "rating = 0\n",
    "for i in range(5):\n",
    "    rating += 1/(i+1)*(pred_names[:,i] == getname(val_iter.classes)).astype(int)\n",
    "rating.sum()/val_iter.n"
   ]
  },
  {
   "cell_type": "code",
   "execution_count": null,
   "metadata": {},
   "outputs": [],
   "source": []
  },
  {
   "cell_type": "markdown",
   "metadata": {
    "heading_collapsed": true
   },
   "source": [
    "### Figure out threshold for new_whale <font color=\"red\"> Is that needed?</font>"
   ]
  },
  {
   "cell_type": "code",
   "execution_count": null,
   "metadata": {
    "ExecuteTime": {
     "end_time": "2018-03-27T22:31:20.954491Z",
     "start_time": "2018-03-27T22:31:20.846203Z"
    },
    "hidden": true
   },
   "outputs": [],
   "source": [
    "batch = next(val_genuine_pairs_iterator)\n",
    "s_model.predict(batch[0])"
   ]
  },
  {
   "cell_type": "code",
   "execution_count": null,
   "metadata": {
    "ExecuteTime": {
     "end_time": "2018-03-27T22:31:57.003410Z",
     "start_time": "2018-03-27T22:31:56.941247Z"
    },
    "hidden": true
   },
   "outputs": [],
   "source": [
    "batch = next(val_k_impostor_pairs_iterator)\n",
    "s_model.predict(batch[0])"
   ]
  },
  {
   "cell_type": "code",
   "execution_count": null,
   "metadata": {
    "ExecuteTime": {
     "end_time": "2018-03-27T22:31:57.406861Z",
     "start_time": "2018-03-27T22:31:57.342691Z"
    },
    "hidden": true
   },
   "outputs": [],
   "source": [
    "batch = next(val_n_impostor_pairs_iterator)\n",
    "s_model.predict(batch[0])"
   ]
  },
  {
   "cell_type": "markdown",
   "metadata": {
    "heading_collapsed": true
   },
   "source": [
    "## Submit something"
   ]
  },
  {
   "cell_type": "code",
   "execution_count": null,
   "metadata": {
    "ExecuteTime": {
     "end_time": "2018-03-15T14:11:10.987063Z",
     "start_time": "2018-03-15T14:10:59.860460Z"
    },
    "hidden": true
   },
   "outputs": [],
   "source": [
    "test_gen = image.ImageDataGenerator()\n",
    "test_iter = test_gen.flow_from_directory(test_path, target_size = target_size, batch_size = batch_size, color_mode = 'grayscale')"
   ]
  },
  {
   "cell_type": "markdown",
   "metadata": {
    "hidden": true
   },
   "source": [
    "### Get predictions"
   ]
  },
  {
   "cell_type": "code",
   "execution_count": null,
   "metadata": {
    "ExecuteTime": {
     "end_time": "2018-03-15T14:18:09.182976Z",
     "start_time": "2018-03-15T14:11:14.580844Z"
    },
    "hidden": true
   },
   "outputs": [],
   "source": [
    "preds = model.predict_generator(test_iter)"
   ]
  },
  {
   "cell_type": "code",
   "execution_count": null,
   "metadata": {
    "ExecuteTime": {
     "end_time": "2018-03-15T14:44:34.413636Z",
     "start_time": "2018-03-15T14:44:34.407594Z"
    },
    "hidden": true
   },
   "outputs": [],
   "source": [
    "sorted_names = np.sort(np.unique(y))\n",
    "def get_preds(emb):\n",
    "    probs = neigh.predict_proba(emb.reshape(1,-1)).reshape((-1,))\n",
    "    idx = np.flip(np.argsort(probs)[-4:],axis=0)\n",
    "    return(np.concatenate([np.array(['new_whale']),sorted_names[idx]]))"
   ]
  },
  {
   "cell_type": "code",
   "execution_count": null,
   "metadata": {
    "ExecuteTime": {
     "end_time": "2018-03-15T14:44:45.629970Z",
     "start_time": "2018-03-15T14:44:37.079119Z"
    },
    "hidden": true
   },
   "outputs": [],
   "source": [
    "pred_names = np.apply_along_axis(get_preds,1,preds)"
   ]
  },
  {
   "cell_type": "markdown",
   "metadata": {
    "hidden": true
   },
   "source": [
    "### Get ids"
   ]
  },
  {
   "cell_type": "code",
   "execution_count": null,
   "metadata": {
    "ExecuteTime": {
     "end_time": "2018-03-15T14:44:45.635866Z",
     "start_time": "2018-03-15T14:44:45.630881Z"
    },
    "hidden": true
   },
   "outputs": [],
   "source": [
    "filenames = test_iter.filenames\n",
    "ids = np.array([f[10:] for f in filenames])"
   ]
  },
  {
   "cell_type": "code",
   "execution_count": null,
   "metadata": {
    "ExecuteTime": {
     "end_time": "2018-03-15T14:44:45.646896Z",
     "start_time": "2018-03-15T14:44:45.636869Z"
    },
    "hidden": true
   },
   "outputs": [],
   "source": [
    "ids"
   ]
  },
  {
   "cell_type": "markdown",
   "metadata": {
    "hidden": true
   },
   "source": [
    "### Make file"
   ]
  },
  {
   "cell_type": "code",
   "execution_count": null,
   "metadata": {
    "ExecuteTime": {
     "end_time": "2018-03-15T14:44:45.656922Z",
     "start_time": "2018-03-15T14:44:45.647898Z"
    },
    "hidden": true
   },
   "outputs": [],
   "source": [
    "subm = np.concatenate([ids.reshape(-1,1), pred_names],axis=1)"
   ]
  },
  {
   "cell_type": "code",
   "execution_count": null,
   "metadata": {
    "ExecuteTime": {
     "end_time": "2018-03-15T14:44:45.732148Z",
     "start_time": "2018-03-15T14:44:45.658928Z"
    },
    "hidden": true
   },
   "outputs": [],
   "source": [
    "np.savetxt('submission_siam_3.csv', subm, fmt = '%s, %s %s %s %s %s', header = 'Image,Id', comments = '')"
   ]
  },
  {
   "cell_type": "markdown",
   "metadata": {
    "heading_collapsed": true
   },
   "source": [
    "# Evaluate model on training data"
   ]
  },
  {
   "cell_type": "code",
   "execution_count": null,
   "metadata": {
    "ExecuteTime": {
     "end_time": "2018-02-20T16:35:44.202681Z",
     "start_time": "2018-02-20T16:35:43.268844Z"
    },
    "hidden": true
   },
   "outputs": [],
   "source": [
    "eval_gen = image.ImageDataGenerator()\n",
    "eval_iter = eval_gen.flow_from_directory(train_path, target_size = (128,128), batch_size = batch_size, color_mode = 'grayscale')"
   ]
  },
  {
   "cell_type": "markdown",
   "metadata": {
    "hidden": true
   },
   "source": [
    "## Use 'model'"
   ]
  },
  {
   "cell_type": "code",
   "execution_count": null,
   "metadata": {
    "ExecuteTime": {
     "end_time": "2018-02-13T22:01:39.612911Z",
     "start_time": "2018-02-13T22:00:53.348330Z"
    },
    "hidden": true
   },
   "outputs": [],
   "source": [
    "eval_preds = model.predict_generator(eval_iter)\n",
    "best_preds_idx = np.fliplr(np.argsort(eval_preds, axis=1)[:,-5:])"
   ]
  },
  {
   "cell_type": "code",
   "execution_count": null,
   "metadata": {
    "ExecuteTime": {
     "end_time": "2018-02-13T22:01:39.618927Z",
     "start_time": "2018-02-13T22:01:39.613927Z"
    },
    "hidden": true
   },
   "outputs": [],
   "source": [
    "map_loss(eval_iter.classes, best_preds_idx)"
   ]
  },
  {
   "cell_type": "markdown",
   "metadata": {
    "hidden": true
   },
   "source": [
    "## Base model"
   ]
  },
  {
   "cell_type": "code",
   "execution_count": null,
   "metadata": {
    "ExecuteTime": {
     "end_time": "2018-02-20T16:39:17.479023Z",
     "start_time": "2018-02-20T16:39:17.475989Z"
    },
    "hidden": true
   },
   "outputs": [],
   "source": [
    "base_preds = np.repeat(np.array([eval_iter.class_indices[z] for z in ['new_whale', 'w_1287fbc', 'w_98baff9', 'w_7554f44', 'w_1eafe46']]).reshape(1,-1), eval_iter.n, axis=0)"
   ]
  },
  {
   "cell_type": "code",
   "execution_count": null,
   "metadata": {
    "ExecuteTime": {
     "end_time": "2018-02-20T16:39:37.799906Z",
     "start_time": "2018-02-20T16:39:37.795869Z"
    },
    "hidden": true
   },
   "outputs": [],
   "source": [
    "map_loss(eval_iter.classes, base_preds)"
   ]
  },
  {
   "cell_type": "markdown",
   "metadata": {
    "hidden": true
   },
   "source": [
    "### Is that what is supposed to be happening? The score is much higher on Kaggle test set..."
   ]
  },
  {
   "cell_type": "code",
   "execution_count": null,
   "metadata": {
    "ExecuteTime": {
     "end_time": "2018-02-20T16:40:24.140056Z",
     "start_time": "2018-02-20T16:40:24.132036Z"
    },
    "hidden": true
   },
   "outputs": [],
   "source": [
    "labels['Id'].value_counts()[:5]"
   ]
  },
  {
   "cell_type": "code",
   "execution_count": null,
   "metadata": {
    "ExecuteTime": {
     "end_time": "2018-02-20T16:40:36.935239Z",
     "start_time": "2018-02-20T16:40:36.932206Z"
    },
    "hidden": true
   },
   "outputs": [],
   "source": [
    "len(labels)"
   ]
  },
  {
   "cell_type": "code",
   "execution_count": null,
   "metadata": {
    "ExecuteTime": {
     "end_time": "2018-02-20T17:06:21.693350Z",
     "start_time": "2018-02-20T17:06:21.686333Z"
    },
    "hidden": true
   },
   "outputs": [],
   "source": [
    "(810+34/2+27/3+26/4+23/5)/9850"
   ]
  },
  {
   "cell_type": "code",
   "execution_count": null,
   "metadata": {
    "ExecuteTime": {
     "end_time": "2018-02-20T17:06:22.767145Z",
     "start_time": "2018-02-20T17:06:22.709992Z"
    },
    "hidden": true
   },
   "outputs": [],
   "source": [
    "import ml_metrics"
   ]
  },
  {
   "cell_type": "code",
   "execution_count": null,
   "metadata": {
    "hidden": true
   },
   "outputs": [],
   "source": []
  },
  {
   "cell_type": "markdown",
   "metadata": {
    "heading_collapsed": true
   },
   "source": [
    "# Submit predictions"
   ]
  },
  {
   "cell_type": "markdown",
   "metadata": {
    "hidden": true
   },
   "source": [
    "## Generate predictions"
   ]
  },
  {
   "cell_type": "code",
   "execution_count": null,
   "metadata": {
    "ExecuteTime": {
     "end_time": "2018-02-13T16:35:12.832083Z",
     "start_time": "2018-02-13T16:35:12.827069Z"
    },
    "hidden": true
   },
   "outputs": [],
   "source": [
    "import bcolz\n",
    "def save_array(fname, arr):\n",
    "    c=bcolz.carray(arr, rootdir=fname, mode='w')\n",
    "    c.flush()\n",
    "def load_array(fname):\n",
    "    return bcolz.open(fname)[:]"
   ]
  },
  {
   "cell_type": "code",
   "execution_count": null,
   "metadata": {
    "ExecuteTime": {
     "end_time": "2018-02-13T16:23:08.413107Z",
     "start_time": "2018-02-13T16:23:07.881893Z"
    },
    "hidden": true
   },
   "outputs": [],
   "source": [
    "test_gen = image.ImageDataGenerator()\n",
    "test_iter = test_gen.flow_from_directory(test_path, target_size = (128,128), batch_size = batch_size, color_mode = 'grayscale')"
   ]
  },
  {
   "cell_type": "code",
   "execution_count": null,
   "metadata": {
    "ExecuteTime": {
     "end_time": "2018-02-13T16:33:44.122926Z",
     "start_time": "2018-02-13T16:27:53.564092Z"
    },
    "hidden": true
   },
   "outputs": [],
   "source": [
    "preds = model.predict_generator(test_iter)"
   ]
  },
  {
   "cell_type": "code",
   "execution_count": null,
   "metadata": {
    "ExecuteTime": {
     "end_time": "2018-02-13T16:35:33.885385Z",
     "start_time": "2018-02-13T16:35:33.883338Z"
    },
    "hidden": true
   },
   "outputs": [],
   "source": [
    "filenames = test_iter.filenames"
   ]
  },
  {
   "cell_type": "code",
   "execution_count": null,
   "metadata": {
    "ExecuteTime": {
     "end_time": "2018-02-13T16:36:26.143385Z",
     "start_time": "2018-02-13T16:36:24.635245Z"
    },
    "hidden": true
   },
   "outputs": [],
   "source": [
    "save_array('preds.dat', preds)\n",
    "save_array('filenames.dat', filenames)"
   ]
  },
  {
   "cell_type": "markdown",
   "metadata": {
    "hidden": true
   },
   "source": [
    "## Make output file"
   ]
  },
  {
   "cell_type": "code",
   "execution_count": null,
   "metadata": {
    "ExecuteTime": {
     "end_time": "2018-02-13T17:23:30.083859Z",
     "start_time": "2018-02-13T17:23:30.077842Z"
    },
    "hidden": true
   },
   "outputs": [],
   "source": [
    "ids = np.array([f[8:] for f in filenames])"
   ]
  },
  {
   "cell_type": "code",
   "execution_count": null,
   "metadata": {
    "ExecuteTime": {
     "end_time": "2018-02-13T16:57:21.183570Z",
     "start_time": "2018-02-13T16:57:21.180547Z"
    },
    "hidden": true
   },
   "outputs": [],
   "source": [
    "cl_names = {ind : name for name,ind in aug_img_iter.class_indices.items()}"
   ]
  },
  {
   "cell_type": "code",
   "execution_count": null,
   "metadata": {
    "ExecuteTime": {
     "end_time": "2018-02-13T17:09:46.004167Z",
     "start_time": "2018-02-13T17:09:42.829599Z"
    },
    "hidden": true
   },
   "outputs": [],
   "source": [
    "best_preds_idx = np.fliplr(np.argsort(preds, axis=1)[:,-5:])"
   ]
  },
  {
   "cell_type": "code",
   "execution_count": null,
   "metadata": {
    "ExecuteTime": {
     "end_time": "2018-02-13T17:10:13.167533Z",
     "start_time": "2018-02-13T17:10:13.165528Z"
    },
    "hidden": true
   },
   "outputs": [],
   "source": [
    "f = lambda x: cl_names[x]\n",
    "f = np.vectorize(f)"
   ]
  },
  {
   "cell_type": "code",
   "execution_count": null,
   "metadata": {
    "ExecuteTime": {
     "end_time": "2018-02-13T17:23:34.491792Z",
     "start_time": "2018-02-13T17:23:34.461737Z"
    },
    "hidden": true
   },
   "outputs": [],
   "source": [
    "subm = np.concatenate([ids.reshape(-1,1), f(best_preds_idx)],axis=1)"
   ]
  },
  {
   "cell_type": "code",
   "execution_count": null,
   "metadata": {
    "ExecuteTime": {
     "end_time": "2018-02-13T17:23:35.858607Z",
     "start_time": "2018-02-13T17:23:35.774384Z"
    },
    "hidden": true
   },
   "outputs": [],
   "source": [
    "np.savetxt('submission.csv', subm, fmt = '%s, %s %s %s %s %s', header = 'Image,Id', comments = '')"
   ]
  },
  {
   "cell_type": "code",
   "execution_count": null,
   "metadata": {
    "hidden": true
   },
   "outputs": [],
   "source": []
  },
  {
   "cell_type": "code",
   "execution_count": null,
   "metadata": {
    "hidden": true
   },
   "outputs": [],
   "source": []
  }
 ],
 "metadata": {
  "kernelspec": {
   "display_name": "Python 3",
   "language": "python",
   "name": "python3"
  },
  "language_info": {
   "codemirror_mode": {
    "name": "ipython",
    "version": 3
   },
   "file_extension": ".py",
   "mimetype": "text/x-python",
   "name": "python",
   "nbconvert_exporter": "python",
   "pygments_lexer": "ipython3",
   "version": "3.6.3"
  },
  "toc": {
   "nav_menu": {
    "height": "388px",
    "width": "802px"
   },
   "number_sections": true,
   "sideBar": true,
   "skip_h1_title": false,
   "toc_cell": false,
   "toc_position": {},
   "toc_section_display": "block",
   "toc_window_display": false
  }
 },
 "nbformat": 4,
 "nbformat_minor": 2
}
